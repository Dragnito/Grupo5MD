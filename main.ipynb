{
 "cells": [
  {
   "cell_type": "code",
   "execution_count": 8,
   "metadata": {},
   "outputs": [],
   "source": [
    "# 1- Importar el archivo csv y extraer las variables Total_Score, Study_hours_per_Week y Attendance(%)\n",
    "# 2- Limpiar datos aplicando al menos un algoritmo de deteccion de outliers\n",
    "# 3- Normalizar/estandarizar datos\n",
    "# 4- Agrupamiento K-means\n",
    "# 5- Etiquetado y descripcion de clusters "
   ]
  },
  {
   "cell_type": "code",
   "execution_count": null,
   "metadata": {},
   "outputs": [
    {
     "name": "stdout",
     "output_type": "stream",
     "text": [
      "<bound method NDFrame.head of       Total_Score  Study_Hours_per_Week  Attendance (%)\n",
      "0           56.09                   6.2           52.29\n",
      "1           50.64                  19.0           97.27\n",
      "2           70.30                  20.7           57.19\n",
      "3           61.63                  24.8           95.15\n",
      "4           66.13                  15.4           54.18\n",
      "...           ...                   ...             ...\n",
      "4995        85.21                  25.5             NaN\n",
      "4996        95.96                   5.0           65.11\n",
      "4997        54.25                  24.8           87.54\n",
      "4998        55.84                  16.1           92.56\n",
      "4999        77.86                  29.2           83.92\n",
      "\n",
      "[5000 rows x 3 columns]>\n"
     ]
    }
   ],
   "source": [
    "import pandas as pd\n",
    "datos = pd.read_csv(\"datos.csv\")\n",
    "\n",
    "datosR= datos[['Total_Score','Study_Hours_per_Week', 'Attendance (%)' ]]\n",
    "\n"
   ]
  },
  {
   "cell_type": "code",
   "execution_count": null,
   "metadata": {},
   "outputs": [],
   "source": []
  }
 ],
 "metadata": {
  "kernelspec": {
   "display_name": "Python 3",
   "language": "python",
   "name": "python3"
  },
  "language_info": {
   "codemirror_mode": {
    "name": "ipython",
    "version": 3
   },
   "file_extension": ".py",
   "mimetype": "text/x-python",
   "name": "python",
   "nbconvert_exporter": "python",
   "pygments_lexer": "ipython3",
   "version": "3.11.2"
  }
 },
 "nbformat": 4,
 "nbformat_minor": 2
}
