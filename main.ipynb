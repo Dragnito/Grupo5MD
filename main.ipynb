{
 "cells": [
  {
   "cell_type": "code",
   "execution_count": null,
   "metadata": {},
   "outputs": [],
   "source": [
    "# 1- Importar el archivo csv y extraer las variables Total_Score, Study_hours_per_Week y Attendance(%)\n",
    "# 2- Limpiar datos aplicando al menos un algoritmo de deteccion de outliers\n",
    "# 3- Normalizar/estandarizar datos\n",
    "# 4- Agrupamiento K-means\n",
    "# 5- Etiquetado y descripcion de clusters "
   ]
  }
 ],
 "metadata": {
  "language_info": {
   "name": "python"
  }
 },
 "nbformat": 4,
 "nbformat_minor": 2
}
