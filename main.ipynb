{
 "cells": [
  {
   "cell_type": "code",
   "execution_count": 12,
   "metadata": {},
   "outputs": [],
   "source": [
    "# 1- Importar el archivo csv y extraer las variables Total_Score, Study_hours_per_Week y Attendance(%)\n",
    "# 2- Limpiar datos aplicando al menos un algoritmo de deteccion de outliers\n",
    "# 3- Normalizar/estandarizar datos\n",
    "# 4- Agrupamiento K-means\n",
    "# 5- Etiquetado y descripcion de clusters "
   ]
  },
  {
   "cell_type": "code",
   "execution_count": 13,
   "metadata": {},
   "outputs": [
    {
     "name": "stdout",
     "output_type": "stream",
     "text": [
      "5000\n"
     ]
    }
   ],
   "source": [
    "import pandas as pd\n",
    "datos = pd.read_csv(\"datos.csv\")\n",
    "\n",
    "datosR= datos[['Total_Score','Study_Hours_per_Week', 'Attendance (%)' ]]\n",
    "print(len(datosR))"
   ]
  },
  {
   "cell_type": "code",
   "execution_count": null,
   "metadata": {},
   "outputs": [
    {
     "name": "stdout",
     "output_type": "stream",
     "text": [
      "Datos después de eliminar outliers:\n",
      "   Total_Score  Study_Hours_per_Week  Attendance (%)\n",
      "0        56.09                   6.2           52.29\n",
      "1        50.64                  19.0           97.27\n",
      "2        70.30                  20.7           57.19\n",
      "3        61.63                  24.8           95.15\n",
      "4        66.13                  15.4           54.18\n",
      "4259\n"
     ]
    }
   ],
   "source": [
    "# Limpieza de datos utilizando el algoritmo LOF (Local Outlier Factor)\n",
    "from sklearn.neighbors import LocalOutlierFactor\n",
    "\n",
    "# Manejar valores faltantes antes de aplicar LOF\n",
    "datosR_cleaned = datosR.dropna()  # Eliminar filas con valores faltantes\n",
    "\n",
    "# Aplicar LOF para detectar outliers\n",
    "lof = LocalOutlierFactor(n_neighbors=20, contamination=0.05)\n",
    "outlier_flags = lof.fit_predict(datosR_cleaned)\n",
    "\n",
    "# Filtrar los datos para eliminar los outliers\n",
    "datosR_sin_outliers = datosR_cleaned[outlier_flags == 1]\n",
    "\n",
    "# Mostrar los datos después de eliminar los outliers\n",
    "print(\"Datos después de eliminar outliers:\")\n",
    "print(datosR_sin_outliers.head())\n"
   ]
  },
  {
   "cell_type": "code",
   "execution_count": 15,
   "metadata": {},
   "outputs": [
    {
     "name": "stdout",
     "output_type": "stream",
     "text": [
      "Datos Normalizados:\n",
      "   Total_Score  Study_Hours_per_Week  Attendance (%)\n",
      "0     0.121473                 0.048        0.045609\n",
      "1     0.012407                 0.560        0.945389\n",
      "2     0.405844                 0.628        0.143629\n",
      "3     0.232339                 0.792        0.902981\n",
      "4     0.322393                 0.416        0.083417\n",
      "\n",
      "Datos Estandarizados:\n",
      "   Total_Score  Study_Hours_per_Week  Attendance (%)\n",
      "0    -1.321791             -1.575071       -1.610303\n",
      "1    -1.700302              0.184346        1.519646\n",
      "2    -0.334882              0.418018       -1.269335\n",
      "3    -0.937028              0.981582        1.372125\n",
      "4    -0.624496             -0.310490       -1.478787\n"
     ]
    }
   ],
   "source": [
    "#Normalizacion de los datos:\n",
    "#Si no tienen sklearn, Utilicen el comando\n",
    "#pip install scikit-learn\n",
    "\n",
    "from sklearn.preprocessing import MinMaxScaler, StandardScaler\n",
    "\n",
    "# Normalización (MinMaxScaler)\n",
    "scaler_minmax = MinMaxScaler()\n",
    "datos_normalizados = scaler_minmax.fit_transform(datosR_sin_outliers)\n",
    "\n",
    "# Convertir el resultado de la normalización a DataFrame\n",
    "datos_normalizados_df = pd.DataFrame(datos_normalizados, columns=['Total_Score', 'Study_Hours_per_Week', 'Attendance (%)'])\n",
    "\n",
    "# Estandarización (StandardScaler)\n",
    "scaler_standard = StandardScaler()\n",
    "datos_estandarizados = scaler_standard.fit_transform(datosR)\n",
    "\n",
    "# Convertir el resultado de la estandarización a DataFrame\n",
    "datos_estandarizados_df = pd.DataFrame(datos_estandarizados, columns=['Total_Score', 'Study_Hours_per_Week', 'Attendance (%)'])\n",
    "\n",
    "# Mostrar resultados (Los primeros 4 datos)\n",
    "print(\"Datos Normalizados:\")\n",
    "print(datos_normalizados_df.head())\n",
    "\n",
    "print(\"\\nDatos Estandarizados:\")\n",
    "print(datos_estandarizados_df.head())\n",
    "\n",
    "#IMPORTANTEEEEEEEEEEEEEEEEEEEEEEEEEEEEEEEEEEEEEEEEEEEEEEEEEEEEEEEEEEEEEEEEEEEEEEEEEEEEEEEEEEEEEEEEEEEEEEEEEEEEEoeoeoeoeoepotoeoeoeo\n",
    "#Solo necesitamos los datos estandarizados O normalizados\n",
    "#Se debe elegir si utilizar los datos normalizados O estandarizados, y porque "
   ]
  }
 ],
 "metadata": {
  "kernelspec": {
   "display_name": "Python 3",
   "language": "python",
   "name": "python3"
  },
  "language_info": {
   "codemirror_mode": {
    "name": "ipython",
    "version": 3
   },
   "file_extension": ".py",
   "mimetype": "text/x-python",
   "name": "python",
   "nbconvert_exporter": "python",
   "pygments_lexer": "ipython3",
   "version": "3.11.2"
  }
 },
 "nbformat": 4,
 "nbformat_minor": 2
}
