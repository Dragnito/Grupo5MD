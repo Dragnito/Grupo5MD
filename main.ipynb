{
 "cells": [
  {
   "cell_type": "code",
   "execution_count": 4,
   "metadata": {},
   "outputs": [],
   "source": [
    "# 1- Importar el archivo csv y extraer las variables Total_Score, Study_hours_per_Week y Attendance(%)\n",
    "# 2- Limpiar datos aplicando al menos un algoritmo de deteccion de outliers\n",
    "# 3- Normalizar/estandarizar datos\n",
    "# 4- Agrupamiento K-means\n",
    "# 5- Etiquetado y descripcion de clusters "
   ]
  },
  {
   "cell_type": "code",
   "execution_count": 5,
   "metadata": {},
   "outputs": [
    {
     "name": "stdout",
     "output_type": "stream",
     "text": [
      "<bound method NDFrame.head of      Student_ID First_Name Last_Name                       Email  Gender  Age  \\\n",
      "0         S1000       Omar  Williams     student0@university.com  Female   22   \n",
      "1         S1001      Maria     Brown     student1@university.com    Male   18   \n",
      "2         S1002      Ahmed     Jones     student2@university.com    Male   24   \n",
      "3         S1003       Omar  Williams     student3@university.com  Female   24   \n",
      "4         S1004       John     Smith     student4@university.com  Female   23   \n",
      "...         ...        ...       ...                         ...     ...  ...   \n",
      "4995      S5995      Ahmed     Jones  student4995@university.com    Male   19   \n",
      "4996      S5996       Emma     Brown  student4996@university.com    Male   19   \n",
      "4997      S5997       John     Brown  student4997@university.com  Female   24   \n",
      "4998      S5998       Sara     Davis  student4998@university.com    Male   23   \n",
      "4999      S5999      Maria     Brown  student4999@university.com  Female   21   \n",
      "\n",
      "       Department  Attendance (%)  Midterm_Score  Final_Score  ...  \\\n",
      "0     Engineering           52.29          55.03        57.82  ...   \n",
      "1     Engineering           97.27          97.23        45.80  ...   \n",
      "2        Business           57.19          67.05        93.68  ...   \n",
      "3     Mathematics           95.15          47.79        80.63  ...   \n",
      "4              CS           54.18          46.59        78.89  ...   \n",
      "...           ...             ...            ...          ...  ...   \n",
      "4995     Business             NaN          82.15        60.33  ...   \n",
      "4996     Business           65.11          86.31        49.80  ...   \n",
      "4997           CS           87.54          63.55        64.21  ...   \n",
      "4998           CS           92.56          79.79        94.28  ...   \n",
      "4999  Engineering           83.92          83.24        53.47  ...   \n",
      "\n",
      "      Projects_Score  Total_Score  Grade  Study_Hours_per_Week  \\\n",
      "0              85.90        56.09      F                   6.2   \n",
      "1              55.65        50.64      A                  19.0   \n",
      "2              73.79        70.30      D                  20.7   \n",
      "3              92.12        61.63      A                  24.8   \n",
      "4              68.42        66.13      F                  15.4   \n",
      "...              ...          ...    ...                   ...   \n",
      "4995           58.42        85.21      D                  25.5   \n",
      "4996           60.87        95.96      C                   5.0   \n",
      "4997           82.65        54.25      A                  24.8   \n",
      "4998           94.29        55.84      A                  16.1   \n",
      "4999           69.25        77.86      F                  29.2   \n",
      "\n",
      "      Extracurricular_Activities Internet_Access_at_Home  \\\n",
      "0                             No                     Yes   \n",
      "1                             No                     Yes   \n",
      "2                             No                     Yes   \n",
      "3                            Yes                     Yes   \n",
      "4                            Yes                     Yes   \n",
      "...                          ...                     ...   \n",
      "4995                          No                     Yes   \n",
      "4996                          No                     Yes   \n",
      "4997                         Yes                      No   \n",
      "4998                         Yes                     Yes   \n",
      "4999                          No                     Yes   \n",
      "\n",
      "      Parent_Education_Level Family_Income_Level Stress_Level (1-10)  \\\n",
      "0                High School              Medium                   5   \n",
      "1                        NaN              Medium                   4   \n",
      "2                   Master's                 Low                   6   \n",
      "3                High School                High                   3   \n",
      "4                High School                High                   2   \n",
      "...                      ...                 ...                 ...   \n",
      "4995             High School                 Low                  10   \n",
      "4996                     NaN              Medium                   4   \n",
      "4997             High School              Medium                   4   \n",
      "4998              Bachelor's                 Low                   1   \n",
      "4999                     PhD                 Low                   2   \n",
      "\n",
      "     Sleep_Hours_per_Night  \n",
      "0                      4.7  \n",
      "1                      9.0  \n",
      "2                      6.2  \n",
      "3                      6.7  \n",
      "4                      7.1  \n",
      "...                    ...  \n",
      "4995                   8.3  \n",
      "4996                   4.0  \n",
      "4997                   6.3  \n",
      "4998                   8.4  \n",
      "4999                   6.1  \n",
      "\n",
      "[5000 rows x 23 columns]>\n"
     ]
    }
   ],
   "source": [
    "import pandas as pd\n",
    "datos = pd.read_csv(\"datos.csv\")\n",
    "print(datos.head)"
   ]
  }
 ],
 "metadata": {
  "kernelspec": {
   "display_name": "Python 3",
   "language": "python",
   "name": "python3"
  },
  "language_info": {
   "codemirror_mode": {
    "name": "ipython",
    "version": 3
   },
   "file_extension": ".py",
   "mimetype": "text/x-python",
   "name": "python",
   "nbconvert_exporter": "python",
   "pygments_lexer": "ipython3",
   "version": "3.11.2"
  }
 },
 "nbformat": 4,
 "nbformat_minor": 2
}
