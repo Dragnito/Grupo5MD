{
 "cells": [
  {
   "cell_type": "code",
   "execution_count": 17,
   "metadata": {},
   "outputs": [],
   "source": [
    "# 1- Importar el archivo csv y extraer las variables Total_Score, Study_hours_per_Week y Attendance(%)\n",
    "# 2- Limpiar datos aplicando al menos un algoritmo de deteccion de outliers\n",
    "# 3- Normalizar/estandarizar datos\n",
    "# 4- Agrupamiento K-means\n",
    "# 5- Etiquetado y descripcion de clusters "
   ]
  },
  {
   "cell_type": "code",
   "execution_count": 18,
   "metadata": {},
   "outputs": [
    {
     "name": "stdout",
     "output_type": "stream",
     "text": [
      "5000\n"
     ]
    }
   ],
   "source": [
    "import pandas as pd\n",
    "datos = pd.read_csv(\"datos.csv\")\n",
    "\n",
    "datosR= datos[['Total_Score','Study_Hours_per_Week', 'Attendance (%)' ]]\n",
    "print(len(datosR))"
   ]
  },
  {
   "cell_type": "code",
   "execution_count": null,
   "metadata": {},
   "outputs": [
    {
     "name": "stdout",
     "output_type": "stream",
     "text": [
      "Datos después de eliminar outliers:\n",
      "   Total_Score  Study_Hours_per_Week  Attendance (%)\n",
      "0        56.09                   6.2           52.29\n",
      "1        50.64                  19.0           97.27\n",
      "2        70.30                  20.7           57.19\n",
      "3        61.63                  24.8           95.15\n",
      "4        66.13                  15.4           54.18\n"
     ]
    }
   ],
   "source": [
    "# Limpieza de datos utilizando el algoritmo LOF (Local Outlier Factor)\n",
    "from sklearn.neighbors import LocalOutlierFactor\n",
    "\n",
    "# Manejar valores faltantes antes de aplicar LOF\n",
    "datosR_cleaned = datosR.dropna()  # Eliminar filas con valores faltantes\n",
    "\n",
    "# Aplicar LOF para detectar outliers\n",
    "lof = LocalOutlierFactor(n_neighbors=20, contamination=0.05)\n",
    "outlier_flags = lof.fit_predict(datosR_cleaned)\n",
    "\n",
    "# Filtrar los datos para eliminar los outliers\n",
    "datosR_sin_outliers = datosR_cleaned[outlier_flags == 1]\n",
    "\n",
    "# Mostrar los datos después de eliminar los outliers\n",
    "print(\"Datos después de eliminar outliers:\")\n",
    "print(datosR_sin_outliers.head())\n",
    "\n",
    "# Se limpiaron todos aquellos datos que generaban ruido en base a su LOF con 20 vecinos y un coeficiente de 0.05 , para esto antes se eliminaron los NaN ya que estos hacen imposible los calculos"
   ]
  },
  {
   "cell_type": "code",
   "execution_count": null,
   "metadata": {},
   "outputs": [
    {
     "name": "stdout",
     "output_type": "stream",
     "text": [
      "Datos Normalizados:\n",
      "   Total_Score  Study_Hours_per_Week  Attendance (%)\n",
      "0     0.121473                 0.048        0.045609\n",
      "1     0.012407                 0.560        0.945389\n",
      "2     0.405844                 0.628        0.143629\n",
      "3     0.232339                 0.792        0.902981\n",
      "4     0.322393                 0.416        0.083417\n",
      "\n",
      "Datos Estandarizados:\n",
      "   Total_Score  Study_Hours_per_Week  Attendance (%)\n",
      "0     0.430191              0.169497        0.160640\n",
      "1     0.043940              1.977460        3.329749\n",
      "2     1.437276              2.217580        0.505874\n",
      "3     0.822819              2.796693        3.180383\n",
      "4     1.141741              1.468970        0.293801\n"
     ]
    }
   ],
   "source": [
    "#Normalizacion de los datos:\n",
    "\n",
    "from sklearn.preprocessing import MinMaxScaler, StandardScaler\n",
    "\n",
    "# Normalización (MinMaxScaler)\n",
    "scaler_minmax = MinMaxScaler()\n",
    "datos_normalizados = scaler_minmax.fit_transform(datosR_sin_outliers)\n",
    "\n",
    "# Convertir el resultado de la normalización a DataFrame\n",
    "datos_normalizados_df = pd.DataFrame(datos_normalizados, columns=['Total_Score', 'Study_Hours_per_Week', 'Attendance (%)'])\n",
    "\n",
    "# Estandarización (StandardScaler)\n",
    "scaler_standard = StandardScaler()\n",
    "datos_estandarizados = scaler_standard.fit_transform(datosR_sin_outliers)\n",
    "\n",
    "# Convertir el resultado de la estandarización a DataFrame\n",
    "datos_estandarizados_df = pd.DataFrame(datos_estandarizados, columns=['Total_Score', 'Study_Hours_per_Week', 'Attendance (%)'])\n",
    "# Desplazar los valores para que no existan negativos\n",
    "for column in ['Total_Score', 'Study_Hours_per_Week', 'Attendance (%)']:\n",
    "    min_value = datos_estandarizados_df[column].min()\n",
    "    if min_value < 0:\n",
    "        datos_estandarizados_df[column] += abs(min_value)\n",
    "\n",
    "# Mostrar resultados (Los primeros 4 datos)\n",
    "print(\"Datos Normalizados:\")\n",
    "print(datos_normalizados_df.head())\n",
    "\n",
    "print(\"\\nDatos Estandarizados:\")\n",
    "print(datos_estandarizados_df.head())\n",
    "\n",
    "#Este proceso es muy imporante para que no existan problemas de escala entre los valores, sobre todo porque estamos trabajando con porcentajes y luego horas semanales o puntaje total.\n",
    "#El MinMaxScaler es el que se utiliza para normalizar los datos entre 0 y 1, mientras que el StandardScaler estandariza los datos para que tengan media 0 y desviacion estandar 1.\n",
    "#Para normalizar y estandarizar  usamos MinMaxScaler y StandardScaler de la libreria sklearn.preprocessing\n",
    "#Solo necesitamos los datos estandarizados O normalizados esto lo veremos mas adelante con cual nos quedamos\n"
   ]
  },
  {
   "cell_type": "code",
   "execution_count": null,
   "metadata": {},
   "outputs": [
    {
     "name": "stdout",
     "output_type": "stream",
     "text": [
      "Clusters para datos normalizados:\n",
      "   Total_Score  Study_Hours_per_Week  Attendance (%)  Cluster\n",
      "0     0.121473                 0.048        0.045609        1\n",
      "1     0.012407                 0.560        0.945389        2\n",
      "2     0.405844                 0.628        0.143629        1\n",
      "3     0.232339                 0.792        0.902981        2\n",
      "4     0.322393                 0.416        0.083417        1\n",
      "\n",
      "Clusters para datos estandarizados:\n",
      "   Total_Score  Study_Hours_per_Week  Attendance (%)  Cluster\n",
      "0     0.430191              0.169497        0.160640        1\n",
      "1     0.043940              1.977460        3.329749        2\n",
      "2     1.437276              2.217580        0.505874        1\n",
      "3     0.822819              2.796693        3.180383        2\n",
      "4     1.141741              1.468970        0.293801        1\n"
     ]
    }
   ],
   "source": [
    "# Implementación de K-means utilizando datos normalizados y estandarizados\n",
    "from sklearn.cluster import KMeans\n",
    "\n",
    "# Número de clusters\n",
    "K = 3 # Este valor lo elegimos arbitrariamente en un inicio, pero al usar el metodo del codo determinamos el optimo en 3\n",
    "\n",
    "# Aplicar K-means a los datos normalizados \n",
    "kmeans_normalizados = KMeans(n_clusters=K, random_state=42, n_init=10)\n",
    "kmeans_normalizados.fit(datos_normalizados_df)\n",
    "datos_normalizados_df['Cluster'] = kmeans_normalizados.labels_\n",
    "\n",
    "# Aplicar K-means a los datos estandarizados \n",
    "kmeans_estandarizados = KMeans(n_clusters=K, random_state=42, n_init=10)\n",
    "kmeans_estandarizados.fit(datos_estandarizados_df)\n",
    "datos_estandarizados_df['Cluster'] = kmeans_estandarizados.labels_\n",
    "\n",
    "# Mostrar resultados de los clusters para datos normalizados\n",
    "print(\"Clusters para datos normalizados:\")\n",
    "print(datos_normalizados_df.head())\n",
    "\n",
    "# Mostrar resultados de los clusters para datos estandarizados\n",
    "print(\"\\nClusters para datos estandarizados:\")\n",
    "print(datos_estandarizados_df.head())"
   ]
  },
  {
   "cell_type": "code",
   "execution_count": 28,
   "metadata": {},
   "outputs": [
    {
     "data": {
      "image/png": "[encoded data removed]",
      "text/plain": [
       "<Figure size 800x500 with 1 Axes>"
      ]
     },
     "metadata": {},
     "output_type": "display_data"
    }
   ],
   "source": [
    "# Metodo del Codo para determinar el número óptimo de clusters\n",
    "import matplotlib.pyplot as plt\n",
    "\n",
    "wcss = []  # Within-Cluster Sum of Squares\n",
    "for k in range(1, 11):\n",
    "    kmeans = KMeans(n_clusters=k, random_state=42, n_init=10)\n",
    "    kmeans.fit(datos_estandarizados_df)\n",
    "    wcss.append(kmeans.inertia_)\n",
    "\n",
    "# Graficar el método del codo\n",
    "plt.figure(figsize=(8, 5))\n",
    "plt.plot(range(1, 11), wcss, marker='o', linestyle='--')\n",
    "plt.title('Elbow Method for Optimal K')\n",
    "plt.xlabel('Number of Clusters (K)')\n",
    "plt.ylabel('WCSS')\n",
    "plt.xticks(range(1, 11))\n",
    "plt.grid()\n",
    "plt.show()"
   ]
  },
  {
   "cell_type": "code",
   "execution_count": 29,
   "metadata": {},
   "outputs": [
    {
     "data": {
      "application/vnd.plotly.v1+json": {
       "config": {
        "plotlyServerURL": "https://plot.ly"
       },
       "data": [
        {
         "hovertemplate": "Total Score=%{x}<br>Study_Hours_per_Week=%{y}<br>Attendance (%)=%{z}<br>Cluster=%{marker.color}<extra></extra>",
         "legendgroup": "",
         "marker": {
          "color": {
           "bdata": "AQAAAAIAAAABAAAAAgAAAAEAAAABAAAAAQAAAAAAAAABAAAAAAAAAAIAAAABAAAAAgAAAAAAAAACAAAAAgAAAAAAAAABAAAAAQAAAAAAAAACAAAAAgAAAAAAAAAAAAAAAQAAAAEAAAABAAAAAQAAAAEAAAABAAAAAgAAAAEAAAAAAAAAAAAAAAIAAAACAAAAAgAAAAIAAAACAAAAAAAAAAIAAAACAAAAAQAAAAAAAAAAAAAAAAAAAAIAAAABAAAAAQAAAAAAAAAAAAAAAQAAAAAAAAAAAAAAAAAAAAEAAAACAAAAAgAAAAIAAAABAAAAAQAAAAEAAAAAAAAAAgAAAAEAAAABAAAAAQAAAAIAAAAAAAAAAAAAAAIAAAAAAAAAAQAAAAEAAAACAAAAAQAAAAIAAAAAAAAAAAAAAAAAAAABAAAAAAAAAAAAAAAAAAAAAgAAAAAAAAAAAAAAAgAAAAAAAAAAAAAAAQAAAAEAAAABAAAAAAAAAAAAAAABAAAAAAAAAAAAAAACAAAAAgAAAAIAAAAAAAAAAgAAAAAAAAAAAAAAAAAAAAAAAAABAAAAAQAAAAAAAAABAAAAAQAAAAAAAAABAAAAAgAAAAAAAAAAAAAAAQAAAAIAAAABAAAAAgAAAAEAAAACAAAAAAAAAAEAAAABAAAAAAAAAAEAAAACAAAAAQAAAAIAAAAAAAAAAQAAAAIAAAABAAAAAQAAAAEAAAAAAAAAAgAAAAEAAAACAAAAAgAAAAAAAAACAAAAAQAAAAEAAAAAAAAAAQAAAAEAAAABAAAAAAAAAAEAAAAAAAAAAgAAAAAAAAACAAAAAgAAAAIAAAACAAAAAAAAAAEAAAACAAAAAAAAAAEAAAABAAAAAQAAAAAAAAABAAAAAgAAAAAAAAAAAAAAAgAAAAIAAAACAAAAAgAAAAAAAAABAAAAAAAAAAEAAAABAAAAAAAAAAIAAAACAAAAAQAAAAAAAAABAAAAAAAAAAEAAAAAAAAAAgAAAAEAAAABAAAAAgAAAAIAAAABAAAAAQAAAAEAAAABAAAAAAAAAAIAAAAAAAAAAgAAAAAAAAACAAAAAgAAAAEAAAAAAAAAAAAAAAAAAAABAAAAAQAAAAIAAAACAAAAAQAAAAEAAAAAAAAAAQAAAAAAAAABAAAAAQAAAAIAAAABAAAAAQAAAAEAAAABAAAAAgAAAAIAAAAAAAAAAAAAAAEAAAABAAAAAQAAAAIAAAACAAAAAgAAAAAAAAABAAAAAQAAAAEAAAABAAAAAQAAAAAAAAACAAAAAgAAAAAAAAABAAAAAQAAAAAAAAAAAAAAAQAAAAEAAAAAAAAAAgAAAAIAAAACAAAAAAAAAAAAAAAAAAAAAQAAAAEAAAACAAAAAAAAAAAAAAACAAAAAAAAAAIAAAAAAAAAAQAAAAIAAAACAAAAAgAAAAEAAAABAAAAAgAAAAAAAAACAAAAAgAAAAAAAAAAAAAAAAAAAAIAAAACAAAAAAAAAAEAAAACAAAAAQAAAAEAAAABAAAAAQAAAAIAAAAAAAAAAQAAAAIAAAAAAAAAAgAAAAAAAAABAAAAAgAAAAAAAAACAAAAAgAAAAAAAAAAAAAAAgAAAAEAAAACAAAAAQAAAAAAAAAAAAAAAQAAAAAAAAACAAAAAgAAAAIAAAAAAAAAAgAAAAEAAAACAAAAAQAAAAEAAAABAAAAAAAAAAEAAAACAAAAAgAAAAAAAAACAAAAAQAAAAEAAAACAAAAAAAAAAAAAAACAAAAAAAAAAEAAAAAAAAAAgAAAAIAAAABAAAAAAAAAAEAAAAAAAAAAQAAAAEAAAACAAAAAQAAAAEAAAACAAAAAQAAAAAAAAACAAAAAgAAAAEAAAACAAAAAAAAAAAAAAACAAAAAAAAAAIAAAABAAAAAQAAAAAAAAAAAAAAAQAAAAIAAAAAAAAAAgAAAAEAAAABAAAAAAAAAAIAAAABAAAAAgAAAAEAAAAAAAAAAAAAAAAAAAAAAAAAAQAAAAEAAAABAAAAAQAAAAIAAAAAAAAAAgAAAAIAAAACAAAAAgAAAAEAAAACAAAAAQAAAAAAAAACAAAAAgAAAAAAAAACAAAAAAAAAAIAAAAAAAAAAQAAAAAAAAABAAAAAQAAAAIAAAAAAAAAAgAAAAEAAAABAAAAAQAAAAEAAAACAAAAAAAAAAAAAAAAAAAAAAAAAAIAAAAAAAAAAgAAAAIAAAAAAAAAAAAAAAEAAAAAAAAAAQAAAAEAAAAAAAAAAAAAAAEAAAAAAAAAAAAAAAIAAAABAAAAAAAAAAAAAAACAAAAAQAAAAEAAAABAAAAAAAAAAEAAAABAAAAAgAAAAIAAAACAAAAAAAAAAEAAAABAAAAAgAAAAIAAAAAAAAAAQAAAAEAAAACAAAAAgAAAAIAAAACAAAAAgAAAAAAAAACAAAAAAAAAAIAAAABAAAAAAAAAAIAAAABAAAAAAAAAAEAAAAAAAAAAQAAAAEAAAAAAAAAAgAAAAAAAAACAAAAAAAAAAEAAAACAAAAAQAAAAAAAAAAAAAAAQAAAAEAAAACAAAAAgAAAAAAAAACAAAAAgAAAAEAAAAAAAAAAgAAAAIAAAABAAAAAAAAAAEAAAABAAAAAAAAAAIAAAACAAAAAgAAAAIAAAAAAAAAAgAAAAAAAAABAAAAAQAAAAEAAAABAAAAAgAAAAAAAAAAAAAAAgAAAAAAAAACAAAAAgAAAAAAAAACAAAAAQAAAAAAAAAAAAAAAAAAAAAAAAABAAAAAAAAAAEAAAAAAAAAAAAAAAEAAAAAAAAAAQAAAAEAAAABAAAAAAAAAAAAAAABAAAAAgAAAAIAAAACAAAAAQAAAAIAAAACAAAAAQAAAAAAAAACAAAAAAAAAAIAAAAAAAAAAAAAAAAAAAACAAAAAQAAAAAAAAACAAAAAQAAAAAAAAAAAAAAAgAAAAAAAAAAAAAAAQAAAAIAAAABAAAAAgAAAAEAAAABAAAAAAAAAAAAAAAAAAAAAQAAAAEAAAAAAAAAAAAAAAIAAAABAAAAAgAAAAIAAAABAAAAAgAAAAEAAAACAAAAAQAAAAAAAAAAAAAAAAAAAAEAAAACAAAAAAAAAAEAAAABAAAAAAAAAAIAAAACAAAAAgAAAAIAAAABAAAAAAAAAAIAAAABAAAAAQAAAAAAAAABAAAAAAAAAAAAAAACAAAAAQAAAAIAAAABAAAAAAAAAAIAAAACAAAAAQAAAAEAAAAAAAAAAQAAAAAAAAAAAAAAAAAAAAEAAAAAAAAAAAAAAAEAAAAAAAAAAQAAAAEAAAAAAAAAAgAAAAIAAAABAAAAAQAAAAEAAAABAAAAAQAAAAEAAAAAAAAAAgAAAAAAAAABAAAAAQAAAAEAAAABAAAAAgAAAAIAAAAAAAAAAgAAAAEAAAAAAAAAAgAAAAIAAAAAAAAAAQAAAAEAAAAAAAAAAAAAAAAAAAACAAAAAAAAAAIAAAACAAAAAQAAAAAAAAACAAAAAgAAAAAAAAAAAAAAAQAAAAEAAAAAAAAAAQAAAAIAAAACAAAAAQAAAAIAAAAAAAAAAQAAAAEAAAABAAAAAAAAAAAAAAABAAAAAAAAAAIAAAABAAAAAAAAAAEAAAAAAAAAAgAAAAAAAAABAAAAAAAAAAAAAAAAAAAAAAAAAAAAAAAAAAAAAAAAAAAAAAACAAAAAAAAAAEAAAABAAAAAAAAAAAAAAABAAAAAgAAAAIAAAAAAAAAAQAAAAIAAAABAAAAAAAAAAAAAAACAAAAAQAAAAIAAAAAAAAAAgAAAAAAAAACAAAAAQAAAAEAAAAAAAAAAgAAAAEAAAACAAAAAQAAAAIAAAAAAAAAAgAAAAIAAAACAAAAAQAAAAEAAAABAAAAAQAAAAIAAAAAAAAAAAAAAAEAAAACAAAAAAAAAAEAAAAAAAAAAAAAAAIAAAAAAAAAAAAAAAAAAAABAAAAAAAAAAEAAAAAAAAAAQAAAAEAAAAAAAAAAgAAAAIAAAAAAAAAAQAAAAIAAAACAAAAAgAAAAIAAAABAAAAAAAAAAIAAAABAAAAAgAAAAIAAAACAAAAAAAAAAIAAAACAAAAAQAAAAEAAAABAAAAAAAAAAAAAAACAAAAAgAAAAEAAAACAAAAAgAAAAIAAAACAAAAAgAAAAIAAAACAAAAAQAAAAIAAAABAAAAAQAAAAAAAAACAAAAAQAAAAAAAAABAAAAAAAAAAAAAAACAAAAAQAAAAAAAAABAAAAAAAAAAEAAAAAAAAAAQAAAAIAAAACAAAAAgAAAAIAAAAAAAAAAAAAAAIAAAAAAAAAAgAAAAEAAAABAAAAAQAAAAIAAAAAAAAAAAAAAAAAAAABAAAAAgAAAAAAAAACAAAAAQAAAAAAAAACAAAAAgAAAAIAAAAAAAAAAAAAAAIAAAAAAAAAAQAAAAEAAAABAAAAAQAAAAIAAAACAAAAAQAAAAIAAAAAAAAAAAAAAAAAAAABAAAAAQAAAAEAAAABAAAAAgAAAAEAAAABAAAAAQAAAAAAAAAAAAAAAQAAAAEAAAABAAAAAAAAAAEAAAACAAAAAgAAAAEAAAABAAAAAQAAAAAAAAAAAAAAAgAAAAIAAAABAAAAAAAAAAEAAAAAAAAAAgAAAAEAAAACAAAAAgAAAAEAAAABAAAAAAAAAAIAAAACAAAAAgAAAAIAAAACAAAAAgAAAAIAAAAAAAAAAAAAAAIAAAACAAAAAQAAAAEAAAACAAAAAQAAAAAAAAACAAAAAQAAAAAAAAAAAAAAAAAAAAIAAAABAAAAAAAAAAEAAAAAAAAAAAAAAAEAAAACAAAAAAAAAAAAAAACAAAAAQAAAAAAAAACAAAAAQAAAAIAAAABAAAAAQAAAAAAAAACAAAAAgAAAAIAAAABAAAAAQAAAAEAAAABAAAAAAAAAAEAAAAAAAAAAQAAAAIAAAAAAAAAAQAAAAAAAAACAAAAAAAAAAIAAAACAAAAAgAAAAIAAAAAAAAAAAAAAAIAAAABAAAAAQAAAAAAAAABAAAAAQAAAAIAAAABAAAAAAAAAAIAAAAAAAAAAAAAAAAAAAACAAAAAAAAAAEAAAABAAAAAAAAAAEAAAABAAAAAAAAAAIAAAABAAAAAgAAAAEAAAAAAAAAAgAAAAEAAAAAAAAAAQAAAAAAAAABAAAAAQAAAAEAAAAAAAAAAgAAAAIAAAABAAAAAgAAAAAAAAAAAAAAAQAAAAAAAAACAAAAAQAAAAEAAAABAAAAAQAAAAEAAAAAAAAAAAAAAAIAAAABAAAAAAAAAAEAAAAAAAAAAgAAAAIAAAAAAAAAAQAAAAEAAAABAAAAAQAAAAAAAAABAAAAAgAAAAEAAAABAAAAAAAAAAEAAAAAAAAAAgAAAAEAAAACAAAAAQAAAAAAAAACAAAAAAAAAAIAAAABAAAAAgAAAAIAAAAAAAAAAAAAAAIAAAAAAAAAAQAAAAIAAAAAAAAAAgAAAAIAAAABAAAAAAAAAAAAAAABAAAAAQAAAAEAAAAAAAAAAgAAAAAAAAACAAAAAQAAAAIAAAACAAAAAQAAAAEAAAABAAAAAAAAAAIAAAAAAAAAAgAAAAAAAAACAAAAAAAAAAAAAAACAAAAAgAAAAEAAAABAAAAAQAAAAIAAAABAAAAAAAAAAEAAAAAAAAAAQAAAAEAAAAAAAAAAQAAAAAAAAABAAAAAAAAAAEAAAAAAAAAAgAAAAAAAAABAAAAAQAAAAEAAAACAAAAAQAAAAAAAAAAAAAAAQAAAAAAAAAAAAAAAgAAAAEAAAABAAAAAgAAAAIAAAAAAAAAAgAAAAIAAAABAAAAAQAAAAAAAAAAAAAAAgAAAAAAAAAAAAAAAQAAAAEAAAAAAAAAAAAAAAAAAAACAAAAAgAAAAEAAAACAAAAAQAAAAEAAAABAAAAAAAAAAIAAAAAAAAAAAAAAAAAAAACAAAAAAAAAAEAAAACAAAAAQAAAAIAAAACAAAAAAAAAAIAAAACAAAAAQAAAAIAAAAAAAAAAAAAAAIAAAABAAAAAgAAAAEAAAAAAAAAAgAAAAIAAAAAAAAAAAAAAAAAAAAAAAAAAAAAAAAAAAAAAAAAAgAAAAEAAAABAAAAAAAAAAIAAAABAAAAAgAAAAIAAAAAAAAAAQAAAAEAAAAAAAAAAAAAAAIAAAACAAAAAAAAAAEAAAACAAAAAQAAAAEAAAACAAAAAAAAAAEAAAAAAAAAAQAAAAAAAAABAAAAAQAAAAIAAAAAAAAAAAAAAAEAAAAAAAAAAAAAAAEAAAABAAAAAgAAAAIAAAACAAAAAQAAAAEAAAAAAAAAAQAAAAEAAAACAAAAAQAAAAAAAAACAAAAAQAAAAAAAAACAAAAAAAAAAIAAAABAAAAAQAAAAAAAAACAAAAAgAAAAIAAAACAAAAAgAAAAIAAAAAAAAAAgAAAAAAAAAAAAAAAgAAAAAAAAAAAAAAAQAAAAEAAAABAAAAAgAAAAEAAAAAAAAAAQAAAAEAAAAAAAAAAAAAAAEAAAACAAAAAQAAAAAAAAABAAAAAgAAAAAAAAABAAAAAgAAAAEAAAAAAAAAAQAAAAIAAAABAAAAAAAAAAAAAAACAAAAAQAAAAIAAAAAAAAAAAAAAAAAAAAAAAAAAgAAAAEAAAACAAAAAAAAAAAAAAABAAAAAAAAAAEAAAACAAAAAgAAAAIAAAABAAAAAgAAAAAAAAABAAAAAAAAAAIAAAAAAAAAAQAAAAEAAAACAAAAAQAAAAAAAAABAAAAAgAAAAAAAAACAAAAAAAAAAEAAAACAAAAAgAAAAIAAAAAAAAAAQAAAAEAAAAAAAAAAgAAAAEAAAABAAAAAQAAAAIAAAACAAAAAQAAAAEAAAAAAAAAAAAAAAIAAAABAAAAAgAAAAIAAAACAAAAAQAAAAEAAAACAAAAAQAAAAEAAAACAAAAAAAAAAIAAAABAAAAAgAAAAEAAAAAAAAAAAAAAAIAAAAAAAAAAQAAAAEAAAABAAAAAQAAAAIAAAAAAAAAAgAAAAEAAAAAAAAAAQAAAAAAAAACAAAAAAAAAAAAAAAAAAAAAQAAAAEAAAAAAAAAAgAAAAEAAAACAAAAAgAAAAEAAAAAAAAAAQAAAAEAAAABAAAAAQAAAAEAAAAAAAAAAQAAAAIAAAACAAAAAAAAAAAAAAAAAAAAAgAAAAAAAAABAAAAAgAAAAAAAAAAAAAAAQAAAAEAAAACAAAAAQAAAAAAAAABAAAAAgAAAAEAAAABAAAAAgAAAAEAAAAAAAAAAgAAAAIAAAABAAAAAgAAAAEAAAACAAAAAAAAAAEAAAACAAAAAQAAAAIAAAACAAAAAQAAAAEAAAABAAAAAQAAAAIAAAACAAAAAgAAAAAAAAAAAAAAAgAAAAIAAAACAAAAAQAAAAEAAAABAAAAAgAAAAAAAAAAAAAAAAAAAAAAAAAAAAAAAAAAAAIAAAAAAAAAAAAAAAEAAAAAAAAAAQAAAAIAAAABAAAAAQAAAAEAAAACAAAAAAAAAAAAAAABAAAAAgAAAAAAAAABAAAAAQAAAAIAAAAAAAAAAQAAAAIAAAACAAAAAgAAAAEAAAACAAAAAAAAAAIAAAACAAAAAQAAAAAAAAAAAAAAAQAAAAAAAAABAAAAAgAAAAAAAAABAAAAAQAAAAEAAAACAAAAAgAAAAEAAAACAAAAAgAAAAIAAAABAAAAAQAAAAIAAAAAAAAAAQAAAAEAAAACAAAAAQAAAAIAAAABAAAAAgAAAAIAAAAAAAAAAgAAAAEAAAABAAAAAQAAAAIAAAACAAAAAAAAAAAAAAABAAAAAAAAAAIAAAAAAAAAAgAAAAAAAAACAAAAAgAAAAAAAAABAAAAAgAAAAIAAAAAAAAAAQAAAAAAAAAAAAAAAQAAAAIAAAAAAAAAAgAAAAEAAAAAAAAAAQAAAAAAAAABAAAAAQAAAAEAAAACAAAAAAAAAAIAAAACAAAAAQAAAAEAAAACAAAAAQAAAAIAAAABAAAAAgAAAAIAAAACAAAAAQAAAAAAAAABAAAAAgAAAAIAAAABAAAAAAAAAAAAAAABAAAAAAAAAAAAAAACAAAAAAAAAAIAAAACAAAAAAAAAAAAAAAAAAAAAQAAAAIAAAACAAAAAQAAAAIAAAACAAAAAQAAAAAAAAAAAAAAAgAAAAEAAAACAAAAAgAAAAIAAAAAAAAAAAAAAAIAAAACAAAAAAAAAAIAAAABAAAAAgAAAAIAAAACAAAAAAAAAAAAAAAAAAAAAgAAAAIAAAABAAAAAAAAAAAAAAAAAAAAAgAAAAAAAAAAAAAAAgAAAAAAAAABAAAAAQAAAAEAAAACAAAAAAAAAAEAAAACAAAAAAAAAAEAAAABAAAAAQAAAAIAAAAAAAAAAAAAAAAAAAABAAAAAAAAAAIAAAACAAAAAAAAAAIAAAAAAAAAAAAAAAAAAAACAAAAAQAAAAAAAAABAAAAAgAAAAIAAAACAAAAAAAAAAAAAAABAAAAAQAAAAEAAAACAAAAAgAAAAEAAAABAAAAAAAAAAIAAAABAAAAAAAAAAIAAAABAAAAAQAAAAAAAAABAAAAAQAAAAEAAAACAAAAAQAAAAAAAAABAAAAAAAAAAEAAAABAAAAAgAAAAEAAAABAAAAAQAAAAIAAAACAAAAAAAAAAAAAAACAAAAAgAAAAEAAAABAAAAAAAAAAAAAAAAAAAAAQAAAAEAAAABAAAAAgAAAAAAAAABAAAAAQAAAAAAAAACAAAAAQAAAAEAAAABAAAAAgAAAAIAAAACAAAAAAAAAAIAAAAAAAAAAQAAAAAAAAAAAAAAAAAAAAAAAAAAAAAAAgAAAAAAAAACAAAAAAAAAAAAAAACAAAAAQAAAAEAAAACAAAAAQAAAAEAAAAAAAAAAgAAAAEAAAAAAAAAAgAAAAEAAAAAAAAAAQAAAAEAAAABAAAAAQAAAAEAAAABAAAAAgAAAAEAAAAAAAAAAQAAAAIAAAAAAAAAAgAAAAAAAAAAAAAAAgAAAAEAAAACAAAAAAAAAAIAAAAAAAAAAQAAAAEAAAAAAAAAAAAAAAAAAAACAAAAAQAAAAIAAAACAAAAAQAAAAAAAAABAAAAAAAAAAIAAAACAAAAAgAAAAAAAAABAAAAAQAAAAAAAAAAAAAAAgAAAAEAAAABAAAAAgAAAAAAAAACAAAAAQAAAAEAAAABAAAAAQAAAAAAAAAAAAAAAQAAAAEAAAAAAAAAAgAAAAEAAAACAAAAAQAAAAEAAAABAAAAAQAAAAAAAAABAAAAAQAAAAEAAAACAAAAAQAAAAEAAAAAAAAAAQAAAAIAAAAAAAAAAAAAAAEAAAACAAAAAQAAAAEAAAAAAAAAAAAAAAIAAAABAAAAAQAAAAAAAAABAAAAAQAAAAAAAAAAAAAAAgAAAAEAAAAAAAAAAgAAAAEAAAAAAAAAAgAAAAEAAAAAAAAAAQAAAAIAAAACAAAAAAAAAAEAAAABAAAAAAAAAAAAAAACAAAAAgAAAAIAAAABAAAAAAAAAAAAAAACAAAAAAAAAAAAAAABAAAAAAAAAAEAAAABAAAAAgAAAAIAAAABAAAAAQAAAAEAAAABAAAAAQAAAAIAAAAAAAAAAQAAAAEAAAACAAAAAAAAAAIAAAABAAAAAgAAAAEAAAAAAAAAAgAAAAIAAAAAAAAAAAAAAAAAAAAAAAAAAQAAAAAAAAAAAAAAAQAAAAAAAAABAAAAAQAAAAAAAAACAAAAAQAAAAEAAAABAAAAAgAAAAEAAAACAAAAAQAAAAIAAAACAAAAAgAAAAIAAAAAAAAAAQAAAAEAAAACAAAAAAAAAAIAAAAAAAAAAQAAAAIAAAAAAAAAAQAAAAIAAAABAAAAAAAAAAAAAAABAAAAAAAAAAAAAAAAAAAAAgAAAAAAAAABAAAAAQAAAAAAAAAAAAAAAAAAAAAAAAACAAAAAAAAAAEAAAACAAAAAgAAAAIAAAACAAAAAQAAAAIAAAABAAAAAAAAAAIAAAABAAAAAgAAAAAAAAACAAAAAAAAAAEAAAABAAAAAgAAAAIAAAACAAAAAQAAAAIAAAACAAAAAQAAAAEAAAACAAAAAQAAAAIAAAAAAAAAAQAAAAIAAAABAAAAAQAAAAAAAAAAAAAAAAAAAAEAAAACAAAAAAAAAAIAAAACAAAAAAAAAAEAAAABAAAAAQAAAAAAAAACAAAAAAAAAAEAAAAAAAAAAAAAAAIAAAACAAAAAAAAAAAAAAACAAAAAgAAAAIAAAABAAAAAQAAAAIAAAACAAAAAQAAAAAAAAAAAAAAAAAAAAAAAAABAAAAAQAAAAEAAAACAAAAAQAAAAIAAAAAAAAAAAAAAAIAAAACAAAAAQAAAAEAAAAAAAAAAgAAAAIAAAAAAAAAAQAAAAAAAAACAAAAAQAAAAEAAAABAAAAAgAAAAAAAAACAAAAAQAAAAAAAAAAAAAAAQAAAAEAAAACAAAAAQAAAAAAAAAAAAAAAQAAAAIAAAABAAAAAgAAAAAAAAACAAAAAgAAAAAAAAABAAAAAAAAAAAAAAAAAAAAAAAAAAEAAAAAAAAAAgAAAAIAAAAAAAAAAQAAAAIAAAAAAAAAAgAAAAAAAAABAAAAAQAAAAEAAAAAAAAAAgAAAAAAAAACAAAAAQAAAAEAAAACAAAAAQAAAAAAAAACAAAAAgAAAAEAAAABAAAAAQAAAAIAAAABAAAAAgAAAAEAAAAAAAAAAgAAAAIAAAABAAAAAQAAAAEAAAAAAAAAAgAAAAIAAAACAAAAAQAAAAAAAAACAAAAAQAAAAIAAAABAAAAAQAAAAAAAAACAAAAAQAAAAIAAAAAAAAAAgAAAAEAAAAAAAAAAgAAAAIAAAACAAAAAAAAAAIAAAAAAAAAAAAAAAIAAAABAAAAAQAAAAAAAAAAAAAAAAAAAAEAAAAAAAAAAAAAAAEAAAAAAAAAAAAAAAEAAAACAAAAAgAAAAAAAAAAAAAAAgAAAAIAAAABAAAAAgAAAAEAAAACAAAAAgAAAAAAAAACAAAAAAAAAAAAAAAAAAAAAgAAAAAAAAABAAAAAAAAAAAAAAACAAAAAgAAAAIAAAACAAAAAAAAAAEAAAAAAAAAAAAAAAAAAAAAAAAAAgAAAAIAAAACAAAAAAAAAAEAAAABAAAAAgAAAAEAAAACAAAAAgAAAAAAAAABAAAAAAAAAAEAAAABAAAAAgAAAAEAAAACAAAAAgAAAAEAAAABAAAAAQAAAAIAAAACAAAAAgAAAAAAAAACAAAAAQAAAAIAAAACAAAAAQAAAAAAAAAAAAAAAAAAAAEAAAABAAAAAQAAAAEAAAAAAAAAAgAAAAIAAAAAAAAAAgAAAAAAAAACAAAAAQAAAAAAAAABAAAAAgAAAAEAAAAAAAAAAgAAAAEAAAABAAAAAAAAAAEAAAAAAAAAAAAAAAEAAAABAAAAAQAAAAEAAAAAAAAAAgAAAAEAAAAAAAAAAAAAAAAAAAACAAAAAAAAAAIAAAAAAAAAAAAAAAIAAAAAAAAAAAAAAAAAAAABAAAAAgAAAAAAAAABAAAAAQAAAAEAAAAAAAAAAAAAAAIAAAABAAAAAAAAAAAAAAAAAAAAAAAAAAEAAAACAAAAAgAAAAIAAAACAAAAAAAAAAIAAAACAAAAAQAAAAIAAAABAAAAAQAAAAIAAAAAAAAAAgAAAAEAAAAAAAAAAQAAAAEAAAABAAAAAQAAAAIAAAABAAAAAAAAAAAAAAAAAAAAAgAAAAAAAAAAAAAAAAAAAAAAAAACAAAAAgAAAAAAAAAAAAAAAgAAAAEAAAAAAAAAAgAAAAEAAAACAAAAAAAAAAAAAAAAAAAAAgAAAAAAAAACAAAAAgAAAAIAAAABAAAAAQAAAAIAAAABAAAAAAAAAAAAAAAAAAAAAQAAAAIAAAABAAAAAAAAAAEAAAABAAAAAAAAAAEAAAABAAAAAAAAAAAAAAABAAAAAAAAAAAAAAABAAAAAAAAAAIAAAACAAAAAAAAAAEAAAACAAAAAgAAAAEAAAABAAAAAgAAAAIAAAABAAAAAgAAAAAAAAAAAAAAAQAAAAIAAAAAAAAAAgAAAAEAAAAAAAAAAgAAAAIAAAAAAAAAAAAAAAAAAAAAAAAAAgAAAAIAAAACAAAAAAAAAAIAAAAAAAAAAQAAAAEAAAACAAAAAAAAAAAAAAAAAAAAAQAAAAAAAAAAAAAAAAAAAAIAAAACAAAAAQAAAAAAAAACAAAAAQAAAAAAAAACAAAAAgAAAAEAAAAAAAAAAgAAAAIAAAAAAAAAAQAAAAIAAAAAAAAAAQAAAAIAAAACAAAAAAAAAAAAAAACAAAAAQAAAAIAAAABAAAAAQAAAAEAAAAAAAAAAAAAAAIAAAABAAAAAAAAAAAAAAAAAAAAAQAAAAIAAAABAAAAAgAAAAAAAAACAAAAAQAAAAEAAAABAAAAAAAAAAEAAAACAAAAAQAAAAEAAAABAAAAAQAAAAAAAAAAAAAAAQAAAAEAAAAAAAAAAAAAAAIAAAABAAAAAQAAAAIAAAAAAAAAAQAAAAEAAAABAAAAAgAAAAEAAAABAAAAAQAAAAAAAAAAAAAAAgAAAAAAAAACAAAAAQAAAAAAAAABAAAAAQAAAAIAAAACAAAAAAAAAAAAAAABAAAAAgAAAAAAAAAAAAAAAgAAAAEAAAABAAAAAgAAAAAAAAABAAAAAQAAAAIAAAACAAAAAQAAAAEAAAABAAAAAgAAAAAAAAABAAAAAAAAAAAAAAABAAAAAQAAAAAAAAACAAAAAgAAAAIAAAABAAAAAQAAAAEAAAABAAAAAQAAAAEAAAABAAAAAAAAAAEAAAACAAAAAgAAAAEAAAABAAAAAgAAAAIAAAAAAAAAAAAAAAIAAAACAAAAAQAAAAAAAAACAAAAAQAAAAIAAAABAAAAAQAAAAEAAAABAAAAAAAAAAAAAAABAAAAAAAAAAAAAAABAAAAAAAAAAEAAAABAAAAAQAAAAEAAAACAAAAAgAAAAAAAAAAAAAAAAAAAAEAAAABAAAAAgAAAAEAAAABAAAAAAAAAAIAAAABAAAAAQAAAAAAAAACAAAAAQAAAAIAAAAAAAAAAQAAAAIAAAAAAAAAAQAAAAAAAAABAAAAAQAAAAAAAAACAAAAAAAAAAIAAAACAAAAAgAAAAEAAAABAAAAAQAAAAIAAAABAAAAAAAAAAEAAAACAAAAAQAAAAIAAAAAAAAAAQAAAAEAAAABAAAAAQAAAAEAAAAAAAAAAAAAAAIAAAABAAAAAAAAAAIAAAABAAAAAQAAAAAAAAACAAAAAQAAAAAAAAABAAAAAAAAAAEAAAAAAAAAAgAAAAEAAAACAAAAAAAAAAAAAAAAAAAAAgAAAAIAAAACAAAAAAAAAAAAAAABAAAAAAAAAAAAAAABAAAAAAAAAAAAAAACAAAAAgAAAAEAAAACAAAAAQAAAAIAAAACAAAAAgAAAAIAAAABAAAAAAAAAAEAAAACAAAAAQAAAAEAAAACAAAAAAAAAAEAAAABAAAAAAAAAAEAAAABAAAAAAAAAAEAAAAAAAAAAAAAAAIAAAABAAAAAAAAAAAAAAAAAAAAAAAAAAEAAAACAAAAAgAAAAAAAAAAAAAAAQAAAAIAAAABAAAAAQAAAAEAAAABAAAAAAAAAAEAAAABAAAAAQAAAAAAAAAAAAAAAQAAAAAAAAABAAAAAAAAAAIAAAACAAAAAAAAAAIAAAABAAAAAQAAAAEAAAAAAAAAAgAAAAEAAAABAAAAAAAAAAAAAAAAAAAAAAAAAAAAAAABAAAAAgAAAAIAAAAAAAAAAAAAAAAAAAAAAAAAAAAAAAEAAAAAAAAAAAAAAAAAAAACAAAAAgAAAAAAAAABAAAAAgAAAAAAAAABAAAAAAAAAAIAAAAAAAAAAgAAAAEAAAACAAAAAAAAAAAAAAAAAAAAAgAAAAEAAAABAAAAAgAAAAEAAAAAAAAAAQAAAAEAAAABAAAAAAAAAAIAAAACAAAAAgAAAAAAAAACAAAAAAAAAAIAAAAAAAAAAgAAAAIAAAAAAAAAAgAAAAEAAAACAAAAAQAAAAIAAAABAAAAAQAAAAEAAAACAAAAAgAAAAIAAAACAAAAAQAAAAEAAAABAAAAAAAAAAAAAAACAAAAAgAAAAAAAAABAAAAAAAAAAEAAAABAAAAAgAAAAEAAAACAAAAAAAAAAAAAAACAAAAAQAAAAIAAAACAAAAAAAAAAAAAAACAAAAAAAAAAIAAAABAAAAAgAAAAAAAAACAAAAAgAAAAIAAAABAAAAAQAAAAIAAAABAAAAAAAAAAAAAAACAAAAAQAAAAEAAAAAAAAAAAAAAAEAAAACAAAAAQAAAAEAAAAAAAAAAgAAAAAAAAAAAAAAAAAAAAEAAAAAAAAAAAAAAAAAAAABAAAAAQAAAAIAAAABAAAAAgAAAAEAAAABAAAAAgAAAAEAAAACAAAAAAAAAAEAAAACAAAAAgAAAAIAAAACAAAAAgAAAAEAAAABAAAAAgAAAAAAAAABAAAAAQAAAAIAAAACAAAAAAAAAAEAAAAAAAAAAQAAAAEAAAABAAAAAQAAAAEAAAACAAAAAAAAAAAAAAACAAAAAgAAAAIAAAAAAAAAAgAAAAEAAAAAAAAAAAAAAAEAAAABAAAAAQAAAAEAAAABAAAAAQAAAAEAAAABAAAAAQAAAAAAAAACAAAAAQAAAAEAAAABAAAAAgAAAAAAAAACAAAAAAAAAAEAAAAAAAAAAQAAAAIAAAAAAAAAAAAAAAAAAAABAAAAAQAAAAAAAAACAAAAAQAAAAEAAAAAAAAAAgAAAAAAAAACAAAAAgAAAAIAAAAAAAAAAAAAAAAAAAACAAAAAQAAAAIAAAAAAAAAAAAAAAEAAAABAAAAAgAAAAAAAAACAAAAAAAAAAIAAAAAAAAAAQAAAAEAAAACAAAAAQAAAAAAAAAAAAAAAgAAAAEAAAABAAAAAAAAAAIAAAABAAAAAQAAAAEAAAAAAAAAAAAAAAIAAAACAAAAAQAAAAIAAAAAAAAAAAAAAAIAAAACAAAAAgAAAAEAAAABAAAAAQAAAAEAAAABAAAAAgAAAAAAAAAAAAAAAQAAAAIAAAAAAAAAAgAAAAIAAAAAAAAAAgAAAAEAAAACAAAAAQAAAAEAAAABAAAAAgAAAAAAAAAAAAAAAQAAAAAAAAACAAAAAgAAAAIAAAAAAAAAAQAAAAEAAAAAAAAAAQAAAAIAAAAAAAAAAQAAAAEAAAACAAAAAAAAAAIAAAABAAAAAAAAAAIAAAABAAAAAQAAAAAAAAABAAAAAgAAAAEAAAAAAAAAAAAAAAIAAAACAAAAAQAAAAAAAAACAAAAAgAAAAIAAAACAAAAAQAAAAIAAAAAAAAAAQAAAAIAAAABAAAAAQAAAAEAAAABAAAAAQAAAAIAAAAAAAAAAQAAAAAAAAACAAAAAQAAAAAAAAAAAAAAAQAAAAEAAAAAAAAAAgAAAAEAAAAAAAAAAAAAAAAAAAAAAAAAAAAAAAAAAAABAAAAAgAAAAAAAAAAAAAAAAAAAAEAAAABAAAAAAAAAAAAAAAAAAAAAAAAAAAAAAABAAAAAgAAAAIAAAABAAAAAgAAAAAAAAAAAAAAAAAAAAEAAAAAAAAAAAAAAAEAAAACAAAAAQAAAAEAAAABAAAAAQAAAAEAAAACAAAAAAAAAAAAAAACAAAAAAAAAAIAAAACAAAAAgAAAAIAAAACAAAAAQAAAAAAAAABAAAAAAAAAAEAAAABAAAAAgAAAAEAAAABAAAAAQAAAAEAAAACAAAAAgAAAAEAAAACAAAAAQAAAAAAAAAAAAAAAQAAAAAAAAABAAAAAQAAAAAAAAAAAAAAAAAAAAIAAAAAAAAAAAAAAAIAAAAAAAAAAgAAAAEAAAAAAAAAAgAAAAIAAAACAAAAAgAAAAAAAAAAAAAAAgAAAAAAAAABAAAAAQAAAAIAAAACAAAAAAAAAAEAAAAAAAAAAgAAAAEAAAAAAAAAAAAAAAIAAAABAAAAAQAAAAEAAAABAAAAAAAAAAAAAAAAAAAAAAAAAAIAAAAAAAAAAgAAAAIAAAABAAAAAAAAAAEAAAACAAAAAQAAAAAAAAACAAAAAQAAAAEAAAAAAAAAAAAAAAEAAAABAAAAAQAAAAEAAAAAAAAAAgAAAAEAAAACAAAAAAAAAAIAAAABAAAAAAAAAAAAAAAAAAAAAQAAAAAAAAAAAAAAAQAAAAIAAAACAAAAAQAAAAAAAAACAAAAAgAAAAAAAAACAAAAAAAAAAEAAAACAAAAAAAAAAEAAAACAAAAAQAAAAAAAAACAAAAAQAAAAEAAAABAAAAAQAAAAAAAAACAAAAAgAAAAAAAAAAAAAAAQAAAAEAAAABAAAAAQAAAAEAAAACAAAAAQAAAAIAAAABAAAAAAAAAAEAAAACAAAAAgAAAAIAAAAAAAAAAQAAAAAAAAACAAAAAAAAAAAAAAACAAAAAgAAAAIAAAACAAAAAQAAAAIAAAAAAAAAAQAAAAEAAAABAAAAAAAAAAEAAAACAAAAAgAAAAEAAAAAAAAAAAAAAAIAAAAAAAAAAAAAAAEAAAABAAAAAAAAAAEAAAABAAAAAAAAAAEAAAACAAAAAAAAAAEAAAABAAAAAQAAAAEAAAABAAAAAAAAAAIAAAAAAAAAAAAAAAIAAAABAAAAAAAAAAEAAAABAAAAAgAAAAEAAAABAAAAAAAAAAAAAAABAAAAAgAAAAAAAAABAAAAAAAAAAAAAAABAAAAAAAAAAAAAAABAAAAAQAAAAAAAAAAAAAAAQAAAAIAAAAAAAAAAQAAAAEAAAABAAAAAAAAAAAAAAAAAAAAAQAAAAIAAAABAAAAAQAAAAAAAAACAAAAAAAAAAAAAAACAAAAAQAAAAAAAAAAAAAAAAAAAAIAAAAAAAAAAAAAAAEAAAACAAAAAgAAAAEAAAACAAAAAQAAAAAAAAAAAAAAAQAAAAIAAAACAAAAAgAAAAIAAAABAAAAAQAAAAEAAAACAAAAAQAAAAAAAAAAAAAAAAAAAAAAAAACAAAAAQAAAAAAAAAAAAAAAQAAAAIAAAACAAAAAgAAAAEAAAABAAAAAQAAAAIAAAABAAAAAQAAAAAAAAACAAAAAAAAAAAAAAABAAAAAgAAAAEAAAABAAAAAQAAAAIAAAACAAAAAgAAAAIAAAAAAAAAAQAAAAIAAAACAAAAAQAAAAIAAAAAAAAAAQAAAAEAAAABAAAAAgAAAAEAAAABAAAAAQAAAAIAAAACAAAAAQAAAAAAAAABAAAAAgAAAAIAAAABAAAAAQAAAAEAAAACAAAAAAAAAAEAAAAAAAAAAAAAAAEAAAABAAAAAAAAAAAAAAACAAAAAAAAAAIAAAAAAAAAAQAAAAIAAAABAAAAAgAAAAAAAAABAAAAAgAAAAAAAAACAAAAAAAAAAEAAAABAAAAAgAAAAAAAAAAAAAAAQAAAAAAAAABAAAAAgAAAAEAAAAAAAAAAAAAAAAAAAAAAAAAAAAAAAAAAAAAAAAAAgAAAAAAAAABAAAAAQAAAAEAAAACAAAAAQAAAAAAAAAAAAAAAgAAAAIAAAABAAAAAAAAAAAAAAAAAAAAAAAAAAEAAAAAAAAAAgAAAAIAAAACAAAAAQAAAAAAAAABAAAAAAAAAAIAAAABAAAAAQAAAAEAAAABAAAAAQAAAAEAAAABAAAAAgAAAAEAAAACAAAAAQAAAAAAAAACAAAAAAAAAAAAAAABAAAAAAAAAAEAAAABAAAAAQAAAAEAAAABAAAAAgAAAAAAAAACAAAAAgAAAAIAAAABAAAAAAAAAAAAAAABAAAAAgAAAAIAAAABAAAAAQAAAAEAAAAAAAAAAQAAAAEAAAABAAAAAAAAAAAAAAACAAAAAgAAAAEAAAABAAAAAQAAAAIAAAABAAAAAQAAAAAAAAAAAAAAAgAAAAIAAAACAAAAAQAAAAAAAAABAAAAAgAAAAAAAAABAAAAAAAAAAAAAAACAAAAAgAAAAEAAAABAAAAAQAAAAEAAAACAAAAAAAAAAIAAAACAAAAAgAAAAIAAAACAAAAAgAAAAEAAAABAAAAAAAAAAIAAAAAAAAAAQAAAAAAAAACAAAAAQAAAAEAAAABAAAAAAAAAAAAAAABAAAAAQAAAAIAAAACAAAAAAAAAAIAAAABAAAAAAAAAAEAAAACAAAAAAAAAAIAAAABAAAAAQAAAAEAAAAAAAAAAAAAAAAAAAAAAAAAAAAAAAAAAAACAAAAAQAAAAEAAAAAAAAAAAAAAAEAAAAAAAAAAAAAAAIAAAAAAAAAAQAAAAEAAAABAAAAAQAAAAEAAAAAAAAAAgAAAAEAAAABAAAAAAAAAAAAAAAAAAAAAgAAAAIAAAACAAAAAgAAAAAAAAABAAAAAQAAAAAAAAAAAAAAAQAAAAAAAAABAAAAAAAAAAEAAAACAAAAAgAAAAAAAAACAAAAAAAAAAEAAAABAAAAAgAAAAEAAAAAAAAAAQAAAAAAAAACAAAAAgAAAAEAAAAAAAAAAQAAAAEAAAABAAAAAAAAAAAAAAACAAAAAQAAAAIAAAACAAAAAgAAAAIAAAABAAAAAAAAAAEAAAACAAAAAgAAAAEAAAAAAAAAAQAAAAAAAAAAAAAAAgAAAAEAAAAAAAAAAgAAAAEAAAABAAAAAgAAAAAAAAACAAAAAgAAAAIAAAAAAAAAAgAAAAIAAAABAAAAAQAAAAIAAAABAAAAAgAAAAIAAAACAAAAAQAAAAEAAAABAAAAAgAAAAEAAAACAAAAAgAAAAEAAAACAAAAAgAAAAEAAAABAAAAAgAAAAAAAAABAAAAAgAAAAAAAAACAAAAAQAAAAEAAAABAAAAAQAAAAAAAAABAAAAAAAAAAEAAAABAAAAAgAAAAAAAAAAAAAAAgAAAAIAAAAAAAAAAQAAAAAAAAACAAAAAgAAAAEAAAACAAAAAgAAAAIAAAACAAAAAQAAAAAAAAACAAAAAQAAAAEAAAACAAAAAgAAAAAAAAAAAAAAAQAAAAEAAAABAAAAAAAAAAEAAAACAAAAAAAAAAAAAAABAAAAAgAAAAEAAAABAAAAAQAAAAEAAAABAAAAAgAAAAEAAAACAAAAAQAAAAEAAAACAAAAAAAAAAIAAAACAAAAAgAAAAEAAAAAAAAAAAAAAAIAAAAAAAAAAQAAAAEAAAABAAAAAAAAAAEAAAABAAAAAgAAAAIAAAABAAAAAgAAAAEAAAABAAAAAQAAAAAAAAACAAAAAgAAAAEAAAAAAAAAAQAAAAIAAAAAAAAAAQAAAAEAAAAAAAAAAgAAAAEAAAAAAAAAAQAAAAEAAAAAAAAAAgAAAAEAAAABAAAAAQAAAAEAAAACAAAAAgAAAAAAAAABAAAAAgAAAAIAAAAAAAAAAAAAAAIAAAACAAAAAQAAAAIAAAAAAAAAAQAAAAIAAAACAAAAAgAAAAAAAAABAAAAAAAAAAEAAAABAAAAAQAAAAEAAAABAAAAAgAAAAEAAAABAAAAAAAAAAAAAAACAAAAAQAAAAIAAAACAAAAAgAAAAIAAAACAAAAAgAAAAIAAAABAAAAAQAAAAEAAAABAAAAAAAAAAAAAAACAAAAAAAAAAIAAAABAAAAAQAAAAEAAAAAAAAAAQAAAAIAAAACAAAAAgAAAAAAAAAAAAAAAAAAAAAAAAACAAAAAQAAAAEAAAABAAAAAgAAAAAAAAAAAAAAAgAAAAAAAAACAAAAAQAAAAEAAAABAAAAAAAAAAIAAAAAAAAAAAAAAAEAAAACAAAAAgAAAAIAAAABAAAAAQAAAAIAAAACAAAAAAAAAAIAAAACAAAAAgAAAAEAAAAAAAAAAQAAAAIAAAAAAAAAAAAAAAIAAAAAAAAAAQAAAAAAAAAAAAAAAAAAAAIAAAACAAAAAAAAAAEAAAAAAAAAAAAAAAEAAAABAAAAAgAAAAEAAAABAAAAAQAAAAIAAAABAAAAAgAAAAAAAAACAAAAAAAAAAEAAAACAAAAAQAAAAIAAAACAAAAAAAAAAEAAAACAAAAAgAAAAAAAAAAAAAAAQAAAAIAAAABAAAAAgAAAAIAAAABAAAAAgAAAAEAAAABAAAAAQAAAAEAAAABAAAAAQAAAAAAAAACAAAAAgAAAAAAAAABAAAAAgAAAAIAAAACAAAAAAAAAAAAAAAAAAAAAAAAAAAAAAABAAAAAgAAAAIAAAAAAAAAAgAAAAAAAAACAAAAAgAAAAAAAAABAAAAAAAAAAIAAAAAAAAAAQAAAAAAAAABAAAAAAAAAAEAAAACAAAAAgAAAAAAAAABAAAAAAAAAAEAAAABAAAAAgAAAAIAAAABAAAAAgAAAAIAAAAAAAAAAQAAAAEAAAAAAAAAAQAAAAEAAAABAAAAAQAAAAIAAAAAAAAAAgAAAAAAAAAAAAAAAgAAAAEAAAABAAAAAAAAAAAAAAACAAAAAAAAAAEAAAABAAAAAQAAAAIAAAACAAAAAgAAAAIAAAAAAAAAAQAAAAIAAAAAAAAAAgAAAAAAAAABAAAAAQAAAAIAAAABAAAAAgAAAAEAAAABAAAAAAAAAAAAAAAAAAAAAQAAAAIAAAACAAAAAQAAAAAAAAAAAAAAAQAAAAEAAAAAAAAAAgAAAAEAAAAAAAAAAAAAAAIAAAAAAAAAAgAAAAIAAAAAAAAAAgAAAAEAAAAAAAAAAQAAAAAAAAACAAAAAgAAAAAAAAAAAAAAAgAAAAAAAAABAAAAAAAAAAAAAAABAAAAAgAAAAEAAAAAAAAAAQAAAAIAAAACAAAAAAAAAAAAAAACAAAAAAAAAAIAAAABAAAAAQAAAAAAAAAAAAAAAQAAAAIAAAABAAAAAAAAAAAAAAAAAAAAAAAAAAEAAAACAAAAAQAAAAEAAAACAAAAAQAAAAAAAAAAAAAAAQAAAAIAAAAAAAAAAgAAAAEAAAAAAAAAAgAAAAAAAAACAAAAAAAAAAAAAAAAAAAAAgAAAAIAAAABAAAAAAAAAAEAAAAAAAAAAQAAAAIAAAABAAAAAQAAAAAAAAACAAAAAAAAAAEAAAACAAAAAQAAAAIAAAABAAAAAgAAAAIAAAABAAAAAAAAAAEAAAABAAAAAgAAAAEAAAABAAAAAAAAAAAAAAABAAAAAgAAAAAAAAACAAAAAAAAAAAAAAAAAAAAAQAAAAAAAAAAAAAAAAAAAAEAAAAAAAAAAgAAAAIAAAACAAAAAAAAAAEAAAABAAAAAgAAAAAAAAACAAAAAQAAAAEAAAABAAAAAAAAAAIAAAAAAAAAAAAAAAEAAAABAAAAAQAAAAAAAAACAAAAAQAAAAIAAAABAAAAAQAAAAEAAAACAAAAAgAAAAAAAAAAAAAAAAAAAAIAAAAAAAAAAgAAAAIAAAACAAAAAQAAAAIAAAACAAAAAQAAAAIAAAACAAAAAgAAAAIAAAACAAAAAgAAAAEAAAAAAAAAAQAAAAIAAAABAAAAAAAAAAEAAAABAAAAAAAAAAAAAAABAAAAAgAAAAEAAAAAAAAAAgAAAAAAAAAAAAAAAgAAAAEAAAAAAAAAAQAAAAIAAAACAAAAAAAAAAAAAAABAAAAAgAAAAEAAAABAAAAAAAAAAEAAAABAAAAAQAAAAIAAAABAAAAAgAAAAEAAAABAAAAAQAAAAAAAAAAAAAAAQAAAAAAAAACAAAAAAAAAAEAAAAAAAAAAAAAAAEAAAAAAAAAAQAAAAAAAAABAAAAAgAAAAEAAAABAAAAAQAAAAAAAAABAAAAAgAAAAEAAAAAAAAAAgAAAAIAAAACAAAAAgAAAAIAAAACAAAAAAAAAAAAAAAAAAAAAQAAAAEAAAACAAAAAAAAAAIAAAAAAAAAAgAAAAEAAAAAAAAAAgAAAAAAAAAAAAAAAgAAAAIAAAABAAAAAQAAAAIAAAABAAAAAQAAAAIAAAAAAAAAAQAAAAIAAAACAAAAAQAAAAEAAAABAAAAAgAAAAAAAAABAAAAAQAAAAAAAAABAAAAAgAAAAEAAAACAAAAAQAAAAIAAAAAAAAAAQAAAAEAAAAAAAAAAAAAAAEAAAACAAAAAgAAAAEAAAAAAAAAAQAAAAIAAAACAAAAAQAAAAIAAAABAAAAAQAAAAIAAAACAAAAAAAAAAEAAAABAAAAAgAAAAEAAAACAAAAAAAAAAEAAAAAAAAAAgAAAAEAAAAAAAAAAQAAAAEAAAACAAAAAgAAAAIAAAAAAAAAAgAAAAAAAAACAAAAAgAAAAAAAAABAAAAAgAAAAIAAAACAAAAAgAAAAEAAAABAAAAAQAAAAIAAAABAAAAAAAAAAEAAAACAAAAAgAAAAIAAAAAAAAAAgAAAAEAAAABAAAAAgAAAAEAAAACAAAAAAAAAAEAAAABAAAAAAAAAAEAAAABAAAAAAAAAAEAAAAAAAAAAQAAAAAAAAACAAAAAQAAAAIAAAAAAAAAAAAAAAAAAAABAAAAAgAAAAAAAAACAAAAAQAAAAEAAAACAAAAAAAAAAAAAAABAAAAAQAAAAAAAAABAAAAAQAAAAAAAAACAAAAAAAAAAAAAAABAAAAAAAAAAAAAAACAAAAAAAAAAIAAAA=",
           "dtype": "i4"
          },
          "coloraxis": "coloraxis",
          "symbol": "circle"
         },
         "mode": "markers",
         "name": "",
         "scene": "scene",
         "showlegend": false,
         "type": "scatter3d",
         "x": {
          "bdata": "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",
          "dtype": "f8"
         },
         "y": {
          "bdata": "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",
          "dtype": "f8"
         },
         "z": {
          "bdata": "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",
          "dtype": "f8"
         }
        }
       ],
       "layout": {
        "coloraxis": {
         "colorbar": {
          "title": {
           "text": "Cluster"
          }
         },
         "colorscale": [
          [
           0,
           "#440154"
          ],
          [
           0.1111111111111111,
           "#482878"
          ],
          [
           0.2222222222222222,
           "#3e4989"
          ],
          [
           0.3333333333333333,
           "#31688e"
          ],
          [
           0.4444444444444444,
           "#26828e"
          ],
          [
           0.5555555555555556,
           "#1f9e89"
          ],
          [
           0.6666666666666666,
           "#35b779"
          ],
          [
           0.7777777777777778,
           "#6ece58"
          ],
          [
           0.8888888888888888,
           "#b5de2b"
          ],
          [
           1,
           "#fde725"
          ]
         ]
        },
        "legend": {
         "tracegroupgap": 0
        },
        "scene": {
         "domain": {
          "x": [
           0,
           1
          ],
          "y": [
           0,
           1
          ]
         },
         "xaxis": {
          "title": {
           "text": "Total Score"
          }
         },
         "yaxis": {
          "title": {
           "text": "Study_Hours_per_Week"
          }
         },
         "zaxis": {
          "title": {
           "text": "Attendance (%)"
          }
         }
        },
        "template": {
         "data": {
          "bar": [
           {
            "error_x": {
             "color": "#2a3f5f"
            },
            "error_y": {
             "color": "#2a3f5f"
            },
            "marker": {
             "line": {
              "color": "#E5ECF6",
              "width": 0.5
             },
             "pattern": {
              "fillmode": "overlay",
              "size": 10,
              "solidity": 0.2
             }
            },
            "type": "bar"
           }
          ],
          "barpolar": [
           {
            "marker": {
             "line": {
              "color": "#E5ECF6",
              "width": 0.5
             },
             "pattern": {
              "fillmode": "overlay",
              "size": 10,
              "solidity": 0.2
             }
            },
            "type": "barpolar"
           }
          ],
          "carpet": [
           {
            "aaxis": {
             "endlinecolor": "#2a3f5f",
             "gridcolor": "white",
             "linecolor": "white",
             "minorgridcolor": "white",
             "startlinecolor": "#2a3f5f"
            },
            "baxis": {
             "endlinecolor": "#2a3f5f",
             "gridcolor": "white",
             "linecolor": "white",
             "minorgridcolor": "white",
             "startlinecolor": "#2a3f5f"
            },
            "type": "carpet"
           }
          ],
          "choropleth": [
           {
            "colorbar": {
             "outlinewidth": 0,
             "ticks": ""
            },
            "type": "choropleth"
           }
          ],
          "contour": [
           {
            "colorbar": {
             "outlinewidth": 0,
             "ticks": ""
            },
            "colorscale": [
             [
              0,
              "#0d0887"
             ],
             [
              0.1111111111111111,
              "#46039f"
             ],
             [
              0.2222222222222222,
              "#7201a8"
             ],
             [
              0.3333333333333333,
              "#9c179e"
             ],
             [
              0.4444444444444444,
              "#bd3786"
             ],
             [
              0.5555555555555556,
              "#d8576b"
             ],
             [
              0.6666666666666666,
              "#ed7953"
             ],
             [
              0.7777777777777778,
              "#fb9f3a"
             ],
             [
              0.8888888888888888,
              "#fdca26"
             ],
             [
              1,
              "#f0f921"
             ]
            ],
            "type": "contour"
           }
          ],
          "contourcarpet": [
           {
            "colorbar": {
             "outlinewidth": 0,
             "ticks": ""
            },
            "type": "contourcarpet"
           }
          ],
          "heatmap": [
           {
            "colorbar": {
             "outlinewidth": 0,
             "ticks": ""
            },
            "colorscale": [
             [
              0,
              "#0d0887"
             ],
             [
              0.1111111111111111,
              "#46039f"
             ],
             [
              0.2222222222222222,
              "#7201a8"
             ],
             [
              0.3333333333333333,
              "#9c179e"
             ],
             [
              0.4444444444444444,
              "#bd3786"
             ],
             [
              0.5555555555555556,
              "#d8576b"
             ],
             [
              0.6666666666666666,
              "#ed7953"
             ],
             [
              0.7777777777777778,
              "#fb9f3a"
             ],
             [
              0.8888888888888888,
              "#fdca26"
             ],
             [
              1,
              "#f0f921"
             ]
            ],
            "type": "heatmap"
           }
          ],
          "histogram": [
           {
            "marker": {
             "pattern": {
              "fillmode": "overlay",
              "size": 10,
              "solidity": 0.2
             }
            },
            "type": "histogram"
           }
          ],
          "histogram2d": [
           {
            "colorbar": {
             "outlinewidth": 0,
             "ticks": ""
            },
            "colorscale": [
             [
              0,
              "#0d0887"
             ],
             [
              0.1111111111111111,
              "#46039f"
             ],
             [
              0.2222222222222222,
              "#7201a8"
             ],
             [
              0.3333333333333333,
              "#9c179e"
             ],
             [
              0.4444444444444444,
              "#bd3786"
             ],
             [
              0.5555555555555556,
              "#d8576b"
             ],
             [
              0.6666666666666666,
              "#ed7953"
             ],
             [
              0.7777777777777778,
              "#fb9f3a"
             ],
             [
              0.8888888888888888,
              "#fdca26"
             ],
             [
              1,
              "#f0f921"
             ]
            ],
            "type": "histogram2d"
           }
          ],
          "histogram2dcontour": [
           {
            "colorbar": {
             "outlinewidth": 0,
             "ticks": ""
            },
            "colorscale": [
             [
              0,
              "#0d0887"
             ],
             [
              0.1111111111111111,
              "#46039f"
             ],
             [
              0.2222222222222222,
              "#7201a8"
             ],
             [
              0.3333333333333333,
              "#9c179e"
             ],
             [
              0.4444444444444444,
              "#bd3786"
             ],
             [
              0.5555555555555556,
              "#d8576b"
             ],
             [
              0.6666666666666666,
              "#ed7953"
             ],
             [
              0.7777777777777778,
              "#fb9f3a"
             ],
             [
              0.8888888888888888,
              "#fdca26"
             ],
             [
              1,
              "#f0f921"
             ]
            ],
            "type": "histogram2dcontour"
           }
          ],
          "mesh3d": [
           {
            "colorbar": {
             "outlinewidth": 0,
             "ticks": ""
            },
            "type": "mesh3d"
           }
          ],
          "parcoords": [
           {
            "line": {
             "colorbar": {
              "outlinewidth": 0,
              "ticks": ""
             }
            },
            "type": "parcoords"
           }
          ],
          "pie": [
           {
            "automargin": true,
            "type": "pie"
           }
          ],
          "scatter": [
           {
            "fillpattern": {
             "fillmode": "overlay",
             "size": 10,
             "solidity": 0.2
            },
            "type": "scatter"
           }
          ],
          "scatter3d": [
           {
            "line": {
             "colorbar": {
              "outlinewidth": 0,
              "ticks": ""
             }
            },
            "marker": {
             "colorbar": {
              "outlinewidth": 0,
              "ticks": ""
             }
            },
            "type": "scatter3d"
           }
          ],
          "scattercarpet": [
           {
            "marker": {
             "colorbar": {
              "outlinewidth": 0,
              "ticks": ""
             }
            },
            "type": "scattercarpet"
           }
          ],
          "scattergeo": [
           {
            "marker": {
             "colorbar": {
              "outlinewidth": 0,
              "ticks": ""
             }
            },
            "type": "scattergeo"
           }
          ],
          "scattergl": [
           {
            "marker": {
             "colorbar": {
              "outlinewidth": 0,
              "ticks": ""
             }
            },
            "type": "scattergl"
           }
          ],
          "scattermap": [
           {
            "marker": {
             "colorbar": {
              "outlinewidth": 0,
              "ticks": ""
             }
            },
            "type": "scattermap"
           }
          ],
          "scattermapbox": [
           {
            "marker": {
             "colorbar": {
              "outlinewidth": 0,
              "ticks": ""
             }
            },
            "type": "scattermapbox"
           }
          ],
          "scatterpolar": [
           {
            "marker": {
             "colorbar": {
              "outlinewidth": 0,
              "ticks": ""
             }
            },
            "type": "scatterpolar"
           }
          ],
          "scatterpolargl": [
           {
            "marker": {
             "colorbar": {
              "outlinewidth": 0,
              "ticks": ""
             }
            },
            "type": "scatterpolargl"
           }
          ],
          "scatterternary": [
           {
            "marker": {
             "colorbar": {
              "outlinewidth": 0,
              "ticks": ""
             }
            },
            "type": "scatterternary"
           }
          ],
          "surface": [
           {
            "colorbar": {
             "outlinewidth": 0,
             "ticks": ""
            },
            "colorscale": [
             [
              0,
              "#0d0887"
             ],
             [
              0.1111111111111111,
              "#46039f"
             ],
             [
              0.2222222222222222,
              "#7201a8"
             ],
             [
              0.3333333333333333,
              "#9c179e"
             ],
             [
              0.4444444444444444,
              "#bd3786"
             ],
             [
              0.5555555555555556,
              "#d8576b"
             ],
             [
              0.6666666666666666,
              "#ed7953"
             ],
             [
              0.7777777777777778,
              "#fb9f3a"
             ],
             [
              0.8888888888888888,
              "#fdca26"
             ],
             [
              1,
              "#f0f921"
             ]
            ],
            "type": "surface"
           }
          ],
          "table": [
           {
            "cells": {
             "fill": {
              "color": "#EBF0F8"
             },
             "line": {
              "color": "white"
             }
            },
            "header": {
             "fill": {
              "color": "#C8D4E3"
             },
             "line": {
              "color": "white"
             }
            },
            "type": "table"
           }
          ]
         },
         "layout": {
          "annotationdefaults": {
           "arrowcolor": "#2a3f5f",
           "arrowhead": 0,
           "arrowwidth": 1
          },
          "autotypenumbers": "strict",
          "coloraxis": {
           "colorbar": {
            "outlinewidth": 0,
            "ticks": ""
           }
          },
          "colorscale": {
           "diverging": [
            [
             0,
             "#8e0152"
            ],
            [
             0.1,
             "#c51b7d"
            ],
            [
             0.2,
             "#de77ae"
            ],
            [
             0.3,
             "#f1b6da"
            ],
            [
             0.4,
             "#fde0ef"
            ],
            [
             0.5,
             "#f7f7f7"
            ],
            [
             0.6,
             "#e6f5d0"
            ],
            [
             0.7,
             "#b8e186"
            ],
            [
             0.8,
             "#7fbc41"
            ],
            [
             0.9,
             "#4d9221"
            ],
            [
             1,
             "#276419"
            ]
           ],
           "sequential": [
            [
             0,
             "#0d0887"
            ],
            [
             0.1111111111111111,
             "#46039f"
            ],
            [
             0.2222222222222222,
             "#7201a8"
            ],
            [
             0.3333333333333333,
             "#9c179e"
            ],
            [
             0.4444444444444444,
             "#bd3786"
            ],
            [
             0.5555555555555556,
             "#d8576b"
            ],
            [
             0.6666666666666666,
             "#ed7953"
            ],
            [
             0.7777777777777778,
             "#fb9f3a"
            ],
            [
             0.8888888888888888,
             "#fdca26"
            ],
            [
             1,
             "#f0f921"
            ]
           ],
           "sequentialminus": [
            [
             0,
             "#0d0887"
            ],
            [
             0.1111111111111111,
             "#46039f"
            ],
            [
             0.2222222222222222,
             "#7201a8"
            ],
            [
             0.3333333333333333,
             "#9c179e"
            ],
            [
             0.4444444444444444,
             "#bd3786"
            ],
            [
             0.5555555555555556,
             "#d8576b"
            ],
            [
             0.6666666666666666,
             "#ed7953"
            ],
            [
             0.7777777777777778,
             "#fb9f3a"
            ],
            [
             0.8888888888888888,
             "#fdca26"
            ],
            [
             1,
             "#f0f921"
            ]
           ]
          },
          "colorway": [
           "#636efa",
           "#EF553B",
           "#00cc96",
           "#ab63fa",
           "#FFA15A",
           "#19d3f3",
           "#FF6692",
           "#B6E880",
           "#FF97FF",
           "#FECB52"
          ],
          "font": {
           "color": "#2a3f5f"
          },
          "geo": {
           "bgcolor": "white",
           "lakecolor": "white",
           "landcolor": "#E5ECF6",
           "showlakes": true,
           "showland": true,
           "subunitcolor": "white"
          },
          "hoverlabel": {
           "align": "left"
          },
          "hovermode": "closest",
          "mapbox": {
           "style": "light"
          },
          "paper_bgcolor": "white",
          "plot_bgcolor": "#E5ECF6",
          "polar": {
           "angularaxis": {
            "gridcolor": "white",
            "linecolor": "white",
            "ticks": ""
           },
           "bgcolor": "#E5ECF6",
           "radialaxis": {
            "gridcolor": "white",
            "linecolor": "white",
            "ticks": ""
           }
          },
          "scene": {
           "xaxis": {
            "backgroundcolor": "#E5ECF6",
            "gridcolor": "white",
            "gridwidth": 2,
            "linecolor": "white",
            "showbackground": true,
            "ticks": "",
            "zerolinecolor": "white"
           },
           "yaxis": {
            "backgroundcolor": "#E5ECF6",
            "gridcolor": "white",
            "gridwidth": 2,
            "linecolor": "white",
            "showbackground": true,
            "ticks": "",
            "zerolinecolor": "white"
           },
           "zaxis": {
            "backgroundcolor": "#E5ECF6",
            "gridcolor": "white",
            "gridwidth": 2,
            "linecolor": "white",
            "showbackground": true,
            "ticks": "",
            "zerolinecolor": "white"
           }
          },
          "shapedefaults": {
           "line": {
            "color": "#2a3f5f"
           }
          },
          "ternary": {
           "aaxis": {
            "gridcolor": "white",
            "linecolor": "white",
            "ticks": ""
           },
           "baxis": {
            "gridcolor": "white",
            "linecolor": "white",
            "ticks": ""
           },
           "bgcolor": "#E5ECF6",
           "caxis": {
            "gridcolor": "white",
            "linecolor": "white",
            "ticks": ""
           }
          },
          "title": {
           "x": 0.05
          },
          "xaxis": {
           "automargin": true,
           "gridcolor": "white",
           "linecolor": "white",
           "ticks": "",
           "title": {
            "standoff": 15
           },
           "zerolinecolor": "white",
           "zerolinewidth": 2
          },
          "yaxis": {
           "automargin": true,
           "gridcolor": "white",
           "linecolor": "white",
           "ticks": "",
           "title": {
            "standoff": 15
           },
           "zerolinecolor": "white",
           "zerolinewidth": 2
          }
         }
        },
        "title": {
         "text": "Clusters en Datos Normalizados"
        }
       }
      }
     },
     "metadata": {},
     "output_type": "display_data"
    },
    {
     "data": {
      "application/vnd.plotly.v1+json": {
       "config": {
        "plotlyServerURL": "https://plot.ly"
       },
       "data": [
        {
         "hovertemplate": "Total Score=%{x}<br>Study_Hours_per_Week=%{y}<br>Attendance (%)=%{z}<br>Cluster=%{marker.color}<extra></extra>",
         "legendgroup": "",
         "marker": {
          "color": {
           "bdata": "AQAAAAIAAAABAAAAAgAAAAEAAAABAAAAAQAAAAAAAAABAAAAAAAAAAIAAAABAAAAAgAAAAAAAAACAAAAAgAAAAAAAAABAAAAAQAAAAAAAAACAAAAAgAAAAAAAAAAAAAAAQAAAAEAAAABAAAAAQAAAAEAAAABAAAAAgAAAAEAAAAAAAAAAAAAAAIAAAACAAAAAgAAAAIAAAACAAAAAAAAAAIAAAACAAAAAQAAAAAAAAAAAAAAAAAAAAIAAAABAAAAAQAAAAAAAAAAAAAAAQAAAAAAAAAAAAAAAAAAAAEAAAACAAAAAgAAAAIAAAABAAAAAQAAAAEAAAAAAAAAAgAAAAEAAAABAAAAAQAAAAIAAAAAAAAAAAAAAAIAAAAAAAAAAQAAAAEAAAACAAAAAQAAAAIAAAAAAAAAAAAAAAAAAAABAAAAAAAAAAAAAAAAAAAAAgAAAAAAAAAAAAAAAgAAAAAAAAAAAAAAAQAAAAEAAAABAAAAAAAAAAAAAAABAAAAAAAAAAAAAAACAAAAAgAAAAIAAAAAAAAAAgAAAAAAAAAAAAAAAAAAAAAAAAABAAAAAQAAAAAAAAABAAAAAQAAAAAAAAABAAAAAgAAAAAAAAAAAAAAAQAAAAIAAAABAAAAAgAAAAEAAAACAAAAAAAAAAEAAAACAAAAAAAAAAEAAAACAAAAAQAAAAIAAAAAAAAAAQAAAAIAAAABAAAAAQAAAAEAAAAAAAAAAgAAAAEAAAACAAAAAgAAAAAAAAACAAAAAQAAAAEAAAAAAAAAAQAAAAEAAAABAAAAAAAAAAEAAAAAAAAAAgAAAAAAAAACAAAAAgAAAAIAAAACAAAAAAAAAAEAAAACAAAAAAAAAAEAAAABAAAAAQAAAAAAAAABAAAAAgAAAAAAAAAAAAAAAgAAAAIAAAACAAAAAgAAAAAAAAABAAAAAAAAAAEAAAABAAAAAAAAAAIAAAACAAAAAQAAAAAAAAABAAAAAAAAAAEAAAAAAAAAAgAAAAEAAAABAAAAAgAAAAIAAAABAAAAAQAAAAEAAAABAAAAAAAAAAIAAAAAAAAAAgAAAAAAAAACAAAAAgAAAAEAAAAAAAAAAAAAAAAAAAABAAAAAQAAAAIAAAACAAAAAQAAAAEAAAAAAAAAAQAAAAAAAAABAAAAAQAAAAIAAAABAAAAAQAAAAEAAAABAAAAAgAAAAIAAAAAAAAAAAAAAAEAAAABAAAAAQAAAAIAAAACAAAAAgAAAAAAAAABAAAAAQAAAAEAAAABAAAAAQAAAAAAAAACAAAAAgAAAAAAAAABAAAAAQAAAAAAAAAAAAAAAQAAAAEAAAAAAAAAAgAAAAIAAAACAAAAAAAAAAAAAAAAAAAAAQAAAAEAAAACAAAAAAAAAAAAAAACAAAAAAAAAAIAAAAAAAAAAQAAAAIAAAACAAAAAgAAAAEAAAABAAAAAgAAAAAAAAACAAAAAgAAAAAAAAAAAAAAAAAAAAIAAAACAAAAAAAAAAEAAAACAAAAAQAAAAEAAAABAAAAAQAAAAIAAAAAAAAAAQAAAAIAAAAAAAAAAgAAAAAAAAABAAAAAgAAAAAAAAACAAAAAgAAAAAAAAAAAAAAAgAAAAEAAAACAAAAAQAAAAAAAAAAAAAAAQAAAAAAAAACAAAAAgAAAAIAAAAAAAAAAgAAAAEAAAACAAAAAQAAAAEAAAABAAAAAAAAAAEAAAACAAAAAgAAAAAAAAACAAAAAQAAAAEAAAACAAAAAAAAAAAAAAACAAAAAAAAAAEAAAAAAAAAAgAAAAIAAAABAAAAAAAAAAEAAAAAAAAAAQAAAAEAAAACAAAAAQAAAAEAAAACAAAAAQAAAAAAAAACAAAAAgAAAAEAAAACAAAAAAAAAAAAAAACAAAAAAAAAAIAAAABAAAAAQAAAAAAAAAAAAAAAQAAAAIAAAAAAAAAAgAAAAEAAAABAAAAAAAAAAIAAAABAAAAAgAAAAEAAAAAAAAAAAAAAAAAAAAAAAAAAQAAAAEAAAABAAAAAQAAAAIAAAAAAAAAAgAAAAIAAAACAAAAAgAAAAEAAAACAAAAAQAAAAAAAAACAAAAAgAAAAAAAAACAAAAAAAAAAIAAAAAAAAAAQAAAAAAAAABAAAAAQAAAAIAAAAAAAAAAgAAAAEAAAABAAAAAQAAAAEAAAACAAAAAAAAAAAAAAAAAAAAAAAAAAIAAAAAAAAAAgAAAAIAAAAAAAAAAAAAAAEAAAAAAAAAAQAAAAEAAAAAAAAAAAAAAAEAAAAAAAAAAAAAAAIAAAABAAAAAAAAAAAAAAACAAAAAQAAAAEAAAABAAAAAAAAAAEAAAABAAAAAgAAAAIAAAACAAAAAAAAAAEAAAABAAAAAgAAAAIAAAAAAAAAAQAAAAEAAAACAAAAAgAAAAIAAAACAAAAAgAAAAAAAAACAAAAAAAAAAIAAAABAAAAAAAAAAIAAAABAAAAAAAAAAEAAAAAAAAAAQAAAAEAAAAAAAAAAgAAAAAAAAACAAAAAAAAAAEAAAACAAAAAQAAAAAAAAAAAAAAAQAAAAEAAAACAAAAAgAAAAAAAAACAAAAAgAAAAEAAAAAAAAAAgAAAAIAAAABAAAAAAAAAAEAAAABAAAAAAAAAAIAAAACAAAAAgAAAAIAAAAAAAAAAgAAAAAAAAABAAAAAQAAAAEAAAABAAAAAgAAAAAAAAAAAAAAAgAAAAAAAAACAAAAAgAAAAAAAAACAAAAAQAAAAAAAAAAAAAAAAAAAAAAAAABAAAAAAAAAAEAAAAAAAAAAAAAAAEAAAAAAAAAAQAAAAEAAAABAAAAAAAAAAAAAAABAAAAAgAAAAIAAAACAAAAAQAAAAIAAAACAAAAAQAAAAAAAAACAAAAAAAAAAIAAAAAAAAAAAAAAAAAAAACAAAAAQAAAAAAAAACAAAAAQAAAAAAAAAAAAAAAgAAAAAAAAAAAAAAAQAAAAIAAAABAAAAAgAAAAEAAAABAAAAAAAAAAAAAAAAAAAAAQAAAAEAAAAAAAAAAAAAAAIAAAABAAAAAgAAAAIAAAABAAAAAgAAAAEAAAACAAAAAQAAAAAAAAAAAAAAAAAAAAEAAAACAAAAAAAAAAEAAAABAAAAAAAAAAIAAAACAAAAAgAAAAIAAAABAAAAAAAAAAIAAAABAAAAAQAAAAAAAAABAAAAAAAAAAAAAAACAAAAAQAAAAIAAAABAAAAAAAAAAIAAAACAAAAAQAAAAEAAAAAAAAAAQAAAAAAAAAAAAAAAAAAAAEAAAAAAAAAAAAAAAEAAAAAAAAAAQAAAAEAAAAAAAAAAgAAAAIAAAABAAAAAQAAAAEAAAABAAAAAQAAAAEAAAAAAAAAAgAAAAAAAAABAAAAAQAAAAEAAAABAAAAAgAAAAIAAAAAAAAAAgAAAAEAAAAAAAAAAgAAAAIAAAAAAAAAAQAAAAEAAAAAAAAAAAAAAAAAAAACAAAAAAAAAAIAAAACAAAAAQAAAAAAAAACAAAAAgAAAAAAAAAAAAAAAQAAAAEAAAAAAAAAAQAAAAIAAAACAAAAAQAAAAIAAAAAAAAAAQAAAAEAAAABAAAAAAAAAAAAAAABAAAAAAAAAAIAAAABAAAAAAAAAAEAAAAAAAAAAgAAAAAAAAABAAAAAAAAAAAAAAAAAAAAAAAAAAAAAAAAAAAAAAAAAAAAAAACAAAAAAAAAAEAAAABAAAAAAAAAAAAAAABAAAAAgAAAAIAAAAAAAAAAQAAAAIAAAABAAAAAAAAAAAAAAACAAAAAQAAAAIAAAAAAAAAAgAAAAAAAAACAAAAAQAAAAEAAAAAAAAAAgAAAAEAAAACAAAAAQAAAAIAAAAAAAAAAgAAAAIAAAACAAAAAQAAAAEAAAABAAAAAQAAAAIAAAAAAAAAAAAAAAEAAAACAAAAAAAAAAEAAAAAAAAAAAAAAAIAAAAAAAAAAAAAAAAAAAABAAAAAAAAAAEAAAAAAAAAAQAAAAEAAAAAAAAAAgAAAAIAAAAAAAAAAQAAAAIAAAACAAAAAgAAAAIAAAABAAAAAAAAAAIAAAABAAAAAgAAAAIAAAACAAAAAAAAAAIAAAACAAAAAQAAAAEAAAABAAAAAAAAAAAAAAACAAAAAgAAAAEAAAACAAAAAgAAAAIAAAACAAAAAgAAAAIAAAACAAAAAQAAAAIAAAABAAAAAQAAAAAAAAACAAAAAQAAAAAAAAABAAAAAAAAAAAAAAACAAAAAQAAAAAAAAABAAAAAAAAAAEAAAAAAAAAAQAAAAIAAAACAAAAAgAAAAIAAAAAAAAAAAAAAAIAAAAAAAAAAgAAAAEAAAABAAAAAQAAAAIAAAAAAAAAAAAAAAAAAAABAAAAAgAAAAAAAAACAAAAAQAAAAAAAAACAAAAAgAAAAIAAAAAAAAAAAAAAAIAAAAAAAAAAQAAAAEAAAABAAAAAQAAAAIAAAACAAAAAQAAAAIAAAAAAAAAAAAAAAAAAAABAAAAAQAAAAEAAAABAAAAAgAAAAEAAAABAAAAAQAAAAAAAAAAAAAAAQAAAAEAAAABAAAAAAAAAAEAAAACAAAAAgAAAAEAAAABAAAAAQAAAAAAAAAAAAAAAgAAAAIAAAABAAAAAAAAAAEAAAAAAAAAAgAAAAEAAAACAAAAAgAAAAEAAAABAAAAAAAAAAIAAAACAAAAAgAAAAIAAAACAAAAAgAAAAIAAAAAAAAAAAAAAAIAAAACAAAAAQAAAAEAAAACAAAAAQAAAAAAAAACAAAAAQAAAAAAAAAAAAAAAAAAAAIAAAABAAAAAAAAAAEAAAAAAAAAAAAAAAEAAAACAAAAAAAAAAAAAAACAAAAAQAAAAAAAAACAAAAAQAAAAIAAAABAAAAAQAAAAAAAAACAAAAAgAAAAIAAAABAAAAAQAAAAEAAAABAAAAAAAAAAEAAAAAAAAAAQAAAAIAAAAAAAAAAQAAAAAAAAACAAAAAAAAAAIAAAACAAAAAgAAAAIAAAAAAAAAAAAAAAIAAAABAAAAAQAAAAAAAAABAAAAAQAAAAIAAAABAAAAAAAAAAIAAAAAAAAAAAAAAAAAAAACAAAAAAAAAAEAAAABAAAAAAAAAAEAAAABAAAAAAAAAAIAAAABAAAAAgAAAAEAAAAAAAAAAgAAAAEAAAAAAAAAAQAAAAAAAAABAAAAAQAAAAEAAAAAAAAAAgAAAAIAAAABAAAAAgAAAAAAAAAAAAAAAQAAAAAAAAACAAAAAQAAAAEAAAABAAAAAQAAAAEAAAAAAAAAAAAAAAIAAAABAAAAAAAAAAEAAAAAAAAAAgAAAAIAAAAAAAAAAQAAAAEAAAABAAAAAQAAAAAAAAABAAAAAgAAAAEAAAABAAAAAAAAAAEAAAAAAAAAAgAAAAEAAAACAAAAAQAAAAAAAAACAAAAAAAAAAIAAAABAAAAAgAAAAIAAAAAAAAAAAAAAAIAAAAAAAAAAQAAAAIAAAAAAAAAAgAAAAIAAAABAAAAAAAAAAAAAAABAAAAAQAAAAEAAAAAAAAAAgAAAAAAAAACAAAAAQAAAAIAAAACAAAAAQAAAAEAAAABAAAAAAAAAAIAAAAAAAAAAgAAAAAAAAACAAAAAAAAAAAAAAACAAAAAgAAAAEAAAABAAAAAQAAAAIAAAABAAAAAAAAAAEAAAAAAAAAAQAAAAEAAAAAAAAAAQAAAAAAAAABAAAAAAAAAAEAAAAAAAAAAgAAAAAAAAABAAAAAQAAAAEAAAACAAAAAQAAAAAAAAAAAAAAAQAAAAAAAAAAAAAAAgAAAAEAAAABAAAAAgAAAAIAAAAAAAAAAgAAAAIAAAABAAAAAQAAAAAAAAAAAAAAAgAAAAAAAAAAAAAAAQAAAAEAAAAAAAAAAAAAAAAAAAACAAAAAgAAAAEAAAACAAAAAQAAAAEAAAABAAAAAAAAAAIAAAAAAAAAAAAAAAAAAAACAAAAAAAAAAEAAAACAAAAAQAAAAIAAAACAAAAAAAAAAIAAAACAAAAAQAAAAIAAAAAAAAAAAAAAAIAAAABAAAAAgAAAAEAAAAAAAAAAgAAAAIAAAAAAAAAAAAAAAAAAAAAAAAAAAAAAAAAAAAAAAAAAgAAAAEAAAABAAAAAAAAAAIAAAABAAAAAgAAAAIAAAAAAAAAAQAAAAEAAAAAAAAAAAAAAAIAAAACAAAAAAAAAAEAAAACAAAAAQAAAAEAAAACAAAAAAAAAAEAAAAAAAAAAQAAAAAAAAABAAAAAQAAAAIAAAAAAAAAAAAAAAEAAAAAAAAAAAAAAAEAAAABAAAAAgAAAAIAAAACAAAAAQAAAAEAAAAAAAAAAQAAAAEAAAACAAAAAQAAAAAAAAACAAAAAQAAAAAAAAACAAAAAAAAAAIAAAABAAAAAQAAAAAAAAACAAAAAgAAAAIAAAACAAAAAgAAAAIAAAAAAAAAAgAAAAAAAAAAAAAAAgAAAAAAAAAAAAAAAQAAAAEAAAABAAAAAgAAAAEAAAAAAAAAAQAAAAEAAAAAAAAAAAAAAAEAAAACAAAAAQAAAAAAAAABAAAAAgAAAAAAAAABAAAAAgAAAAEAAAAAAAAAAQAAAAIAAAABAAAAAAAAAAAAAAACAAAAAQAAAAIAAAAAAAAAAAAAAAAAAAAAAAAAAgAAAAEAAAACAAAAAAAAAAAAAAABAAAAAAAAAAEAAAACAAAAAgAAAAIAAAABAAAAAgAAAAAAAAABAAAAAAAAAAIAAAAAAAAAAQAAAAEAAAACAAAAAQAAAAAAAAABAAAAAgAAAAAAAAACAAAAAAAAAAEAAAACAAAAAgAAAAIAAAAAAAAAAQAAAAEAAAAAAAAAAgAAAAEAAAABAAAAAQAAAAIAAAACAAAAAQAAAAEAAAAAAAAAAAAAAAIAAAABAAAAAgAAAAIAAAACAAAAAQAAAAEAAAACAAAAAQAAAAEAAAACAAAAAAAAAAIAAAABAAAAAgAAAAEAAAAAAAAAAAAAAAIAAAAAAAAAAQAAAAEAAAABAAAAAQAAAAIAAAAAAAAAAgAAAAEAAAAAAAAAAQAAAAAAAAACAAAAAAAAAAAAAAAAAAAAAQAAAAEAAAAAAAAAAgAAAAEAAAACAAAAAgAAAAEAAAAAAAAAAQAAAAEAAAABAAAAAQAAAAEAAAAAAAAAAQAAAAIAAAACAAAAAAAAAAAAAAAAAAAAAgAAAAAAAAABAAAAAgAAAAAAAAAAAAAAAQAAAAEAAAACAAAAAQAAAAAAAAABAAAAAgAAAAEAAAABAAAAAgAAAAEAAAAAAAAAAgAAAAIAAAABAAAAAgAAAAEAAAACAAAAAAAAAAEAAAACAAAAAQAAAAIAAAACAAAAAQAAAAEAAAABAAAAAQAAAAIAAAACAAAAAgAAAAAAAAAAAAAAAgAAAAIAAAACAAAAAQAAAAEAAAABAAAAAgAAAAAAAAAAAAAAAAAAAAAAAAAAAAAAAAAAAAIAAAAAAAAAAAAAAAEAAAAAAAAAAQAAAAIAAAABAAAAAQAAAAEAAAACAAAAAAAAAAAAAAABAAAAAgAAAAAAAAABAAAAAQAAAAIAAAAAAAAAAQAAAAIAAAACAAAAAgAAAAEAAAACAAAAAAAAAAIAAAACAAAAAQAAAAAAAAAAAAAAAQAAAAAAAAABAAAAAgAAAAAAAAABAAAAAQAAAAEAAAACAAAAAgAAAAEAAAACAAAAAgAAAAIAAAABAAAAAQAAAAIAAAAAAAAAAQAAAAEAAAACAAAAAQAAAAIAAAABAAAAAgAAAAIAAAAAAAAAAgAAAAEAAAABAAAAAQAAAAIAAAACAAAAAAAAAAAAAAABAAAAAAAAAAIAAAAAAAAAAgAAAAAAAAACAAAAAgAAAAAAAAABAAAAAgAAAAIAAAAAAAAAAQAAAAAAAAAAAAAAAQAAAAIAAAAAAAAAAgAAAAEAAAAAAAAAAQAAAAAAAAABAAAAAQAAAAEAAAACAAAAAAAAAAIAAAACAAAAAQAAAAEAAAACAAAAAQAAAAIAAAABAAAAAgAAAAIAAAACAAAAAQAAAAAAAAABAAAAAgAAAAIAAAABAAAAAAAAAAAAAAABAAAAAAAAAAAAAAACAAAAAAAAAAIAAAACAAAAAAAAAAAAAAAAAAAAAQAAAAIAAAACAAAAAQAAAAIAAAACAAAAAQAAAAAAAAAAAAAAAgAAAAEAAAACAAAAAgAAAAIAAAAAAAAAAAAAAAIAAAACAAAAAAAAAAIAAAABAAAAAgAAAAIAAAACAAAAAAAAAAAAAAAAAAAAAgAAAAIAAAABAAAAAAAAAAAAAAAAAAAAAgAAAAAAAAAAAAAAAgAAAAAAAAABAAAAAQAAAAEAAAACAAAAAAAAAAEAAAACAAAAAAAAAAEAAAABAAAAAQAAAAIAAAAAAAAAAAAAAAAAAAABAAAAAAAAAAIAAAACAAAAAAAAAAIAAAAAAAAAAAAAAAAAAAACAAAAAQAAAAAAAAABAAAAAgAAAAIAAAACAAAAAAAAAAAAAAABAAAAAQAAAAEAAAACAAAAAgAAAAEAAAABAAAAAAAAAAIAAAABAAAAAAAAAAIAAAABAAAAAQAAAAAAAAABAAAAAQAAAAEAAAACAAAAAQAAAAAAAAABAAAAAAAAAAEAAAABAAAAAgAAAAEAAAABAAAAAQAAAAIAAAACAAAAAAAAAAAAAAACAAAAAgAAAAEAAAABAAAAAAAAAAAAAAAAAAAAAQAAAAEAAAABAAAAAgAAAAAAAAABAAAAAQAAAAAAAAACAAAAAQAAAAEAAAABAAAAAgAAAAIAAAACAAAAAAAAAAIAAAAAAAAAAQAAAAAAAAAAAAAAAAAAAAAAAAAAAAAAAgAAAAAAAAACAAAAAAAAAAAAAAACAAAAAQAAAAEAAAACAAAAAQAAAAEAAAAAAAAAAgAAAAEAAAAAAAAAAgAAAAEAAAAAAAAAAQAAAAEAAAABAAAAAQAAAAEAAAABAAAAAgAAAAEAAAAAAAAAAQAAAAIAAAAAAAAAAgAAAAAAAAAAAAAAAgAAAAEAAAACAAAAAAAAAAIAAAAAAAAAAQAAAAEAAAAAAAAAAAAAAAAAAAACAAAAAQAAAAIAAAACAAAAAQAAAAAAAAABAAAAAAAAAAIAAAACAAAAAgAAAAAAAAABAAAAAQAAAAAAAAAAAAAAAgAAAAEAAAABAAAAAgAAAAAAAAACAAAAAQAAAAEAAAABAAAAAQAAAAAAAAAAAAAAAQAAAAEAAAAAAAAAAgAAAAEAAAACAAAAAQAAAAEAAAABAAAAAQAAAAAAAAABAAAAAQAAAAEAAAACAAAAAQAAAAEAAAAAAAAAAQAAAAIAAAAAAAAAAAAAAAEAAAACAAAAAQAAAAEAAAAAAAAAAAAAAAIAAAABAAAAAQAAAAAAAAABAAAAAQAAAAAAAAAAAAAAAgAAAAEAAAAAAAAAAgAAAAEAAAAAAAAAAgAAAAEAAAAAAAAAAQAAAAIAAAACAAAAAAAAAAEAAAABAAAAAAAAAAAAAAACAAAAAgAAAAIAAAABAAAAAAAAAAAAAAACAAAAAAAAAAAAAAABAAAAAAAAAAEAAAABAAAAAgAAAAIAAAABAAAAAQAAAAEAAAABAAAAAQAAAAIAAAAAAAAAAQAAAAEAAAACAAAAAAAAAAIAAAABAAAAAgAAAAEAAAAAAAAAAgAAAAIAAAAAAAAAAAAAAAAAAAAAAAAAAQAAAAAAAAAAAAAAAQAAAAAAAAABAAAAAQAAAAAAAAACAAAAAQAAAAEAAAABAAAAAgAAAAEAAAACAAAAAQAAAAIAAAACAAAAAgAAAAIAAAAAAAAAAQAAAAEAAAACAAAAAAAAAAIAAAAAAAAAAQAAAAIAAAAAAAAAAQAAAAIAAAABAAAAAAAAAAAAAAABAAAAAAAAAAAAAAAAAAAAAgAAAAAAAAABAAAAAQAAAAAAAAAAAAAAAAAAAAAAAAACAAAAAAAAAAEAAAACAAAAAgAAAAIAAAACAAAAAQAAAAIAAAABAAAAAAAAAAIAAAABAAAAAgAAAAAAAAACAAAAAAAAAAEAAAABAAAAAgAAAAIAAAACAAAAAQAAAAIAAAACAAAAAQAAAAEAAAACAAAAAQAAAAIAAAAAAAAAAQAAAAIAAAABAAAAAQAAAAAAAAAAAAAAAAAAAAEAAAACAAAAAAAAAAIAAAACAAAAAAAAAAEAAAABAAAAAQAAAAAAAAACAAAAAAAAAAEAAAAAAAAAAAAAAAIAAAACAAAAAAAAAAAAAAACAAAAAgAAAAIAAAABAAAAAQAAAAIAAAACAAAAAQAAAAAAAAAAAAAAAAAAAAAAAAABAAAAAQAAAAEAAAACAAAAAQAAAAIAAAAAAAAAAAAAAAIAAAACAAAAAQAAAAEAAAAAAAAAAgAAAAIAAAAAAAAAAQAAAAAAAAACAAAAAQAAAAEAAAABAAAAAgAAAAAAAAACAAAAAQAAAAAAAAAAAAAAAQAAAAEAAAACAAAAAQAAAAAAAAAAAAAAAQAAAAIAAAABAAAAAgAAAAAAAAACAAAAAgAAAAAAAAABAAAAAAAAAAAAAAAAAAAAAAAAAAEAAAAAAAAAAgAAAAIAAAAAAAAAAQAAAAIAAAAAAAAAAgAAAAAAAAABAAAAAQAAAAEAAAAAAAAAAgAAAAAAAAACAAAAAQAAAAEAAAACAAAAAQAAAAAAAAACAAAAAgAAAAEAAAABAAAAAQAAAAIAAAABAAAAAgAAAAEAAAAAAAAAAgAAAAIAAAABAAAAAQAAAAEAAAAAAAAAAgAAAAIAAAACAAAAAQAAAAAAAAACAAAAAQAAAAIAAAABAAAAAQAAAAAAAAACAAAAAQAAAAIAAAAAAAAAAgAAAAEAAAAAAAAAAgAAAAIAAAACAAAAAAAAAAIAAAAAAAAAAAAAAAIAAAABAAAAAQAAAAAAAAAAAAAAAAAAAAEAAAAAAAAAAAAAAAEAAAAAAAAAAAAAAAEAAAACAAAAAgAAAAAAAAAAAAAAAgAAAAIAAAABAAAAAgAAAAEAAAACAAAAAgAAAAAAAAACAAAAAAAAAAAAAAAAAAAAAgAAAAAAAAABAAAAAAAAAAAAAAACAAAAAgAAAAIAAAACAAAAAAAAAAEAAAAAAAAAAAAAAAAAAAAAAAAAAgAAAAIAAAACAAAAAAAAAAEAAAABAAAAAgAAAAEAAAACAAAAAgAAAAAAAAABAAAAAAAAAAEAAAABAAAAAgAAAAEAAAACAAAAAgAAAAEAAAABAAAAAQAAAAIAAAACAAAAAgAAAAAAAAACAAAAAQAAAAIAAAACAAAAAQAAAAAAAAAAAAAAAAAAAAEAAAABAAAAAQAAAAEAAAAAAAAAAgAAAAIAAAAAAAAAAgAAAAAAAAACAAAAAQAAAAAAAAABAAAAAgAAAAEAAAAAAAAAAgAAAAEAAAABAAAAAAAAAAEAAAAAAAAAAAAAAAEAAAABAAAAAQAAAAEAAAAAAAAAAgAAAAEAAAAAAAAAAAAAAAAAAAACAAAAAAAAAAIAAAAAAAAAAAAAAAIAAAAAAAAAAAAAAAAAAAABAAAAAgAAAAAAAAABAAAAAQAAAAEAAAAAAAAAAAAAAAIAAAABAAAAAAAAAAAAAAAAAAAAAAAAAAEAAAACAAAAAgAAAAIAAAACAAAAAAAAAAIAAAACAAAAAQAAAAIAAAABAAAAAQAAAAIAAAAAAAAAAgAAAAEAAAAAAAAAAQAAAAEAAAABAAAAAQAAAAIAAAABAAAAAAAAAAAAAAAAAAAAAgAAAAAAAAAAAAAAAAAAAAAAAAACAAAAAgAAAAAAAAAAAAAAAgAAAAEAAAAAAAAAAgAAAAEAAAACAAAAAAAAAAAAAAAAAAAAAgAAAAAAAAACAAAAAgAAAAIAAAABAAAAAQAAAAIAAAABAAAAAAAAAAAAAAAAAAAAAQAAAAIAAAABAAAAAAAAAAEAAAABAAAAAAAAAAEAAAABAAAAAAAAAAAAAAABAAAAAAAAAAAAAAABAAAAAAAAAAIAAAACAAAAAAAAAAEAAAACAAAAAgAAAAEAAAABAAAAAgAAAAIAAAABAAAAAgAAAAAAAAAAAAAAAQAAAAIAAAAAAAAAAgAAAAEAAAAAAAAAAgAAAAIAAAAAAAAAAAAAAAAAAAAAAAAAAgAAAAIAAAACAAAAAAAAAAIAAAAAAAAAAQAAAAEAAAACAAAAAAAAAAAAAAAAAAAAAQAAAAAAAAAAAAAAAAAAAAIAAAACAAAAAQAAAAAAAAACAAAAAQAAAAAAAAACAAAAAgAAAAEAAAAAAAAAAgAAAAIAAAAAAAAAAQAAAAIAAAAAAAAAAQAAAAIAAAACAAAAAAAAAAAAAAACAAAAAQAAAAIAAAABAAAAAQAAAAEAAAAAAAAAAAAAAAIAAAABAAAAAAAAAAAAAAAAAAAAAQAAAAIAAAABAAAAAgAAAAAAAAACAAAAAQAAAAEAAAABAAAAAAAAAAEAAAACAAAAAQAAAAEAAAABAAAAAQAAAAAAAAAAAAAAAQAAAAEAAAAAAAAAAAAAAAIAAAABAAAAAQAAAAIAAAAAAAAAAQAAAAEAAAABAAAAAgAAAAEAAAABAAAAAQAAAAAAAAAAAAAAAgAAAAAAAAACAAAAAQAAAAAAAAABAAAAAQAAAAIAAAACAAAAAAAAAAAAAAABAAAAAgAAAAAAAAAAAAAAAgAAAAEAAAABAAAAAgAAAAAAAAABAAAAAQAAAAIAAAACAAAAAQAAAAEAAAABAAAAAgAAAAAAAAABAAAAAAAAAAAAAAABAAAAAQAAAAAAAAACAAAAAgAAAAIAAAABAAAAAQAAAAEAAAABAAAAAQAAAAEAAAABAAAAAAAAAAEAAAACAAAAAgAAAAEAAAABAAAAAgAAAAIAAAAAAAAAAAAAAAIAAAACAAAAAQAAAAAAAAACAAAAAQAAAAIAAAABAAAAAQAAAAEAAAABAAAAAAAAAAAAAAABAAAAAAAAAAAAAAABAAAAAAAAAAEAAAABAAAAAQAAAAEAAAACAAAAAgAAAAAAAAAAAAAAAAAAAAEAAAABAAAAAgAAAAEAAAABAAAAAAAAAAIAAAABAAAAAQAAAAAAAAACAAAAAQAAAAIAAAAAAAAAAQAAAAIAAAAAAAAAAQAAAAAAAAABAAAAAQAAAAAAAAACAAAAAAAAAAIAAAACAAAAAgAAAAEAAAABAAAAAQAAAAIAAAABAAAAAAAAAAEAAAACAAAAAQAAAAIAAAAAAAAAAQAAAAEAAAABAAAAAQAAAAEAAAAAAAAAAAAAAAIAAAABAAAAAAAAAAIAAAABAAAAAQAAAAAAAAACAAAAAQAAAAAAAAABAAAAAAAAAAEAAAAAAAAAAgAAAAEAAAACAAAAAAAAAAAAAAAAAAAAAgAAAAIAAAACAAAAAAAAAAAAAAABAAAAAAAAAAAAAAABAAAAAAAAAAAAAAACAAAAAgAAAAEAAAACAAAAAQAAAAIAAAACAAAAAgAAAAIAAAABAAAAAAAAAAEAAAACAAAAAQAAAAEAAAACAAAAAAAAAAEAAAABAAAAAAAAAAEAAAABAAAAAAAAAAEAAAAAAAAAAAAAAAIAAAABAAAAAAAAAAAAAAAAAAAAAAAAAAEAAAACAAAAAgAAAAAAAAAAAAAAAQAAAAIAAAABAAAAAQAAAAEAAAABAAAAAAAAAAEAAAABAAAAAQAAAAAAAAAAAAAAAQAAAAAAAAABAAAAAAAAAAIAAAACAAAAAAAAAAIAAAABAAAAAQAAAAEAAAAAAAAAAgAAAAEAAAABAAAAAAAAAAAAAAAAAAAAAAAAAAAAAAABAAAAAgAAAAIAAAAAAAAAAAAAAAAAAAAAAAAAAAAAAAEAAAAAAAAAAAAAAAAAAAACAAAAAgAAAAAAAAABAAAAAgAAAAAAAAABAAAAAAAAAAIAAAAAAAAAAgAAAAEAAAACAAAAAAAAAAAAAAAAAAAAAgAAAAEAAAABAAAAAgAAAAEAAAAAAAAAAQAAAAEAAAABAAAAAAAAAAIAAAACAAAAAgAAAAAAAAACAAAAAAAAAAIAAAAAAAAAAgAAAAIAAAAAAAAAAgAAAAEAAAACAAAAAQAAAAIAAAABAAAAAQAAAAEAAAACAAAAAgAAAAIAAAACAAAAAQAAAAEAAAABAAAAAAAAAAAAAAACAAAAAgAAAAAAAAABAAAAAAAAAAEAAAABAAAAAgAAAAEAAAACAAAAAAAAAAAAAAACAAAAAQAAAAIAAAACAAAAAAAAAAAAAAACAAAAAAAAAAIAAAABAAAAAgAAAAAAAAACAAAAAgAAAAIAAAABAAAAAQAAAAIAAAABAAAAAAAAAAAAAAACAAAAAQAAAAEAAAAAAAAAAAAAAAEAAAACAAAAAQAAAAEAAAAAAAAAAgAAAAAAAAAAAAAAAAAAAAEAAAAAAAAAAAAAAAAAAAABAAAAAQAAAAIAAAABAAAAAgAAAAEAAAABAAAAAgAAAAEAAAACAAAAAAAAAAEAAAACAAAAAgAAAAIAAAACAAAAAgAAAAEAAAABAAAAAgAAAAAAAAABAAAAAQAAAAIAAAACAAAAAAAAAAEAAAAAAAAAAQAAAAEAAAABAAAAAQAAAAEAAAACAAAAAAAAAAAAAAACAAAAAgAAAAIAAAAAAAAAAgAAAAEAAAAAAAAAAAAAAAEAAAABAAAAAQAAAAEAAAABAAAAAQAAAAEAAAABAAAAAQAAAAAAAAACAAAAAQAAAAEAAAABAAAAAgAAAAAAAAACAAAAAAAAAAEAAAAAAAAAAQAAAAIAAAAAAAAAAAAAAAAAAAABAAAAAQAAAAAAAAACAAAAAQAAAAEAAAAAAAAAAgAAAAAAAAACAAAAAgAAAAIAAAAAAAAAAAAAAAAAAAACAAAAAQAAAAIAAAAAAAAAAAAAAAEAAAABAAAAAgAAAAAAAAACAAAAAAAAAAIAAAAAAAAAAQAAAAEAAAACAAAAAQAAAAAAAAAAAAAAAgAAAAEAAAABAAAAAAAAAAIAAAABAAAAAQAAAAEAAAAAAAAAAAAAAAIAAAACAAAAAQAAAAIAAAAAAAAAAAAAAAIAAAACAAAAAgAAAAAAAAABAAAAAQAAAAEAAAABAAAAAgAAAAAAAAAAAAAAAQAAAAIAAAAAAAAAAgAAAAIAAAAAAAAAAgAAAAEAAAACAAAAAQAAAAEAAAABAAAAAgAAAAAAAAAAAAAAAQAAAAAAAAACAAAAAgAAAAIAAAAAAAAAAQAAAAEAAAAAAAAAAQAAAAIAAAAAAAAAAQAAAAEAAAACAAAAAAAAAAIAAAABAAAAAAAAAAIAAAABAAAAAQAAAAAAAAABAAAAAgAAAAEAAAAAAAAAAAAAAAIAAAACAAAAAQAAAAAAAAACAAAAAgAAAAIAAAACAAAAAQAAAAIAAAAAAAAAAQAAAAIAAAABAAAAAQAAAAEAAAABAAAAAQAAAAIAAAAAAAAAAQAAAAAAAAACAAAAAQAAAAAAAAAAAAAAAQAAAAEAAAAAAAAAAgAAAAEAAAAAAAAAAAAAAAAAAAAAAAAAAAAAAAAAAAABAAAAAgAAAAAAAAAAAAAAAAAAAAEAAAABAAAAAAAAAAAAAAAAAAAAAAAAAAAAAAABAAAAAgAAAAIAAAABAAAAAgAAAAAAAAAAAAAAAAAAAAEAAAAAAAAAAAAAAAEAAAACAAAAAQAAAAEAAAABAAAAAQAAAAEAAAACAAAAAAAAAAAAAAACAAAAAAAAAAIAAAACAAAAAgAAAAIAAAACAAAAAQAAAAAAAAABAAAAAAAAAAEAAAABAAAAAgAAAAEAAAABAAAAAQAAAAEAAAACAAAAAgAAAAEAAAACAAAAAQAAAAAAAAAAAAAAAQAAAAAAAAABAAAAAQAAAAAAAAAAAAAAAAAAAAIAAAAAAAAAAAAAAAIAAAAAAAAAAgAAAAEAAAAAAAAAAgAAAAIAAAACAAAAAgAAAAAAAAAAAAAAAgAAAAAAAAABAAAAAQAAAAIAAAACAAAAAAAAAAEAAAAAAAAAAgAAAAEAAAAAAAAAAAAAAAIAAAABAAAAAQAAAAEAAAABAAAAAAAAAAAAAAAAAAAAAAAAAAIAAAAAAAAAAgAAAAIAAAABAAAAAAAAAAEAAAACAAAAAQAAAAAAAAACAAAAAQAAAAEAAAAAAAAAAAAAAAEAAAABAAAAAQAAAAEAAAAAAAAAAgAAAAEAAAACAAAAAAAAAAIAAAABAAAAAAAAAAAAAAAAAAAAAQAAAAAAAAAAAAAAAQAAAAIAAAACAAAAAQAAAAAAAAACAAAAAgAAAAAAAAACAAAAAAAAAAEAAAACAAAAAAAAAAEAAAACAAAAAQAAAAAAAAACAAAAAQAAAAEAAAABAAAAAQAAAAAAAAACAAAAAgAAAAAAAAAAAAAAAQAAAAEAAAABAAAAAQAAAAEAAAACAAAAAQAAAAIAAAABAAAAAAAAAAEAAAACAAAAAgAAAAIAAAAAAAAAAQAAAAAAAAACAAAAAAAAAAAAAAACAAAAAgAAAAIAAAACAAAAAQAAAAIAAAAAAAAAAQAAAAEAAAABAAAAAAAAAAEAAAACAAAAAgAAAAEAAAAAAAAAAAAAAAIAAAAAAAAAAAAAAAEAAAABAAAAAAAAAAEAAAABAAAAAAAAAAEAAAACAAAAAAAAAAEAAAABAAAAAQAAAAEAAAABAAAAAAAAAAIAAAAAAAAAAAAAAAIAAAABAAAAAAAAAAEAAAABAAAAAgAAAAEAAAABAAAAAAAAAAAAAAABAAAAAgAAAAAAAAABAAAAAAAAAAAAAAABAAAAAAAAAAAAAAABAAAAAQAAAAAAAAAAAAAAAQAAAAIAAAAAAAAAAQAAAAEAAAABAAAAAAAAAAAAAAAAAAAAAQAAAAIAAAABAAAAAQAAAAAAAAACAAAAAAAAAAAAAAACAAAAAQAAAAAAAAAAAAAAAAAAAAIAAAAAAAAAAAAAAAEAAAACAAAAAgAAAAEAAAACAAAAAQAAAAAAAAAAAAAAAQAAAAIAAAACAAAAAgAAAAIAAAABAAAAAQAAAAEAAAACAAAAAQAAAAAAAAAAAAAAAAAAAAAAAAACAAAAAQAAAAAAAAAAAAAAAQAAAAIAAAACAAAAAgAAAAEAAAABAAAAAQAAAAIAAAABAAAAAQAAAAAAAAACAAAAAAAAAAAAAAABAAAAAgAAAAEAAAABAAAAAQAAAAIAAAACAAAAAgAAAAIAAAAAAAAAAQAAAAIAAAACAAAAAQAAAAIAAAAAAAAAAQAAAAEAAAABAAAAAgAAAAEAAAABAAAAAQAAAAIAAAACAAAAAQAAAAAAAAABAAAAAgAAAAIAAAABAAAAAQAAAAEAAAACAAAAAAAAAAEAAAAAAAAAAAAAAAEAAAABAAAAAAAAAAAAAAACAAAAAAAAAAIAAAAAAAAAAQAAAAIAAAABAAAAAgAAAAAAAAABAAAAAgAAAAAAAAACAAAAAAAAAAEAAAABAAAAAgAAAAAAAAAAAAAAAQAAAAAAAAABAAAAAgAAAAEAAAAAAAAAAAAAAAAAAAAAAAAAAAAAAAAAAAAAAAAAAgAAAAAAAAABAAAAAQAAAAEAAAACAAAAAQAAAAAAAAAAAAAAAgAAAAIAAAABAAAAAAAAAAAAAAAAAAAAAAAAAAEAAAAAAAAAAgAAAAIAAAACAAAAAQAAAAAAAAABAAAAAAAAAAIAAAABAAAAAQAAAAEAAAABAAAAAQAAAAEAAAABAAAAAgAAAAEAAAACAAAAAQAAAAAAAAACAAAAAAAAAAAAAAABAAAAAAAAAAEAAAABAAAAAQAAAAEAAAABAAAAAgAAAAAAAAACAAAAAgAAAAIAAAABAAAAAAAAAAAAAAABAAAAAgAAAAIAAAABAAAAAQAAAAEAAAAAAAAAAQAAAAEAAAABAAAAAAAAAAAAAAACAAAAAgAAAAEAAAABAAAAAQAAAAIAAAABAAAAAQAAAAAAAAAAAAAAAgAAAAIAAAACAAAAAQAAAAAAAAABAAAAAgAAAAAAAAABAAAAAAAAAAAAAAACAAAAAgAAAAEAAAABAAAAAQAAAAEAAAACAAAAAAAAAAIAAAACAAAAAgAAAAIAAAACAAAAAgAAAAEAAAABAAAAAAAAAAIAAAAAAAAAAQAAAAAAAAACAAAAAQAAAAEAAAABAAAAAAAAAAAAAAABAAAAAQAAAAIAAAACAAAAAAAAAAIAAAABAAAAAAAAAAEAAAACAAAAAAAAAAIAAAABAAAAAQAAAAEAAAAAAAAAAAAAAAAAAAAAAAAAAAAAAAAAAAACAAAAAQAAAAEAAAAAAAAAAAAAAAEAAAAAAAAAAAAAAAIAAAAAAAAAAQAAAAEAAAABAAAAAQAAAAEAAAAAAAAAAgAAAAEAAAABAAAAAAAAAAAAAAAAAAAAAgAAAAIAAAACAAAAAgAAAAAAAAABAAAAAQAAAAAAAAAAAAAAAQAAAAAAAAABAAAAAAAAAAEAAAACAAAAAgAAAAAAAAACAAAAAAAAAAEAAAABAAAAAgAAAAEAAAAAAAAAAQAAAAAAAAACAAAAAgAAAAEAAAAAAAAAAQAAAAEAAAABAAAAAAAAAAAAAAACAAAAAQAAAAIAAAACAAAAAgAAAAIAAAABAAAAAAAAAAEAAAACAAAAAgAAAAEAAAAAAAAAAQAAAAAAAAAAAAAAAgAAAAEAAAAAAAAAAgAAAAEAAAABAAAAAgAAAAAAAAACAAAAAgAAAAIAAAAAAAAAAgAAAAIAAAABAAAAAQAAAAIAAAABAAAAAgAAAAIAAAACAAAAAQAAAAEAAAABAAAAAgAAAAEAAAACAAAAAgAAAAEAAAACAAAAAgAAAAEAAAABAAAAAgAAAAAAAAABAAAAAgAAAAAAAAACAAAAAQAAAAEAAAABAAAAAQAAAAAAAAABAAAAAAAAAAEAAAABAAAAAgAAAAAAAAAAAAAAAgAAAAIAAAAAAAAAAQAAAAAAAAACAAAAAgAAAAEAAAACAAAAAgAAAAIAAAACAAAAAQAAAAAAAAACAAAAAQAAAAEAAAACAAAAAgAAAAAAAAAAAAAAAQAAAAEAAAABAAAAAAAAAAEAAAACAAAAAAAAAAAAAAABAAAAAgAAAAEAAAABAAAAAQAAAAEAAAABAAAAAgAAAAEAAAACAAAAAQAAAAEAAAACAAAAAAAAAAIAAAACAAAAAgAAAAEAAAAAAAAAAAAAAAIAAAAAAAAAAQAAAAEAAAABAAAAAAAAAAEAAAABAAAAAgAAAAIAAAABAAAAAgAAAAEAAAABAAAAAQAAAAAAAAACAAAAAgAAAAEAAAAAAAAAAQAAAAIAAAAAAAAAAQAAAAEAAAAAAAAAAgAAAAEAAAAAAAAAAQAAAAEAAAAAAAAAAgAAAAEAAAABAAAAAQAAAAEAAAACAAAAAgAAAAAAAAABAAAAAgAAAAIAAAAAAAAAAAAAAAIAAAACAAAAAQAAAAIAAAAAAAAAAQAAAAIAAAACAAAAAgAAAAAAAAABAAAAAAAAAAEAAAABAAAAAQAAAAIAAAABAAAAAgAAAAEAAAABAAAAAAAAAAAAAAACAAAAAQAAAAIAAAACAAAAAgAAAAIAAAACAAAAAgAAAAIAAAABAAAAAQAAAAEAAAABAAAAAAAAAAAAAAACAAAAAAAAAAIAAAABAAAAAQAAAAEAAAAAAAAAAQAAAAIAAAACAAAAAgAAAAAAAAAAAAAAAAAAAAAAAAACAAAAAQAAAAEAAAABAAAAAgAAAAAAAAAAAAAAAgAAAAAAAAACAAAAAQAAAAEAAAABAAAAAAAAAAIAAAAAAAAAAAAAAAEAAAACAAAAAgAAAAIAAAABAAAAAQAAAAIAAAACAAAAAAAAAAIAAAACAAAAAgAAAAEAAAAAAAAAAQAAAAIAAAAAAAAAAAAAAAIAAAAAAAAAAQAAAAAAAAAAAAAAAAAAAAIAAAACAAAAAAAAAAEAAAAAAAAAAAAAAAEAAAABAAAAAgAAAAEAAAABAAAAAQAAAAIAAAABAAAAAgAAAAAAAAACAAAAAAAAAAEAAAACAAAAAQAAAAIAAAACAAAAAAAAAAEAAAACAAAAAgAAAAAAAAAAAAAAAQAAAAIAAAABAAAAAgAAAAIAAAABAAAAAgAAAAEAAAABAAAAAQAAAAEAAAABAAAAAQAAAAAAAAACAAAAAgAAAAAAAAABAAAAAgAAAAIAAAACAAAAAAAAAAAAAAAAAAAAAAAAAAAAAAABAAAAAgAAAAIAAAAAAAAAAgAAAAAAAAACAAAAAgAAAAAAAAABAAAAAAAAAAIAAAAAAAAAAQAAAAAAAAABAAAAAAAAAAEAAAACAAAAAgAAAAAAAAABAAAAAAAAAAEAAAABAAAAAAAAAAIAAAABAAAAAgAAAAIAAAAAAAAAAQAAAAEAAAAAAAAAAQAAAAEAAAABAAAAAQAAAAIAAAAAAAAAAgAAAAAAAAAAAAAAAgAAAAEAAAABAAAAAAAAAAAAAAACAAAAAAAAAAEAAAABAAAAAQAAAAIAAAACAAAAAgAAAAIAAAAAAAAAAQAAAAIAAAAAAAAAAgAAAAAAAAABAAAAAQAAAAIAAAABAAAAAgAAAAEAAAABAAAAAAAAAAAAAAAAAAAAAQAAAAIAAAACAAAAAQAAAAAAAAAAAAAAAQAAAAEAAAAAAAAAAgAAAAEAAAAAAAAAAAAAAAIAAAAAAAAAAgAAAAIAAAAAAAAAAgAAAAEAAAAAAAAAAQAAAAAAAAACAAAAAgAAAAAAAAAAAAAAAgAAAAAAAAABAAAAAAAAAAAAAAABAAAAAgAAAAEAAAAAAAAAAQAAAAIAAAACAAAAAAAAAAAAAAACAAAAAAAAAAIAAAABAAAAAQAAAAAAAAAAAAAAAQAAAAIAAAABAAAAAAAAAAAAAAAAAAAAAAAAAAEAAAACAAAAAQAAAAEAAAACAAAAAQAAAAAAAAAAAAAAAQAAAAIAAAAAAAAAAgAAAAEAAAAAAAAAAgAAAAAAAAACAAAAAAAAAAAAAAAAAAAAAgAAAAIAAAABAAAAAAAAAAEAAAAAAAAAAQAAAAIAAAABAAAAAQAAAAAAAAACAAAAAAAAAAEAAAACAAAAAQAAAAIAAAABAAAAAgAAAAIAAAABAAAAAAAAAAEAAAABAAAAAgAAAAEAAAABAAAAAAAAAAAAAAABAAAAAgAAAAAAAAACAAAAAAAAAAAAAAAAAAAAAQAAAAAAAAAAAAAAAAAAAAEAAAAAAAAAAgAAAAIAAAACAAAAAAAAAAEAAAABAAAAAgAAAAAAAAACAAAAAQAAAAEAAAABAAAAAAAAAAIAAAAAAAAAAAAAAAEAAAABAAAAAQAAAAAAAAACAAAAAQAAAAIAAAABAAAAAQAAAAEAAAACAAAAAgAAAAAAAAAAAAAAAAAAAAIAAAAAAAAAAgAAAAIAAAACAAAAAQAAAAIAAAACAAAAAQAAAAIAAAACAAAAAgAAAAIAAAACAAAAAgAAAAEAAAAAAAAAAQAAAAIAAAABAAAAAAAAAAEAAAABAAAAAAAAAAAAAAABAAAAAgAAAAEAAAAAAAAAAgAAAAAAAAAAAAAAAgAAAAEAAAAAAAAAAQAAAAIAAAACAAAAAAAAAAAAAAABAAAAAgAAAAEAAAABAAAAAAAAAAEAAAABAAAAAQAAAAIAAAABAAAAAgAAAAEAAAABAAAAAQAAAAAAAAAAAAAAAQAAAAAAAAACAAAAAAAAAAEAAAAAAAAAAAAAAAEAAAAAAAAAAQAAAAAAAAABAAAAAgAAAAEAAAABAAAAAQAAAAAAAAABAAAAAgAAAAEAAAAAAAAAAgAAAAIAAAACAAAAAgAAAAIAAAACAAAAAAAAAAAAAAAAAAAAAQAAAAEAAAACAAAAAAAAAAIAAAAAAAAAAgAAAAEAAAAAAAAAAgAAAAAAAAAAAAAAAgAAAAIAAAABAAAAAQAAAAIAAAABAAAAAQAAAAIAAAAAAAAAAQAAAAIAAAACAAAAAQAAAAEAAAABAAAAAgAAAAAAAAABAAAAAQAAAAAAAAABAAAAAgAAAAEAAAACAAAAAQAAAAIAAAAAAAAAAQAAAAEAAAAAAAAAAAAAAAEAAAACAAAAAgAAAAEAAAAAAAAAAQAAAAIAAAACAAAAAQAAAAIAAAABAAAAAQAAAAIAAAACAAAAAAAAAAEAAAABAAAAAgAAAAEAAAACAAAAAAAAAAEAAAAAAAAAAgAAAAEAAAAAAAAAAQAAAAEAAAACAAAAAgAAAAIAAAAAAAAAAgAAAAAAAAACAAAAAgAAAAAAAAABAAAAAgAAAAIAAAACAAAAAgAAAAEAAAABAAAAAQAAAAIAAAABAAAAAAAAAAEAAAACAAAAAgAAAAIAAAAAAAAAAgAAAAEAAAABAAAAAgAAAAEAAAACAAAAAAAAAAEAAAABAAAAAAAAAAEAAAABAAAAAAAAAAEAAAAAAAAAAQAAAAAAAAACAAAAAQAAAAIAAAAAAAAAAAAAAAAAAAABAAAAAgAAAAAAAAACAAAAAQAAAAEAAAACAAAAAAAAAAAAAAABAAAAAQAAAAAAAAABAAAAAQAAAAAAAAACAAAAAAAAAAAAAAABAAAAAAAAAAAAAAACAAAAAAAAAAIAAAA=",
           "dtype": "i4"
          },
          "coloraxis": "coloraxis",
          "symbol": "circle"
         },
         "mode": "markers",
         "name": "",
         "scene": "scene",
         "showlegend": false,
         "type": "scatter3d",
         "x": {
          "bdata": "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",
          "dtype": "f8"
         },
         "y": {
          "bdata": "8F+lGxCyxT+W1vvSrKP/Px/lRYGavQFA8oqCnKBfBkCb0p3I5oD3Px8QIwIrawJAGr7GCtAyCUDst44ilB7bP5wmKcWkyuQ/SJfybBiI8j8fECMCK2sCQJhVZFD7mv0/nvtLRBQdBECgKofPau28P8YukLJD8AZAGGo7DhLpC0DwX6UbELLFP0LxCnn/Bfw/yK34L5LnBECYqe9MueT6P6Ak+r9BuQBARHBz9k39CUDsjuCmZoL+P0SbUHfequo/yK34L5LnBEBIQ2dwWj71P6D5HD+xC/A/QvEKef8F7D+cerTBYhTSP8QF4jYWVApA7OSaqIfd/z/GhEq0ZEsIQELxCnn/Bew/SmwV7Ifa8T+Y1MzNSZL7P8iCG68BOgRAScLP7ag1A0AYajsOEukLQG/3QmE7GgpARkNncFo+5T/GhEq0ZEsIQBxoDAmv1wdA9Qe8FIxFAECa0p3I5oDnP0bv23Oc9Oc/9LMwGM778j/uDUkktXn8P0sWW+pmfwBA9IhTlz1O8j+e+0tEFB30P4Aqh89q7Yw/xNoEtoWmCUCgKofPau2sP6Aqh89q7bw/8LVfHTEN5z/yNMiafwQFQEnCz+2oNQNA9IhTlz1OAkD1B7wUjEUAQEaZIXJ7meY/7reOIpQe+z9LFlvqZn8AQEaZIXJ7meY/SBiK78mQBECeT9dA0mbxP3QewtcFpQJAmCqHz2rt/D+gJPq/QbkAQEbE/vILR/c/8Db3n+IV+T8ak+mJP4UIQJip70y55Po/8oqCnKBfBkDxioKcoF/2Px5m3QNMxgNAQ8Yt+G5YC0BvzGXgqmwJQPLeDZleqfM/7Lm9J/cv7z+cJinFpMrkP8oBhCxQMQJAnqWRQvPB8j9GQ2dwWj7lP5wmKcWkyuQ/xoRKtGRLCEBCnX98QbzuP6Aqh89q7bw/GpPpiT+FCEBIRZZ1vU/JP/CzMBjO+9I/HD0viB4qB0DwtV8dMQ0HQPC1Xx0xDec/oHq0wWIUwj+YKofPau3MP5pTNUuYifk/8OA8nsG69z+cJinFpMrkP8TaBLaFpglA7Lm9J/cv/z+cp8BHVtMGQJjSncjmgNc/nKfAR1bTBkD0B7wUjEXwP/DgPJ7Buvc/gCqHz2rtjD9EmSFye5nWP5ynwEdW0wZAlqseUhz2/j/yX6UbELLlP+xjAybW1O0/ygGELFAxAkCeerTBYhTyP3RJn1iWUgNAcvUTXNgIBkCeT9dA0mbxP5wmKcWkyvQ/oNKdyOaAxz8cPS+IHioHQEpBOGv3LAFA7zb3n+IVCUDut44ilB4LQHJ0fNkmAARAnHzjxsUl5j+afhLMKDf6Px5m3QNMxgNAoCqHz2rtrD9y9RNc2AgGQG4iIOLLxwpAnHq0wWIU0j9vzGXgqmwJQJp+EswoN/o/7DgmpUUn/T/w4DyewboHQHWdKlVUnABASO2sbjnj8z9yn1lat60EQJTW+9Kso98/yCxhreDeAkD0szAYzvvyP25N/WJcdQtAn3q0wWIUAkDwX6UbELLVP0PGLfhuWAtA8jTImn8EBUDy3g2ZXqkDQO4NSSS1eew/b8xl4KpsCUCeT9dA0mbxP0Xv23Oc9Pc/mCqHz2rt7D/wCxofUmjoP0jtrG4548M/nCYpxaTKBECcJinFpMrUP0JyovuwDv4/7uJroyTMC0BydHzZJgAEQEpsFeyH2gFARkNncFo+5T/sYwMm1tT9P+4NSSS1efw/8gnrGe9W9D/0XXYWraDhP5wmKcWkyvQ/SkE4a/csAUCY1MzNSZL7P8uA7KmeKABAy4DsqZ4oAECY1MzNSZLrP0RFlnW9T9k/QkfFeiBh/T8avsYK0DIJQG142uPsIgxAnHzjxsUlBkCaKFjKB9zoP0psFeyH2gFA7reOIpQe6z/1B7wUjEUAQO63jiKUHvs/nFEGRjV49T+ferTBYhQCQJr9ekl3LghA9LMwGM778j+Y1MzNSZL7P+5h1CBzw/k/QvEKef8F7D/w4Dyewbr3P6B6tMFiFLI/7DgmpUUn/T/yCesZ71YEQJwmKcWkyvQ/HLyXBW0hBUBCnX98Qbz+P5unwEdW0/Y/n3q0wWIUAkAf5UWBmr0BQJ5P10DSZvE/RkNncFo+5T/yioKcoF8GQPIJ6xnvVuQ/H+VFgZq9AUDsYwMm1tTdP/IJ6xnvVgRAwzC/t6YBC0Ce+0tEFB0EQOy5vSf3L+8/SO2sbjnjwz9AyFz90Wn/P8jY1bAilQVAmFVkUPua/T/Gryc19fgIQHRJn1iWUgNAmKnvTLnk+j9Em1B33qoKQEhDZ3BaPvU/nFEGRjV49T/sOCalRSf9P0sWW+pmfwBAloBB0YtI/j8cPS+IHioHQMZZbTPUnQdA7uJroyTMC0D1MpmVHPMAQJ7QbsODbwNAxoRKtGRLCEAak+mJP4UIQKAqh89q7aw/7reOIpQe6z/wCxofUmgIQMgsYa3g3gJASmwV7IfaAUDGhEq0ZEsIQJynwEdW0wZASENncFo+BUDwX6UbELLFP3L1E1zYCAZARpkhcnuZ5j9ARZZ1vU+5P+7ia6MkzPs/QvEKef8F7D9IRZZ1vU/JP3Ig8dxotgZAbXja4+wiDEDut44ilB7rP5x848bFJQZAntBuw4Nv4z/0B7wUjEXwP6Ak+r9BufA/SBiK78mQ9D+aKFjKB9z4P0hFlnW9T8k/n6WRQvPBAkD0iFOXPU4CQBk/Xo2BOwtA7GMDJtbU3T+gKofPau28P+xjAybW1N0/Ru/bc5z05z/wCxofUmjoPxqT6Yk/hQhA9IhTlz1O8j+b0p3I5oD3P3RJn1iWUgNASMLP7ag18z9AyFz90Wn/P5hVZFD7mv0/QkfFeiBh7T/IghuvAToEQMZZbTPUnQdAnHzjxsUlBkDxioKcoF/2P8QF4jYWVApAb8xl4KpsCUCVgEHRi0juPxq+xgrQMglA8jTImn8EBUD0XXYWraDxP/SIU5c9TvI/7reOIpQe6z8fECMCK2sCQMZZbTPUnQdARm5E8err9T/wt44ilB7LP5xRBkY1eAVAoHq0wWIUsj+c0p3I5oAHQPIJ6xnvVvQ/RpkhcnuZBkBCnX98Qbz+P/IJ6xnvVvQ/b8xl4KpsCUDyX6UbELIFQJx6tMFiFNI/xAXiNhZUCkDujLGhA3H6P54k+r9BueA/HOd0hv3OBUDsOCalRSf9P/SzMBjO+wJA8t4NmV6pA0CcfOPGxSXmP5jSncjmgNc/ILpoAAoQAUCeJPq/QbngP2+hiF8avwhAntBuw4Nv4z+aKFjKB9z4P0TtrG4549M/REWWdb1P+T/wNvef4hX5P57QbsODbwNA7Lm9J/cv/z+Yqe9MueT6P/SzMBjO+/I/9LMwGM77AkDujLGhA3EKQG5N/WJcdQtAoHq0wWIUsj+YKofPau3sP2/3QmE7GgpA8F+lGxCyxT9IGIrvyZD0Px8QIwIrawJA7uJroyTMC0Dsub0n9y/vP8jY1bAilQVAdB7C1wWlAkB1yAfW5EkBQPI0yJp/BAVA7g1JJLV57D9Iws/tqDXzP5bW+9Kso/8/mihYygfc+D/sYwMm1tT9P5x848bFJfY/72HUIHPDCUAcvJcFbSEFQPSzMBjO+wJASEWWdb1PyT/sYwMm1tT9P+y3jiKUHts/dB7C1wWlAkD0MpmVHPPwP8it+C+S5wRAcvUTXNgIBkD0MpmVHPPwP5jUzM1JkgtA7DgmpUUn/T/wCxofUmjoP0ZuRPHq6wVAnFEGRjV4BUBGxP7yC0f3P3QewtcFpQJAoHq0wWIUsj9LFlvqZn/wP5ooWMoH3AhAmn4SzCg36j+aUzVLmIkJQCCPi395YgBAmlM1S5iJCUDsYwMm1tTdP5p+EswoN/o/oCT6v0G58D/vNvef4hUJQEjCz+2oNfM/dZ0qVVScAEBwS85d+WMHQO5h1CBzw+k/SO2sbjnjwz9C8Qp5/wX8P3RJn1iWUgNA8gnrGe9WBECb0p3I5oD3P5x6tMFiFNI/m6fAR1bT9j/st44ilB7bP/gHvBSMRdA/SkE4a/cs8T9GbkTx6usFQPJfpRsQsgVASkE4a/csAUBwS85d+WMHQJjUzM1Jkus/oPkcP7ELAEBv90JhOxoKQBk/Xo2BOwtAntBuw4NvA0B1yAfW5EkBQMavJzX1+AhAbk39Ylx1C0DsCxofUmjYP5wmKcWkygRAQMhc/dFp/z9I7axuOePzP8Mwv7emAQtA9F12Fq2g8T+cJinFpMoEQO4NSSS1efw/n0/XQNJmAUCYfhLMKDfaP3XIB9bkSQFA7OSaqIfd/z/yCesZ71YEQPQHvBSMRfA/nNKdyOaAB0BEm1B33qoKQJx848bFJfY/yNjVsCKVBUBIGIrvyZD0P/ALGh9SaAhASENncFo+9T9GQ2dwWj7lP5jUzM1Jkvs/QJ1/fEG83j91nSpVVJwAQO7ia6MkzPs/ILpoAAoQAUCY1MzNSZILQPFfpRsQsvU/Re/bc5z09z/sub0n9y/vP5wmKcWkyuQ/9Ae8FIxF8D9G79tznPTnP/ALGh9SaPg/mn4SzCg36j/sOCalRSf9P5Qqh89q7dw/SJfybBiI4j+fT9dA0mYBQOzkmqiH3f8/oCT6v0G58D+aKFjKB9zoPxwSUgeOfAZASBiK78mQ9D+bp8BHVtP2P5+lkULzwQJA9IhTlz1O8j9IQ2dwWj71PxwSUgeOfAZAHBJSB458BkAgumgAChABQJbW+9Kso/8/8gnrGe9W5D9Em1B33qr6P+y5vSf3L+8/SBiK78mQBEAf5UWBmr0BQEhDZ3BaPvU/loBB0YtI/j/w4Dyewbr3P3L1E1zYCAZAb8xl4KpsCUDEBeI2FlQKQMYDszGzQgZAHD0viB4qB0BIRZZ1vU/JP3L1E1zYCAZASkE4a/cs8T9CR8V6IGH9P8uA7KmeKABARMYt+G5Y+z8fECMCK2sCQMiCG68BOgRAQJ1/fEG83j+fT9dA0mYBQERFlnW9T/k/RJkhcnuZ1j9ERZZ1vU/5P0jtrG454+M/b8xl4KpsCUDyszAYzvviP5wmKcWkygRAniT6v0G54D/wCxofUmj4P/VddhatoAFAloBB0YtI/j9IRZZ1vU/JP0gYiu/JkPQ/RJtQd96q+j+fpZFC88ECQO8295/iFQlAyCxhreDeAkCeJPq/QbngP5arHlIc9v4/7oyxoQNxCkBKQThr9yzxP/SzMBjO+/I/dZ0qVVScAEBvzGXgqmwJQEKdf3xBvP4/TEE4a/cs0T/vNvef4hUJQMgsYa3g3gJAmihYygfc6D8ekbqE3HMEQPIJ6xnvVgRAHOd0hv3OBUAavsYK0DIJQEpBOGv3LOE/wzC/t6YBC0CcJinFpMrUP/gHvBSMRcA/nCYpxaTKBEAfECMCK2sCQEZuRPHq6wVAxAXiNhZUCkD0MpmVHPPwP/GKgpygX/Y/Rm5E8errBUBGbkTx6uv1Px5m3QNMxgNARHBz9k39CUCbp8BHVtP2P5bW+9Kso/8/8OA8nsG6B0CYqe9MueT6P0JHxXogYe0/+Ae8FIxF0D+epZFC88HyP3RJn1iWUgNA8LeOIpQeyz/sub0n9y/vP0RFlnW9T9k/m6fAR1bT9j/yX6UbELLlP+4NSSS1eew/nnq0wWIU4j/0XXYWraDxP5XW+9Kso+8/8V+lGxCy9T+YVWRQ+5r9P0gYiu/JkARAxq8nNfX4CEBEcHP2Tf35P8TaBLaFpglAScLP7ag1A0BIGIrvyZAEQJhVZFD7mv0/mFVkUPua/T9CcqL7sA7+P+7ia6MkzPs/RHBz9k39+T9GbkTx6usFQEZuRPHq6/U/mtKdyOaA5z9AnX98QbzeP/ALGh9SaAhAmNTMzUmS6z/st44ilB7bP+63jiKUHgtARMYt+G5Y+z+cJinFpMrUP/ALGh9SaOg/Se2sbjnjA0CcerTBYhTSP/ALGh9SaPg/mv16SXcu+D90SZ9YllIDQEaZIXJ7meY/7uJroyTMC0D0XXYWraDhP/UymZUc8wBASJfybBiI8j/sYwMm1tTdP+yO4KZmgv4/ScLP7ag1A0CgKofPau28P5gqh89q7fw/mihYygfc6D9uIiDiy8cKQJ77S0QUHQRASe2sbjnjA0CfpZFC88ECQJTW+9Kso98/bXja4+wiDEBIl/JsGIgCQERFlnW9TwlA7g1JJLV5/D+g+Rw/sQvwP0UaufQsovg/oCqHz2rtrD8eOwCDuxgDQJwmKcWkygRAoHq0wWIUwj+Y1MzNSZLrP5+lkULzwQJAnnq0wWIU8j/EBeI2FlQKQJl+EswoNwpA72HUIHPDCUDDML+3pgELQExBOGv3LNE/7g1JJLV57D/Gryc19fgIQJynwEdW0wZAnnq0wWIU4j+U1vvSrKPfP5ip70y55Po/ntBuw4Nv4z+Yqe9MueT6PxxoDAmv1wdAmP+pTto//D8ekbqE3HMEQO4NSSS1eew/7GMDJtbU7T+gJPq/QbkAQHB2q96JEQhAQnKi+7AO/j9GmSFye5nmP/ALGh9SaOg/n0/XQNJmAUCYKofPau3MP5jSncjmgNc/nHzjxsUl9j+e+0tEFB30P4Aqh89q7Yw/nnq0wWIU4j/y3g2ZXqnzP5r9ekl3Lvg/nnq0wWIU8j/GLpCyQ/AGQJvSncjmgPc/ygGELFAxAkCc0p3I5oAHQHB2q96JEQhAmv16SXcuCEBC8Qp5/wX8P3QewtcFpQJASmwV7Ifa8T/GhEq0ZEsIQEbv23Oc9Oc/xgOzMbNCBkDujLGhA3H6P/QymZUc8/A/dZ0qVVScAECZfhLMKDcKQPBfpRsQstU/RHBz9k39CUDwtV8dMQ0HQOxjAybW1N0/xi6QskPwBkDJVz4ucYwDQELxCnn/Bfw/xq8nNfX4CECfpZFC88ECQPQHvBSMRfA/SO2sbjnjwz+cUQZGNXgFQJgqh89q7ew/ldb70qyj7z9ERZZ1vU/5P2/3QmE7GgpA8AsaH1Jo6D8gumgAChABQJr9ekl3LghARu/bc5z0B0CcfOPGxSX2P24iIOLLxwpA9LMwGM77AkBEcHP2Tf35P/I0yJp/BPU/9Ae8FIxF4D9Il/JsGIgCQOy5vSf3L+8/TEE4a/cs0T9IQ2dwWj4FQJr9ekl3LghAmv16SXcu+D/DML+3pgELQEiX8mwYiPI/cso220dbBUD0szAYzvvyPyC6aAAKEAFA+Ae8FIxFwD9G79tznPTnP0jtrG454+M/SJfybBiI8j9GbkTx6usFQMTaBLaFpglAAGClGxCypT+YKofPau3sP/BfpRsQsrU/xoRKtGRLCEBGmSFye5nmPxzndIb9zgVAoCqHz2rtvD9GmSFye5n2P/IJ6xnvVvQ/SJfybBiI8j+bp8BHVtP2P0ZDZ3BaPuU/m9KdyOaA9z/0iFOXPU7yP5r9ekl3LghA8rMwGM774j9G79tznPQHQJ9P10DSZgFARe/bc5z09z/4B7wUjEXAP5Qqh89q7dw/b6GIXxq/CECZfhLMKDcKQOy5vSf3L+8/mCqHz2rt7D/IrfgvkucEQBkUgQzxjQpA7GMDJtbU3T9IQ2dwWj71P8ZZbTPUnQdA7uJroyTM+z8caAwJr9cHQJh+EswoN9o/Rm5E8errBUBGbkTx6uv1P8lXPi5xjANAyVc+LnGMA0BJ7axuOeMDQAAAAAAAAAAAHjsAg7sYA0DE2gS2haYJQJr9ekl3LghA7OSaqIfd/z9ERZZ1vU8JQOwLGh9SaNg/Qp1/fEG8/j/DW5w4N68LQEnCz+2oNQNA8rMwGM774j9ERZZ1vU/ZP2/3QmE7GgpASmwV7Ifa8T/EBeI2FlQKQOxjAybW1N0/oCT6v0G58D+e0G7Dg2/jPxhqOw4S6QtAREWWdb1P6T+Y1MzNSZLrP5ip70y55Po/7LeOIpQe2z/ILGGt4N4CQESZIXJ7mdY/8F+lGxCy1T+gerTBYhTCP0Kdf3xBvP4/RRq59Cyi+D+eT9dA0mbxP+xjAybW1P0/mP+pTto//D9Em1B33qr6P57QbsODb+M/REWWdb1PCUDK1qarv4MBQJgqh89q7ew/yNjVsCKVBUBGbkTx6usFQB6RuoTccwRA8oqCnKBfBkD1MpmVHPMAQPQHvBSMRfA/nvtLRBQd9D9CHOj5j7P8P0LxCnn/Bew/cHar3okRCEAcvJcFbSEFQMNbnDg3rwtAm9KdyOaA9z9GGrn0LKIIQHL1E1zYCAZAnNKdyOaAB0Ce0G7Dg28DQPLeDZleqfM/mNTMzUmS6z9CnX98QbzuP6D5HD+xCwBAmihYygfcCEBERZZ1vU/5P/UymZUc8wBAcp9ZWretBECa/XpJdy4IQPSIU5c9TgJAH+VFgZq9AUAYajsOEukLQPALGh9SaAhAcp9ZWretBECc0p3I5oAHQO4NSSS1efw/Se2sbjnjA0DwNvef4hX5P8Mwv7emAQtA8V+lGxCy9T+Y1MzNSZLrPx47AIO7GANAnHq0wWIU0j+UKofPau3cP25N/WJcdQtAldb70qyj7z+gKofPau28P5ip70y55Po/nqWRQvPB8j/w4Dyewbr3P/RddhatoOE/8t4NmV6p8z9voYhfGr8IQMit+C+S5wRAxgOzMbNCBkDILGGt4N4CQJh+EswoN9o/mH4SzCg32j/Kq8kqL9YAQJpTNUuYifk/Q/EKef8FDEAcaAwJr9cHQEaZIXJ7mfY/SENncFo+BUBCnX98Qbz+P0aZIXJ7meY/lCqHz2rt3D/4B7wUjEXQP57QbsODbwNA72HUIHPDCUCeerTBYhTyP0JyovuwDv4/7oyxoQNx+j/sCxofUmjYP5xRBkY1eAVAQkfFeiBh/T/GWW0z1J0HQJXW+9Kso+8/9F12Fq2g8T+WgEHRi0j+P0DxCnn/Bdw/7g1JJLV57D9KQThr9yzhP5arHlIc9v4/nHzjxsUl9j9Dxi34blgLQEbE/vILRwdAlYBB0YtI7j+cfOPGxSUGQOy5vSf3L+8/7AsaH1Jo2D9F79tznPT3P3Tz5FZ19wFAntBuw4Nv4z/ut44ilB7rP5x848bFJfY/SmwV7IfaAUD0XXYWraDxP/UymZUc8wBA8t4NmV6p8z+YKofPau3sP/FfpRsQsvU/RHBz9k39CUBKQThr9yzxP0Kdf3xBvP4/oNKdyOaAxz9Jws/tqDUDQBwSUgeOfAZAxlltM9SdB0D0XXYWraDxP0DIXP3Raf8/oCT6v0G5AED4B7wUjEXQP/SIU5c9TvI/8jTImn8EBUBvoYhfGr8IQMoBhCxQMQJA7oyxoQNx+j/sjuCmZoL+P56lkULzwfI/bk39Ylx1C0BI7axuOePjP8aESrRkSwhAScLP7ag1A0Ce+0tEFB0EQMZZbTPUnQdAQJ1/fEG83j/y3g2ZXqkDQEZuRPHq6wVA7uJroyTMC0BG79tznPQHQG+hiF8avwhAQnKi+7AO/j+e+0tEFB0EQEDxCnn/Bdw/nvtLRBQd9D+aKFjKB9wIQJjUzM1JkgtAREWWdb1P2T91nSpVVJwAQJwmKcWkygRAmn4SzCg36j+gerTBYhTCP5mp70y55ApARJtQd96q6j/0MpmVHPPwP0Xv23Oc9Pc/8LMwGM770j9D8Qp5/wUMQKD5HD+xC/A/REWWdb1P2T9IQ2dwWj4FQPBfpRsQsrU/lYBB0YtI7j+cfOPGxSXmP8YDszGzQgZAnCYpxaTK5D9Em1B33qrqPxhqOw4S6QtASe2sbjnjA0BGbkTx6uv1P0hDZ3BaPgVAmNTMzUmS+z8c53SG/c4FQPIJ6xnvVuQ/RMYt+G5Y+z/st44ilB7bPxxoDAmv1wdAHD0viB4qB0D0szAYzvsCQERwc/ZN/QlARpkhcnuZ9j+YKofPau38P5ip70y55Po/mCqHz2rtzD/KAYQsUDECQESbUHfeqvo/72HUIHPDCUDyNMiafwQFQKB6tMFiFMI/Qp1/fEG8/j9GmSFye5nmP59P10DSZgFAoCqHz2rtvD+e0G7Dg28DQMjY1bAilQVAbk39Ylx1C0DGWW0z1J0HQJrSncjmgOc/mn4SzCg36j/yX6UbELIFQEZuRPHq6wVAQPEKef8F3D+AKofPau2cP0aZIXJ7mfY/8t4NmV6pA0Aak+mJP4UIQEiX8mwYiOI/SJfybBiI4j/EBeI2FlQKQOxjAybW1O0/niT6v0G54D/wX6UbELK1P24iIOLLxwpA8AsaH1Jo6D+aKFjKB9z4P55P10DSZvE/SkE4a/cs4T9I7axuOePzP+yO4KZmgv4/nCYpxaTK1D+cp8BHVtMGQEaZIXJ7mQZAHBJSB458BkCe0G7Dg28DQO5h1CBzw/k/nNKdyOaAB0BwdqveiREIQKD5HD+xC/A/7reOIpQe+z/wtV8dMQ3nP5gqh89q7ew/7reOIpQe6z9wS85d+WMHQJarHlIc9v4/H+VFgZq9AUDyNMiafwQFQEBFlnW9T7k/nNKdyOaAB0D4B7wUjEXAP5rSncjmgOc/SmwV7Ifa8T9MQThr9yzRP/I0yJp/BAVARu/bc5z05z9yyjbbR1sFQOxjAybW1P0/ntBuw4Nv8z+cJinFpMr0P5h+EswoN9o/QvEKef8F7D9yn1lat60EQPALGh9SaAhA7GMDJtbU7T91nSpVVJwAQPgHvBSMRcA/GT9ejYE7C0BERZZ1vU8JQJx6tMFiFNI/RsT+8gtHB0CY0p3I5oDXP3BLzl35YwdA72HUIHPDCUBKQThr9yzhP54k+r9BueA/mX4SzCg3CkD0MpmVHPPwP0SbUHfeqvo/SkE4a/cs8T8cvJcFbSEFQEbv23Oc9Oc/QvEKef8F/D9wdqveiREIQESbUHfeqgpASO2sbjnj8z9ERZZ1vU/ZP5ynwEdW0wZAREWWdb1P2T9y9RNc2AgGQJ7QbsODbwNA9Qe8FIxFAEAZFIEM8Y0KQPSIU5c9TvI/nCYpxaTK1D/DW5w4N68LQJooWMoH3Pg/8jTImn8EBUDyCesZ71YEQJp+EswoN+o/7zb3n+IVCUCZfhLMKDcKQMuA7KmeKABAnCYpxaTK1D+Y0p3I5oDXP5gqh89q7ew/9F12Fq2g4T+fpZFC88ECQKAk+r9BufA/8gnrGe9WBEBAnX98QbzeP8YDszGzQgZA8F+lGxCy1T/ut44ilB4LQMjY1bAilQVAntBuw4Nv8z+cJinFpMrUP/IJ6xnvVvQ/nHq0wWIU0j+cfOPGxSUGQJvSncjmgPc/7zb3n+IVCUCV1vvSrKPvP/ALGh9SaAhAQhzo+Y+z/D+U1vvSrKPfP0SbUHfeqgpA7Lm9J/cv/z9Em1B33qrqP8rWpqu/gwFAmNTMzUmS6z9wdqveiREIQB/lRYGavQFAnHzjxsUl9j9IQ2dwWj71P0psFeyH2vE/H+VFgZq9AUBGmSFye5nmP/CzMBjO+9I/SENncFo+9T+gKofPau2sP0iX8mwYiOI/+Ae8FIxFwD84nX98QbzOP0aZIXJ7meY/8gnrGe9WBEAAYKUbELKlP5gqh89q7fw/cEvOXfljB0Dw4Dyewbr3P577S0QUHQRAldb70qyj7z/u4mujJMz7P0SZIXJ7mdY/ScLP7ag1A0CeerTBYhTyP/IJ6xnvVvQ/9IhTlz1OAkBGmSFye5n2P0jtrG454+M/HpG6hNxzBEBIQ2dwWj4FQJ56tMFiFPI/wzC/t6YBC0BLFlvqZn8AQHLKNttHWwVAHLyXBW0hBUDxioKcoF/2P/BfpRsQssU/yK34L5LnBEBAnX98QbzeP0sWW+pmf/A/SmwV7Ifa8T/y3g2ZXqnzP5p+EswoN/o/RMYt+G5Y+z9Il/JsGIjiP/SIU5c9TgJA8oqCnKBfBkBEcHP2Tf35P/DgPJ7BugdA8Db3n+IV+T+g+Rw/sQsAQDidf3xBvM4/niT6v0G54D/yX6UbELIFQELxCnn/Bew/nCYpxaTK1D/wX6UbELLVP57QbsODbwNAmlM1S5iJ+T90SZ9YllIDQEaZIXJ7mQZAnHzjxsUl5j/0iFOXPU4CQMlXPi5xjANAnHzjxsUl5j9IGIrvyZAEQPIJ6xnvVgRASmwV7Ifa8T8ZFIEM8Y0KQPgHvBSMRdA/7mHUIHPD6T8gj4t/eWIAQEPGLfhuWAtA8LVfHTENB0CcJinFpMr0P0jtrG454/M/bXja4+wiDEDwtV8dMQ0HQELxCnn/Bew/nCYpxaTK5D/wszAYzvvSP0TGLfhuWPs/9LMwGM778j+cUQZGNXj1P/ALGh9SaPg/Q/EKef8FDECAKofPau2MP5r9ekl3Lvg/mCqHz2rtzD/0szAYzvsCQKDSncjmgMc/8l+lGxCyBUBuTf1iXHULQEbE/vILR/c/SmwV7IfaAUAAAAAAAAAAAEjtrG454/M/7g1JJLV5/D/JVz4ucYwDQMqrySov1gBAgCqHz2rtjD/0szAYzvvyP5bW+9Kso/8/7zb3n+IVCUBIl/JsGIgCQPALGh9SaAhAREWWdb1P2T/wCxofUmj4P/gHvBSMRcA/9V12Fq2gAUCepZFC88HyP/VddhatoAFAlYBB0YtI7j9Dxi34blgLQPRddhatoOE/SO2sbjnjwz8cElIHjnwGQJwmKcWkytQ/7Lm9J/cv7z/wtV8dMQ3nP0jtrG454/M/yNjVsCKVBUCZqe9MueQKQJooWMoH3AhAm9KdyOaA9z9GbkTx6usFQELxCnn/Bew/7GMDJtbU7T+Y/6lO2j/8Pxk/Xo2BOwtAGGo7DhLpC0CeerTBYhTiP0TGLfhuWPs/SkE4a/cs8T/w4Dyewbr3P8Mwv7emAQtAoCT6v0G58D8f5UWBmr0BQJpTNUuYifk/RJtQd96qCkBI7axuOePzP0sWW+pmfwBARu/bc5z0B0Dut44ilB4LQEaZIXJ7mQZA7oyxoQNxCkDI2NWwIpUFQPBfpRsQstU/oCT6v0G5AEAAYKUbELKlP0JHxXogYe0/n6WRQvPBAkCe0G7Dg2/jP0aZIXJ7meY/8LeOIpQeyz8cvJcFbSEFQERFlnW9T/k/7zb3n+IVCUBIGIrvyZD0P0UaufQsovg/QvEKef8F/D/GhEq0ZEsIQEsWW+pmf/A/oNKdyOaAxz8f5UWBmr0BQEbE/vILRwdAQMhc/dFp/z+eerTBYhTyP0psFeyH2gFA9Qe8FIxFAEBKbBXsh9rxP5jUzM1Jkus/mP+pTto/DEBwdqveiREIQJXW+9Kso+8/7GMDJtbU7T9yIPHcaLYGQJp+EswoN/o/7mHUIHPD6T+afhLMKDfqPxwSUgeOfAZAILpoAAoQAUBKbBXsh9oBQJx848bFJeY/7GMDJtbU3T8AYKUbELKlP577S0QUHfQ/cso220dbBUDGryc19fgIQPUymZUc8wBARe/bc5z09z+gerTBYhTCP/SzMBjO+/I/nnq0wWIU8j+g+Rw/sQsAQMjY1bAilQVAnvtLRBQdBEAak+mJP4UIQPBfpRsQssU/ILpoAAoQAUBGQ2dwWj7lP25N/WJcdQtA8LVfHTEN9z/1XXYWraABQEjtrG454/M/mihYygfc6D+e0G7Dg28DQBkUgQzxjQpARsT+8gtHB0BIws/tqDXzP+y3jiKUHts/nvtLRBQdBEDwszAYzvvSP0gYiu/JkARARRq59Cyi+D9Il/JsGIjiP3BLzl35YwdAdEmfWJZSA0DyCesZ71YEQJr9ekl3Lvg/8rMwGM774j9IQ2dwWj71P0RFlnW9T/k/b/dCYTsaCkCcJinFpMoEQPJfpRsQsuU/nCYpxaTK9D9Il/JsGIgCQPALGh9SaAhAmtKdyOaA5z8cvJcFbSEFQKB6tMFiFMI/9DKZlRzz8D9KbBXsh9oBQMNbnDg3rwtAyNjVsCKVBUD1MpmVHPMAQHJ0fNkmAARAcp9ZWretBECWqx5SHPb+P8YukLJD8AZASxZb6mZ/AEAZP16NgTsLQJ7QbsODbwNAnvtLRBQd9D8ZFIEM8Y0KQEsWW+pmfwBAcEvOXfljB0AcElIHjnwGQJWAQdGLSO4/RJtQd96q+j/EBeI2FlQKQJgqh89q7cw/9V12Fq2gAUAfECMCK2sCQEjtrG454+M/nCYpxaTK5D908+RWdfcBQPDgPJ7Buvc/RHBz9k39CUBMQThr9yzRP/RddhatoOE/REWWdb1PCUDsub0n9y/vP/C1Xx0xDQdAntBuw4Nv4z/wX6UbELLFP0SbUHfequo/8jTImn8EBUCfpZFC88ECQPRddhatoPE/SmwV7IfaAUDs5Jqoh93/P+6MsaEDcQpA8oqCnKBfBkDwtV8dMQ0HQEXv23Oc9Pc/dEmfWJZSA0CcJinFpMrkP6Ak+r9BufA/7g1JJLV5/D/wtV8dMQ0HQPSzMBjO+/I/mihYygfc+D/DML+3pgELQMrWpqu/gwFARJkhcnuZ1j9GxP7yC0f3P56lkULzwfI/SxZb6mZ/AECepZFC88HyP+4NSSS1eew/Gr7GCtAyCUDuYdQgc8PpP5unwEdW0/Y/biIg4svHCkCcerTBYhTSPxkUgQzxjQpAnHzjxsUl9j+e+0tEFB30P0UaufQsovg/biIg4svHCkDsub0n9y//P3XIB9bkSQFA7zb3n+IVCUDwCxofUmjoP/SzMBjO+/I/y4DsqZ4oAEAYajsOEukLQJp+EswoN/o/SxZb6mZ/AEBAnX98QbzeP5xRBkY1eAVAmihYygfc6D9Il/JsGIjyP3J0fNkmAARAnnq0wWIU8j9wdqveiREIQBwSUgeOfAZAn0/XQNJmAUDyCesZ71bkP+xjAybW1P0/SENncFo+9T+ZfhLMKDcKQMiCG68BOgRA8oqCnKBfBkBC8Qp5/wXsP0JHxXogYe0/7uJroyTMC0DyNMiafwQFQPI0yJp/BAVAmCqHz2rt7D+e0G7Dg2/zP0pBOGv3LPE/cp9ZWretBEBIl/JsGIjiP0bE/vILR/c/SkE4a/cs8T9GmSFye5nmP0LxCnn/Bew/8gnrGe9W5D/GhEq0ZEsIQPC1Xx0xDec/SO2sbjnj8z/ILGGt4N4CQExBOGv3LNE/8LVfHTENB0BydHzZJgAEQEJHxXogYe0/nHzjxsUl9j/K1qarv4MBQG4iIOLLxwpARMYt+G5Y+z9ERZZ1vU/5P0JyovuwDv4/QkfFeiBh/T9IGIrvyZD0P0YaufQsoghAnqWRQvPB8j/sYwMm1tT9P0JHxXogYe0/RRq59Cyi+D9Jws/tqDUDQHLKNttHWwVAnKfAR1bTBkCcJinFpMoEQO6MsaEDcfo/+Ae8FIxFwD+YVWRQ+5r9P0PGLfhuWAtASENncFo+9T/uDUkktXn8P5Qqh89q7dw/7uJroyTM+z/0MpmVHPPwP/JfpRsQsuU/9IhTlz1OAkBFGrn0LKL4P0psFeyH2vE/gCqHz2rtnD/ut44ilB77P0bv23Oc9AdASENncFo+BUDLgOypnigAQJbW+9Kso/8/8jTImn8EBUDIrfgvkucEQPSzMBjO+/I/mNKdyOaA1z8c53SG/c4FQERFlnW9T+k/8oqCnKBfBkDK1qarv4MBQHB2q96JEQhAyVc+LnGMA0BCnX98Qbz+P/QymZUc8/A/GGo7DhLpC0Dw4DyewboHQECdf3xBvN4/nKfAR1bTBkBC8Qp5/wXsP8Mwv7emAQtAGpPpiT+FCEBKQThr9ywBQB5m3QNMxgNARO2sbjnj0z+epZFC88HyP/SIU5c9TvI/oCqHz2rtvD9J7axuOeMDQJ5P10DSZvE/SmwV7IfaAUBARZZ1vU+5P0ntrG454wNAILpoAAoQAUBGmSFye5nmP8rWpqu/gwFAGRSBDPGNCkDI2NWwIpUFQECdf3xBvN4/Qp1/fEG87j+bp8BHVtP2P5jSncjmgNc/QMhc/dFp/z/E2gS2haYJQJ5P10DSZvE/7uJroyTMC0BC8Qp5/wXsP0SbUHfeqvo/ntBuw4Nv8z+eT9dA0mbxP0hDZ3BaPvU/QnKi+7AO/j/IrfgvkucEQPALGh9SaAhA9IhTlz1O8j8avsYK0DIJQEaZIXJ7mQZAmn4SzCg3+j9Il/JsGIjiP5bW+9Kso/8/GGo7DhLpC0ByyjbbR1sFQEZDZ3BaPuU/mlM1S5iJCUDwCxofUmgIQPVddhatoAFASxZb6mZ/8D9AnX98QbzeP0LxCnn/Bew/RJtQd96q+j9EcHP2Tf0JQEZuRPHq6/U/SEWWdb1PyT/wX6UbELK1P5rSncjmgOc/oNKdyOaAxz/yNMiafwT1P25N/WJcdQtAnk/XQNJm8T/1MpmVHPMAQBw9L4geKgdAmCqHz2rt/D/0iFOXPU7yP0xBOGv3LNE/8AsaH1Jo+D/sjuCmZoL+PyCPi395YgBAyK34L5LnBEBvzGXgqmwJQJj/qU7aP/w/m6fAR1bT9j+cJinFpMrkPwAAAAAAAAAAmX4SzCg3CkDyNMiafwQFQERwc/ZN/QlARhq59CyiCEDE2gS2haYJQJx6tMFiFNI/OJ1/fEG8zj9Dxi34blgLQHQewtcFpQJASO2sbjnj4z+ZfhLMKDcKQPA295/iFfk/nHzjxsUlBkB08+RWdfcBQPSIU5c9TgJAmihYygfc+D/xioKcoF/2P556tMFiFOI/mX4SzCg3CkDujLGhA3EKQJ96tMFiFAJARm5E8err9T/wX6UbELK1P0RFlnW9T/k/dB7C1wWlAkD0MpmVHPPwP57QbsODb/M/8jTImn8EBUCY/6lO2j/8PxxoDAmv1wdARMYt+G5Y+z+U1vvSrKPfP/IJ6xnvVgRARHBz9k39+T/DW5w4N68LQMuA7KmeKABAmH4SzCg32j/wCxofUmj4P5bW+9Kso/8/SBiK78mQ9D9Dxi34blgLQPI0yJp/BPU/7GMDJtbU7T+g+Rw/sQvwP3BLzl35YwdARpkhcnuZ9j8caAwJr9cHQMTaBLaFpglAmn4SzCg3+j9Em1B33qoKQPQymZUc8/A/QkfFeiBh7T+Y1MzNSZLrPxzndIb9zgVAniT6v0G54D/sCxofUmjYP+7ia6MkzPs/7I7gpmaC/j8cElIHjnwGQMiCG68BOgRA8rMwGM774j/sub0n9y/vP8lXPi5xjANA8gnrGe9W5D9yIPHcaLYGQJaAQdGLSP4/ygGELFAxAkBEmSFye5nWP5arHlIc9v4/mlM1S5iJ+T+YKofPau38P/SzMBjO+/I/7oyxoQNx+j/Gryc19fgIQJ7QbsODb/M/SO2sbjnjwz+YKofPau3sP+5h1CBzw/k/QnKi+7AO/j+a/XpJdy74P3BLzl35YwdAmNTMzUmS+z9MQThr9yzRP/DgPJ7Buvc/8gnrGe9W5D+g+Rw/sQvwP5zSncjmgAdAloBB0YtI/j9wS85d+WMHQO7ia6MkzAtAQp1/fEG8/j/vYdQgc8MJQHRJn1iWUgNARJkhcnuZ1j+b0p3I5oD3P3QewtcFpQJAxoRKtGRLCEB08+RWdfcBQJwmKcWkytQ/SJfybBiI8j+gJPq/QbnwP5ooWMoH3Og/n0/XQNJmAUCa/XpJdy74P3RJn1iWUgNA7Lm9J/cv/z/wX6UbELLVP0iX8mwYiAJA9V12Fq2gAUBMQThr9yzRP0Ic6PmPs/w/SxZb6mZ/8D8eZt0DTMYDQJjUzM1Jkvs/nHzjxsUlBkBIl/JsGIgCQJ7QbsODbwNAmKnvTLnk+j/GhEq0ZEsIQJ4k+r9BueA/nFEGRjV4BUDsYwMm1tTdP/RddhatoOE/RpkhcnuZ5j/wNvef4hX5P0psFeyH2vE/dcgH1uRJAUD0B7wUjEXgPx/lRYGavQFAAGClGxCypT/0B7wUjEXgP0YaufQsoghATEE4a/cs0T+ferTBYhQCQJooWMoH3AhAnHzjxsUl9j/IrfgvkucEQJ7QbsODb+M/xoRKtGRLCECa/XpJdy74P5rSncjmgOc/y4DsqZ4oAED0B7wUjEXwP/QHvBSMRfA/mH4SzCg32j9G79tznPTnPxwSUgeOfAZAmFVkUPua/T+e+0tEFB30P5l+EswoNwpAHBJSB458BkD0XXYWraDxP0RFlnW9T9k/7OSaqIfd/z/DW5w4N68LQABgpRsQsqU/b6GIXxq/CECgKofPau2sP0Xv23Oc9Pc/Gemji2DgCUB0HsLXBaUCQEsWW+pmfwBA9F12Fq2g8T9Dxi34blgLQPKzMBjO++I/lYBB0YtI7j+aUzVLmIn5P5Qqh89q7dw/Re/bc5z09z+gerTBYhTCP2/3QmE7GgpASmwV7IfaAUAcPS+IHioHQEYaufQsoghA8gnrGe9WBEDyX6UbELLlP5gqh89q7fw/9LMwGM778j/DML+3pgELQJynwEdW0wZARpkhcnuZBkDyCesZ71b0P3LKNttHWwVAn0/XQNJmAUBIQ2dwWj71P55P10DSZvE/xgOzMbNCBkDKq8kqL9YAQPgHvBSMRcA/8OA8nsG6B0BE7axuOePTP0pBOGv3LAFAGemji2DgCUDsOCalRSf9P5x848bFJeY/QkfFeiBh7T/wX6UbELLFP0RFlnW9T+k/8LVfHTENB0ByyjbbR1sFQJx6tMFiFNI/7reOIpQe+z/0MpmVHPPwP/SIU5c9TgJA7reOIpQeC0BKbBXsh9oBQPI0yJp/BAVARpkhcnuZ9j+YKofPau38P+7ia6MkzPs/mn4SzCg36j+Yqe9MueT6P8iCG68BOgRA9F12Fq2g8T908+RWdfcBQEpBOGv3LOE/ldb70qyj7z8f5UWBmr0BQPCzMBjO+9I/7GMDJtbU7T9CnX98QbzuPyCPi395YgBA7Lm9J/cv/z+bp8BHVtP2P6Aqh89q7bw/oPkcP7EL8D+Zqe9MueQKQMiCG68BOgRAGr7GCtAyCUD0iFOXPU7yPxqT6Yk/hQhAmNTMzUmSC0DwX6UbELLVP0DxCnn/Bdw/wzC/t6YBC0BGGrn0LKIIQEbv23Oc9Oc/bk39Ylx1C0Ca0p3I5oDnP0TtrG4549M/ScLP7ag1A0DsjuCmZoL+P+63jiKUHus/m6fAR1bT9j9KbBXsh9oBQHWdKlVUnABASBiK78mQ9D/y3g2ZXqkDQELxCnn/Bew/nCYpxaTK5D9C8Qp5/wXsP+6MsaEDcQpARu/bc5z0B0BwS85d+WMHQHTz5FZ19wFARJkhcnuZ1j/0iFOXPU7yP5bW+9Kso/8/oCqHz2rtvD+cJinFpMrUP+wLGh9SaNg/8l+lGxCy5T+Y/6lO2j/8P6D5HD+xC/A/xoRKtGRLCEBvoYhfGr8IQERwc/ZN/QlARJtQd96q+j9GbkTx6usFQPQHvBSMReA/dPPkVnX3AUDGWW0z1J0HQPLeDZleqfM/Rm5E8errBUDKAYQsUDECQMavJzX1+AhA9Ae8FIxF4D8caAwJr9cHQHXIB9bkSQFAmv16SXcuCEBCcqL7sA7+P0iX8mwYiPI/REWWdb1PCUBvoYhfGr8IQJWAQdGLSO4/nCYpxaTK1D/wszAYzvvSP/gHvBSMRcA/8AsaH1Jo+D+YKofPau3sP0xBOGv3LNE/SmwV7IfaAUDsYwMm1tTdP2+hiF8avwhAcEvOXfljB0BIws/tqDXzP8iCG68BOgRAwzC/t6YBC0Cg+Rw/sQsAQJ6lkULzwfI/RpkhcnuZBkD1B7wUjEUAQOyO4KZmgv4/oPkcP7EL8D/I2NWwIpUFQKAk+r9BuQBAmihYygfcCEBy9RNc2AgGQJXW+9Kso+8/oCT6v0G5AEDuDUkktXn8P8Mwv7emAQtA7reOIpQe6z9EcHP2Tf0JQO5h1CBzw/k/7mHUIHPD+T8ak+mJP4UIQKAk+r9BufA/8t4NmV6pA0DyCesZ71YEQPA295/iFfk/nqWRQvPB8j+YKofPau3sPxw9L4geKgdAoHq0wWIUsj+cfOPGxSXmP+6MsaEDcfo/nKfAR1bTBkDyX6UbELLlP0SbUHfeqvo/8t4NmV6pA0CVgEHRi0juP0JHxXogYe0/nFEGRjV49T+cfOPGxSXmP6Ak+r9BuQBA8gnrGe9W5D9ERZZ1vU8JQEbv23Oc9AdAyNjVsCKVBUCcp8BHVtMGQO63jiKUHgtAnnq0wWIU8j8avsYK0DIJQPALGh9SaAhA+Ae8FIxFwD9voYhfGr8IQPALGh9SaPg/xi6QskPwBkBERZZ1vU/ZP8NbnDg3rwtAm9KdyOaA9z9GmSFye5kGQEhDZ3BaPgVAxgOzMbNCBkDI2NWwIpUFQO9h1CBzwwlARe/bc5z09z9v90JhOxoKQEpsFeyH2gFAmv16SXcuCEAZ6aOLYOAJQG4iIOLLxwpAdB7C1wWlAkDyCesZ71YEQKD5HD+xC/A/REWWdb1P6T/DW5w4N68LQJynwEdW0wZA7reOIpQe+z+e0G7Dg2/zP5gqh89q7cw/AGClGxCypT9yyjbbR1sFQO7ia6MkzAtA7g1JJLV57D/ujLGhA3EKQCC6aAAKEAFAntBuw4Nv4z9I7axuOePDP+zkmqiH3f8/mlM1S5iJ+T/wCxofUmj4P0PGLfhuWAtA7GMDJtbU7T+Y1MzNSZL7P0bv23Oc9Oc/nnq0wWIU8j/I2NWwIpUFQB47AIO7GANAlCqHz2rt3D/yX6UbELLlP0psFeyH2gFAQ/EKef8FDEBIl/JsGIgCQOxjAybW1P0/ScLP7ag1A0Bv90JhOxoKQMqrySov1gBA9Qe8FIxFAECgKofPau28P/RddhatoOE/QvEKef8F/D+e0G7Dg2/zP/LeDZleqQNA8gnrGe9W9D/yX6UbELIFQJynwEdW0wZAygGELFAxAkByIPHcaLYGQO4NSSS1eew/SkE4a/cs8T9KQThr9ywBQJ7QbsODbwNA8jTImn8E9T+gJPq/QbkAQELxCnn/Bew/HBJSB458BkBD8Qp5/wUMQJ56tMFiFPI/8t4NmV6p8z+gKofPau28P/SIU5c9TgJA9TKZlRzzAECbp8BHVtP2P8QF4jYWVApAnFEGRjV4BUD0B7wUjEXwP0gYiu/JkARA7reOIpQeC0DwX6UbELK1P0JHxXogYf0/xgOzMbNCBkDGA7Mxs0IGQPSzMBjO+wJA8YqCnKBf9j84nX98QbzOP/QymZUc8/A/HxAjAitrAkAc53SG/c4FQPC1Xx0xDQdARm5E8errBUD0iFOXPU7yP/LeDZleqQNAQ8Yt+G5YC0BAnX98QbzeP3KfWVq3rQRA8LVfHTEN9z9ERZZ1vU/pP556tMFiFPI/8rMwGM774j/wtV8dMQ0HQEZuRPHq6/U/7oyxoQNxCkBDxi34blgLQPRddhatoOE/9F12Fq2g8T9v90JhOxoKQETtrG4549M/dZ0qVVScAEBExi34blj7Pxk/Xo2BOwtARe/bc5z09z+aKFjKB9z4P/FfpRsQsvU/xgOzMbNCBkBEmSFye5nWP0ntrG454wNAoCqHz2rtrD/0szAYzvsCQMYDszGzQgZAyK34L5LnBECcJinFpMrkP3LKNttHWwVA8oqCnKBfBkBv90JhOxoKQB6RuoTccwRAGpPpiT+FCEB08+RWdfcBQPVddhatoAFAHjsAg7sYA0DuYdQgc8PpP0bE/vILR/c/oCT6v0G5AEDJVz4ucYwDQO5h1CBzw/k/nqWRQvPB8j9C8Qp5/wXsP5wmKcWkyuQ/mKnvTLnk+j9ydHzZJgAEQHBLzl35YwdAntBuw4Nv8z+Yqe9MueT6P0PGLfhuWAtAxq8nNfX4CEDGryc19fgIQCCPi395YgBAHxAjAitrAkCeerTBYhTiP8avJzX1+AhAQp1/fEG87j9wS85d+WMHQPQymZUc8/A/mFVkUPua/T8c53SG/c4FQJx848bFJfY/7zb3n+IVCUDw4DyewboHQMaESrRkSwhARRq59Cyi+D+aKFjKB9wIQPI0yJp/BPU/nk/XQNJm8T/u4mujJMwLQKAqh89q7bw/nnq0wWIU8j9EcHP2Tf35P/RddhatoPE/oPkcP7EL8D/yNMiafwT1P0aZIXJ7mfY/+Ae8FIxF0D9GbkTx6usFQPKzMBjO++I/oHq0wWIUwj+gJPq/QbkAQMgsYa3g3gJAnFEGRjV4BUCe0G7Dg2/jP5wmKcWkyuQ/7zb3n+IVCUBydHzZJgAEQEpsFeyH2vE/cHar3okRCEDILGGt4N4CQMMwv7emAQtAmanvTLnkCkDxX6UbELL1P3Tz5FZ19wFA8LVfHTEN5z9CnX98QbzuP5wmKcWkyvQ/HjsAg7sYA0BG79tznPTnP/IJ6xnvVuQ/nFEGRjV49T9EmSFye5nWP8YukLJD8AZARpkhcnuZBkBCcqL7sA7+Px47AIO7GANAOJ1/fEG8zj/w4Dyewbr3P/QHvBSMReA/nCYpxaTK1D/yCesZ71bkP5ooWMoH3Og/mv16SXcuCEDvYdQgc8MJQBwSUgeOfAZAntBuw4Nv8z/wtV8dMQ33P5XW+9Kso+8/SBiK78mQBEBIws/tqDXzP5pTNUuYiQlAGpPpiT+FCEA4nX98QbzOP3J0fNkmAARA8rMwGM774j/0XXYWraDxP0Kdf3xBvP4/8OA8nsG6B0BEm1B33qrqP0YaufQsoghAnCYpxaTKBEDsYwMm1tTdP5ip70y55Po/7Lm9J/cv7z91nSpVVJwAQPSzMBjO+wJAygGELFAxAkCY/6lO2j/8P/DgPJ7BugdARsT+8gtH9z+Y1MzNSZILQHWdKlVUnABA8gnrGe9WBEDwtV8dMQ33P5p+EswoN/o/7GMDJtbU3T/y3g2ZXqnzPxqT6Yk/hQhAciDx3Gi2BkDsub0n9y//P5vSncjmgPc/dEmfWJZSA0CZqe9MueQKQESZIXJ7mdY/b8xl4KpsCUCgJPq/QbnwP8it+C+S5wRAxgOzMbNCBkBKQThr9yzxP3L1E1zYCAZARpkhcnuZBkAeOwCDuxgDQKB6tMFiFMI/ytamq7+DAUDs5Jqoh93/P0PxCnn/BQxARJtQd96q+j/w4DyewboHQJTW+9Kso98/SEWWdb1PyT+cfOPGxSX2P56lkULzwfI/yIIbrwE6BEDwNvef4hX5P556tMFiFPI/Gr7GCtAyCUDwtV8dMQ0HQPBfpRsQssU/+Ae8FIxFwD+e0G7Dg2/jP5jUzM1JkgtA8LMwGM770j/IrfgvkucEQEaZIXJ7mfY/RJtQd96q6j/1B7wUjEUAQJwmKcWkyvQ/9F12Fq2g8T/uYdQgc8P5P/KzMBjO++I/oCT6v0G5AECYKofPau3MP+5h1CBzw/k/H+VFgZq9AUDGhEq0ZEsIQPBfpRsQsrU/7mHUIHPD+T9J7axuOeMDQJx848bFJeY/mihYygfc6D+Y1MzNSZL7P0aZIXJ7mfY/9F12Fq2g8T8ak+mJP4UIQO63jiKUHgtAHxAjAitrAkCferTBYhQCQHKfWVq3rQRA8t4NmV6p8z9D8Qp5/wUMQEhDZ3BaPgVASxZb6mZ/AEDvYdQgc8MJQBw9L4geKgdAcso220dbBUBydHzZJgAEQPSzMBjO+/I/mX4SzCg3CkB1yAfW5EkBQPI0yJp/BPU/SMLP7ag18z9AyFz90Wn/P+7ia6MkzPs/mtKdyOaA5z8cElIHjnwGQPALGh9SaPg/RJkhcnuZ1j/wszAYzvvSP+63jiKUHus/7Lm9J/cv/z+eJPq/QbngP/ALGh9SaOg/mP+pTto//D/wCxofUmjoP8aESrRkSwhAoCT6v0G5AEDwszAYzvvSP5TW+9Kso98/H+VFgZq9AUCY0p3I5oDXP0jtrG4548M/SBiK78mQBEDut44ilB77P/KKgpygXwZAQp1/fEG87j/yX6UbELLlP+w4JqVFJ/0/SmwV7IfaAUAAYKUbELKlP3Ig8dxotgZAGr7GCtAyCUBteNrj7CIMQJ7QbsODb/M/ltb70qyj/z/wCxofUmgIQJp+EswoN/o/SJfybBiI8j/xioKcoF/2P5x6tMFiFNI/ntBuw4Nv8z/0iFOXPU4CQJwmKcWkyvQ/9Ae8FIxF8D9KQThr9ywBQEZuRPHq6/U/RJtQd96q6j908+RWdfcBQO5h1CBzw+k/oPkcP7EL8D+bp8BHVtP2P+8295/iFQlA8F+lGxCy1T+YKofPau3MP0gYiu/JkPQ/SO2sbjnj4z8eZt0DTMYDQOzkmqiH3f8/8LVfHTEN9z/yCesZ71b0P/IJ6xnvVgRAdcgH1uRJAUCYKofPau38P0sWW+pmfwBAyVc+LnGMA0DwtV8dMQ0HQPQymZUc8/A/HLyXBW0hBUDujLGhA3H6P556tMFiFOI/RRq59Cyi+D9IGIrvyZAEQJpTNUuYifk/Rhq59CyiCECAKofPau2MP/IJ6xnvVuQ/n0/XQNJmAUD0szAYzvsCQOy5vSf3L+8/nqWRQvPB8j9GxP7yC0f3P+63jiKUHvs/dcgH1uRJAUDsjuCmZoL+P0PxCnn/BQxA8LeOIpQeyz/ujLGhA3H6P/KzMBjO++I/SJfybBiIAkCe+0tEFB0EQG/MZeCqbAlARJtQd96q6j/wCxofUmj4P5r9ekl3Lvg/RHBz9k39+T/0B7wUjEXwP0gYiu/JkPQ/nCYpxaTK5D+fT9dA0mYBQMQF4jYWVApARm5E8errBUA4nX98QbzOP0psFeyH2gFAltb70qyj/z9Iws/tqDXzPxxoDAmv1wdA9IhTlz1OAkDyNMiafwQFQPJfpRsQsuU/RHBz9k39CUDILGGt4N4CQO6MsaEDcfo/8l+lGxCy5T90SZ9YllIDQPBfpRsQstU/nnq0wWIU8j/LgOypnigAQPSIU5c9TgJAgCqHz2rtnD9ERZZ1vU/ZP/JfpRsQsgVAoPkcP7ELAEBKQThr9ywBQCC6aAAKEAFAntBuw4Nv4z/KAYQsUDECQPA295/iFfk/m9KdyOaA9z/y3g2ZXqkDQO4NSSS1efw/m6fAR1bT9j9CnX98QbzuP5wmKcWkytQ/8jTImn8E9T/ILGGt4N4CQBk/Xo2BOwtAb6GIXxq/CEBFGrn0LKL4Pxy8lwVtIQVAmX4SzCg3CkCcJinFpMoEQEpsFeyH2vE/OJ1/fEG8zj/ut44ilB4LQEPxCnn/BQxA8AsaH1JoCECZqe9MueQKQEIc6PmPs/w/9F12Fq2g8T/wtV8dMQ33P/gHvBSMRdA/7OSaqIfd/z/Gryc19fgIQOy5vSf3L+8/gCqHz2rtnD+cJinFpMoEQEKdf3xBvP4/8gnrGe9W5D91yAfW5EkBQJx848bFJeY/mP+pTto//D9KQThr9ywBQPCzMBjO+9I/GRSBDPGNCkBy9RNc2AgGQBnpo4tg4AlASO2sbjnjwz+AKofPau2MP577S0QUHfQ/n0/XQNJmAUCY1MzNSZLrP5arHlIc9v4/SkE4a/csAUBKQThr9yzhP/JfpRsQsgVA7oyxoQNxCkCferTBYhQCQG4iIOLLxwpAQvEKef8F7D/4B7wUjEXAP0LxCnn/Bew/yqvJKi/WAECVgEHRi0juP/C1Xx0xDfc/manvTLnkCkBKbBXsh9rxP/JfpRsQsuU/7OSaqIfd/z9A8Qp5/wXcP0Ic6PmPs/w/ntBuw4NvA0BEm1B33qoKQBq+xgrQMglA8OA8nsG6B0CcfOPGxSX2Pxq+xgrQMglAyIIbrwE6BECaKFjKB9z4P+zkmqiH3f8/RRq59Cyi+D+cfOPGxSXmP5pTNUuYifk/nKfAR1bTBkCVgEHRi0juP596tMFiFAJA7Lm9J/cv/z8cvJcFbSEFQPIJ6xnvVvQ/ltb70qyj/z/vYdQgc8MJQO5h1CBzw+k/mKnvTLnk+j+aKFjKB9zoP/DgPJ7Buvc/8LeOIpQeyz9voYhfGr8IQKD5HD+xCwBAQMhc/dFp/z+cfOPGxSX2P8rWpqu/gwFAxlltM9SdB0DuDUkktXn8P5ooWMoH3Og/Qp1/fEG87j8caAwJr9cHQESbUHfeqgpAlqseUhz2/j/wX6UbELLFP8Mwv7emAQtAmH4SzCg32j8f5UWBmr0BQEpsFeyH2vE/nqWRQvPB8j8gj4t/eWIAQJ77S0QUHQRAAGClGxCypT9KQThr9yzhP5pTNUuYiQlAQvEKef8F/D/u4mujJMz7P/DgPJ7BugdAlCqHz2rt3D+e+0tEFB0EQEIc6PmPs/w/yK34L5LnBEDILGGt4N4CQJr9ekl3LghA7Lm9J/cv/z/wtV8dMQ33P0aZIXJ7meY/ntBuw4Nv8z8ak+mJP4UIQPSzMBjO+/I/7uJroyTMC0BKQThr9ywBQPC1Xx0xDQdA7uJroyTM+z9Il/JsGIgCQJj/qU7aP/w/7GMDJtbU7T+gKofPau2sP0PxCnn/BQxAQp1/fEG8/j9GmSFye5kGQOy3jiKUHts/SxZb6mZ/8D+Y1MzNSZILQEbE/vILR/c/ldb70qyj7z/ujLGhA3H6P556tMFiFOI/Qhzo+Y+z/D/0MpmVHPPwP/C1Xx0xDQdARm5E8err9T/yioKcoF8GQJ96tMFiFAJAGemji2DgCUDGLpCyQ/AGQG/MZeCqbAlAmFVkUPua/T/vYdQgc8MJQPRddhatoOE/8LMwGM770j/sYwMm1tT9P3BLzl35YwdARu/bc5z05z9Dxi34blgLQJwmKcWkyuQ/cnR82SYABEAZ6aOLYOAJQBk/Xo2BOwtAdB7C1wWlAkD1B7wUjEUAQJwmKcWkytQ/oHq0wWIUsj/u4mujJMwLQOy5vSf3L+8/+Ae8FIxF0D/sjuCmZoL+P/RddhatoPE/nvtLRBQd9D9C8Qp5/wXsP0PGLfhuWAtAQMhc/dFp/z/ut44ilB7rP5xRBkY1eAVA7mHUIHPD6T+c0p3I5oAHQEKdf3xBvO4/ciDx3Gi2BkCYfhLMKDfaP+w4JqVFJ/0/8F+lGxCytT+YfhLMKDfaP/RddhatoPE/ntBuw4NvA0AekbqE3HMEQMavJzX1+AhAmn4SzCg36j9F79tznPT3P0iX8mwYiPI/8LMwGM770j+gKofPau28P/SIU5c9TvI/OJ1/fEG8zj+g0p3I5oDHP+9h1CBzwwlAGRSBDPGNCkBExi34blj7P0bv23Oc9AdARpkhcnuZBkAgj4t/eWIAQEhDZ3BaPgVAxAXiNhZUCkCg+Rw/sQsAQJgqh89q7fw/gCqHz2rtjD9CnX98Qbz+P/C1Xx0xDQdAyNjVsCKVBUDKAYQsUDECQG/3QmE7GgpAmv16SXcu+D/LgOypnigAQPGKgpygX/Y/8t4NmV6p8z+YKofPau38P0LxCnn/Bfw/nvtLRBQd9D+g0p3I5oDHP5h+EswoN9o/8LMwGM770j/s5Jqoh93/P0bE/vILR/c/mlM1S5iJ+T/0iFOXPU7yP5wmKcWkyuQ/nk/XQNJm8T9D8Qp5/wUMQJmp70y55ApAwzC/t6YBC0BARZZ1vU+5P0jtrG4548M/8LVfHTENB0BCnX98Qbz+P0jtrG454/M/yNjVsCKVBUBGmSFye5kGQJj/qU7aP/w/nHzjxsUl5j+Yqe9MueT6P/RddhatoPE/8t4NmV6pA0BAnX98QbzeP56lkULzwfI/8LVfHTENB0DwtV8dMQ33P/BfpRsQstU/8l+lGxCy5T9wdqveiREIQMqrySov1gBAgCqHz2rtjD+aUzVLmIkJQO7ia6MkzAtAdB7C1wWlAkBIGIrvyZAEQOxjAybW1N0/8l+lGxCyBUDvNvef4hUJQO4NSSS1efw/lNb70qyj3z9E7axuOePTP5ooWMoH3Pg/ntBuw4Nv4z/w4Dyewbr3P0pBOGv3LAFAHjsAg7sYA0Ds5Jqoh93/P/IJ6xnvVuQ/RJtQd96q+j/0iFOXPU7yP0TtrG4549M/Rm5E8err9T9KQThr9ywBQEiX8mwYiOI/RO2sbjnj0z8AAAAAAAAAAO6MsaEDcQpA8OA8nsG6B0CafhLMKDfqP/UHvBSMRQBARpkhcnuZBkCcJinFpMr0PxqT6Yk/hQhAmP+pTto//D/vNvef4hUJQJrSncjmgOc/b8xl4KpsCUByIPHcaLYGQJ+lkULzwQJA8LMwGM770j9Em1B33qrqP0jtrG454/M/8gnrGe9WBEDsub0n9y//P/SzMBjO+/I/GRSBDPGNCkDyCesZ71bkP0SbUHfequo/nk/XQNJm8T+VgEHRi0juP+y3jiKUHts/9F12Fq2g8T/sjuCmZoL+Px47AIO7GANAygGELFAxAkBIl/JsGIjiP59P10DSZgFA8gnrGe9W9D8cPS+IHioHQEgYiu/JkPQ/mNTMzUmSC0CfT9dA0mYBQJr9ekl3Lvg/7g1JJLV5/D9I7axuOePjP0nCz+2oNQNAGT9ejYE7C0DsOCalRSf9P3Tz5FZ19wFA9F12Fq2g8T9I7axuOePzP0SbUHfeqgpAdcgH1uRJAUBy9RNc2AgGQB6RuoTccwRAdcgH1uRJAUDwX6UbELLFP5+lkULzwQJAntBuw4Nv8z/ujLGhA3H6P3B2q96JEQhAQ8Yt+G5YC0CafhLMKDfqP0psFeyH2vE/lNb70qyj3z8gj4t/eWIAQJl+EswoNwpAxi6QskPwBkBCnX98Qbz+PxkUgQzxjQpA8gnrGe9W9D+gJPq/QbnwP0hDZ3BaPgVAdPPkVnX3AUCZfhLMKDcKQHRJn1iWUgNAlNb70qyj3z+VgEHRi0juP5mp70y55ApA7mHUIHPD6T/I2NWwIpUFQJ77S0QUHfQ/GGo7DhLpC0Ce0G7Dg2/zP3QewtcFpQJAnvtLRBQdBEAc53SG/c4FQPALGh9SaAhAoPkcP7ELAEAgumgAChABQJ77S0QUHQRAniT6v0G54D9GmSFye5nmP8jY1bAilQVAQJ1/fEG83j+e0G7Dg28DQKAqh89q7bw/9LMwGM778j+fpZFC88ECQHJ0fNkmAARASmwV7IfaAUCaKFjKB9z4P5gqh89q7ew/dcgH1uRJAUCcJinFpMrkP/C3jiKUHss/oHq0wWIUsj+VgEHRi0juP0LxCnn/Bew/9Ae8FIxF8D+e0G7Dg2/zP577S0QUHQRAbiIg4svHCkDDW5w4N68LQEbE/vILR/c/xoRKtGRLCEBFGrn0LKL4P596tMFiFAJAHGgMCa/XB0BKQThr9ywBQJwmKcWkygRAQvEKef8F7D+cfOPGxSXmP0DIXP3Raf8/dPPkVnX3AUBGGrn0LKIIQBw9L4geKgdAQ8Yt+G5YC0D1XXYWraABQO4NSSS1efw/nFEGRjV4BUBCR8V6IGHtP0jtrG454/M/8l+lGxCyBUBuIiDiy8cKQERFlnW9TwlA+Ae8FIxF0D+afhLMKDfqP0Kdf3xBvO4/8V+lGxCy9T/4B7wUjEXQP5p+EswoN+o/yIIbrwE6BECY1MzNSZLrP0SbUHfeqgpARe/bc5z09z9EmSFye5nWPxxoDAmv1wdAGemji2DgCUCZfhLMKDcKQO7ia6MkzPs/RHBz9k39CUBydHzZJgAEQJx848bFJeY/8AsaH1Jo+D+aUzVLmIn5P0bE/vILR/c/SO2sbjnj4z+cfOPGxSX2P5gqh89q7fw/oPkcP7EL8D9I7axuOePjP/JfpRsQsuU/REWWdb1P+T+a0p3I5oDnP8iCG68BOgRA9LMwGM778j8ZFIEM8Y0KQJ5P10DSZvE/yK34L5LnBEDw4Dyewbr3P0YaufQsoghA+Ae8FIxF0D9CHOj5j7P8P0aZIXJ7meY/8jTImn8E9T8eZt0DTMYDQESZIXJ7mdY/SO2sbjnjwz/w4Dyewbr3P0Kdf3xBvO4/8gnrGe9WBECYKofPau3MP0PGLfhuWAtAytamq7+DAUCY/6lO2j/8P0bE/vILR/c/HLyXBW0hBUCe+0tEFB30P0ZuRPHq6wVAnvtLRBQdBEDvNvef4hUJQJ7QbsODb/M/SEWWdb1PyT9IQ2dwWj71P2+hiF8avwhAyNjVsCKVBUBGxP7yC0cHQJr9ekl3Lvg/nHzjxsUl5j+e+0tEFB30P0aZIXJ7mfY/xAXiNhZUCkCg+Rw/sQvwP25N/WJcdQtA7AsaH1Jo2D+Y1MzNSZILQERFlnW9T+k/7LeOIpQe2z9KbBXsh9rxP59P10DSZgFAyCxhreDeAkCcJinFpMr0P5p+EswoN+o/bXja4+wiDEBCnX98QbzuP5xRBkY1ePU/7reOIpQe+z/IrfgvkucEQEpBOGv3LOE/lYBB0YtI7j9GxP7yC0cHQPA295/iFfk/7AsaH1Jo2D8ak+mJP4UIQJx848bFJQZAm6fAR1bT9j/ujLGhA3EKQKAk+r9BufA/nnq0wWIU8j9voYhfGr8IQB/lRYGavQFAygGELFAxAkBI7axuOePjP5XW+9Kso+8/GpPpiT+FCECc0p3I5oAHQPKKgpygXwZA7Lm9J/cv/z+U1vvSrKPfP+xjAybW1N0/lCqHz2rt3D+a/XpJdy4IQJTW+9Kso98/nKfAR1bTBkAcaAwJr9cHQJjSncjmgNc/mlM1S5iJCUBERZZ1vU8JQJ96tMFiFAJAmCqHz2rt/D/0iFOXPU4CQJunwEdW0/Y/Q8Yt+G5YC0BERZZ1vU/ZP5p+EswoN+o/mFVkUPua/T9CR8V6IGHtP0PxCnn/BQxA8gnrGe9WBECaUzVLmIkJQPQHvBSMReA/9Ae8FIxF8D9EcHP2Tf0JQPIJ6xnvVvQ/9Qe8FIxFAEBG79tznPQHQEKdf3xBvO4/REWWdb1P+T9KQThr9yzhPx8QIwIrawJAREWWdb1P+T9ERZZ1vU8JQHIg8dxotgZAlNb70qyj3z9CR8V6IGH9P/IJ6xnvVgRARJkhcnuZ1j/0iFOXPU7yP2+hiF8avwhAQhzo+Y+z/D9wdqveiREIQPCzMBjO+9I/SEWWdb1PyT9yIPHcaLYGQELxCnn/Bfw/RJtQd96q+j+Yqe9MueT6P25N/WJcdQtARu/bc5z0B0CcJinFpMoEQHTz5FZ19wFAxlltM9SdB0CaKFjKB9wIQOxjAybW1N0/8gnrGe9W9D9yIPHcaLYGQJooWMoH3Og/dZ0qVVScAEBy9RNc2AgGQERFlnW9T+k/m6fAR1bT9j8Z6aOLYOAJQJ77S0QUHfQ/ILpoAAoQAUDwCxofUmj4P2+hiF8avwhARe/bc5z09z/yCesZ71b0P57QbsODb+M/8t4NmV6p8z/ILGGt4N4CQEjtrG454+M/Se2sbjnjA0AAYKUbELKlP5wmKcWkyvQ/mn4SzCg3+j/wX6UbELLVP5jSncjmgNc/RO2sbjnj0z+cJinFpMr0P8it+C+S5wRARm5E8errBUDujLGhA3H6P0Kdf3xBvO4/9DKZlRzz8D+g+Rw/sQvwP5XW+9Kso+8/OJ1/fEG8zj+aKFjKB9zoP+wLGh9SaNg/gCqHz2rtnD+g+Rw/sQvwP0jtrG454/M/mX4SzCg3CkAgj4t/eWIAQG/MZeCqbAlAytamq7+DAUBC8Qp5/wX8P0jtrG4548M/oCqHz2rtvD9KQThr9yzhP0xBOGv3LNE/nHzjxsUl5j9CR8V6IGH9P+4NSSS1efw/ntBuw4Nv8z+fpZFC88ECQJx848bFJfY/mihYygfc6D/JVz4ucYwDQMNbnDg3rwtAm9KdyOaA9z9IQ2dwWj71P0iX8mwYiAJAREWWdb1P6T90SZ9YllIDQJxRBkY1eAVAmihYygfcCECWqx5SHPb+P3BLzl35YwdAHpG6hNxzBEBI7axuOePzP+wLGh9SaNg/mNTMzUmS6z8caAwJr9cHQJaAQdGLSP4/n6WRQvPBAkCcp8BHVtMGQMgsYa3g3gJAmv16SXcuCEBE7axuOePTP5pTNUuYiQlAxi6QskPwBkCaUzVLmIkJQHKfWVq3rQRA7Lm9J/cv7z9ERZZ1vU/ZP5Qqh89q7dw/mP+pTto//D+cfOPGxSX2P0iX8mwYiAJA7g1JJLV5/D9A8Qp5/wXcP5Qqh89q7dw/niT6v0G54D/yCesZ71YEQKD5HD+xC/A/nCYpxaTK1D9yyjbbR1sFQESZIXJ7mdY/GT9ejYE7C0CYVWRQ+5r9P5TW+9Kso98/RsT+8gtHB0AgumgAChABQB8QIwIrawJAxoRKtGRLCEDwNvef4hX5P5wmKcWkyvQ/yNjVsCKVBUCgJPq/QbnwP0iX8mwYiPI/nFEGRjV49T+a/XpJdy4IQHL1E1zYCAZASxZb6mZ/8D/0B7wUjEXgP5x848bFJfY/9V12Fq2gAUAeOwCDuxgDQEaZIXJ7meY/QvEKef8F7D/EBeI2FlQKQPFfpRsQsvU/SmwV7Ifa8T/ujLGhA3H6P0LxCnn/Bew/8LVfHTEN9z/0B7wUjEXgP5XW+9Kso+8/8OA8nsG69z/IrfgvkucEQPFfpRsQsvU/Qp1/fEG8/j8cPS+IHioHQESbUHfequo/Ru/bc5z05z+fpZFC88ECQMqrySov1gBAlqseUhz2/j9IGIrvyZD0P5xRBkY1eAVAHpG6hNxzBEBIl/JsGIjiP5r9ekl3Lvg/8Db3n+IV+T9CHOj5j7P8P0Rwc/ZN/fk/mP+pTto//D/GLpCyQ/AGQEZuRPHq6/U/SkE4a/csAUBEm1B33qoKQEiX8mwYiAJA7GMDJtbU3T9LFlvqZn8AQHQewtcFpQJATEE4a/cs0T/wX6UbELLFP0TtrG4549M/wzC/t6YBC0Ca0p3I5oDnP/C1Xx0xDec/mv16SXcuCEBIQ2dwWj4FQB47AIO7GANA8OA8nsG69z+gKofPau28P3BLzl35YwdAxoRKtGRLCEDut44ilB77P8oBhCxQMQJAoCT6v0G58D/sjuCmZoL+P57QbsODbwNA9F12Fq2g4T9CcqL7sA7+P0ZuRPHq6wVAmKnvTLnk+j/0XXYWraDhP0psFeyH2gFAHxAjAitrAkCc0p3I5oAHQMiCG68BOgRAdB7C1wWlAkBExi34blj7P3Ig8dxotgZAn0/XQNJmAUDuYdQgc8PpP0sWW+pmf/A/GRSBDPGNCkCWqx5SHPb+P/FfpRsQsvU/9V12Fq2gAUBExi34blj7P/DgPJ7BugdAnNKdyOaAB0ByIPHcaLYGQPJfpRsQsuU/8jTImn8E9T+cerTBYhTSP5ynwEdW0wZA9Qe8FIxFAEDyX6UbELIFQEaZIXJ7mfY/ltb70qyj/z/y3g2ZXqnzP/LeDZleqQNAQvEKef8F7D9KQThr9yzhP2/MZeCqbAlA8AsaH1JoCEDGWW0z1J0HQBw9L4geKgdASBiK78mQBEBvoYhfGr8IQEbv23Oc9Oc/Gemji2DgCUDIghuvAToEQPUymZUc8wBARJtQd96q6j8ak+mJP4UIQHXIB9bkSQFASkE4a/csAUAak+mJP4UIQECdf3xBvN4/REWWdb1P6T/u4mujJMz7P+6MsaEDcfo/mCqHz2rt/D+YfhLMKDfaP/KKgpygXwZASkE4a/cs8T/vYdQgc8MJQPDgPJ7BugdAmCqHz2rtzD+g0p3I5oDHPx/lRYGavQFATEE4a/cs0T/LgOypnigAQJx6tMFiFNI/7reOIpQe+z+gJPq/QbkAQJ77S0QUHfQ/lNb70qyj3z8caAwJr9cHQDidf3xBvM4/mP+pTto//D9voYhfGr8IQJXW+9Kso+8/mlM1S5iJ+T+bp8BHVtP2P/BfpRsQssU/GpPpiT+FCECcUQZGNXgFQPBfpRsQstU/7GMDJtbU3T8AYKUbELKlP5vSncjmgPc/xAXiNhZUCkDw4Dyewbr3P5jSncjmgNc/ntBuw4Nv8z/w4Dyewbr3P0jtrG454+M/oNKdyOaAxz9KbBXsh9rxP+yO4KZmgv4/7reOIpQeC0Dut44ilB77P+xjAybW1N0/RsT+8gtH9z9ydHzZJgAEQJjUzM1Jkvs/nqWRQvPB8j/sCxofUmjYP0Rwc/ZN/fk/8F+lGxCy1T/yNMiafwT1P5h+EswoN9o/HjsAg7sYA0Ac53SG/c4FQJjUzM1Jkus/TEE4a/cs0T/y3g2ZXqnzP/JfpRsQsgVAm6fAR1bT9j9IGIrvyZD0P8TaBLaFpglAREWWdb1P+T9ERZZ1vU/5P/C1Xx0xDfc/SBiK78mQ9D9IGIrvyZAEQJXW+9Kso+8/nFEGRjV49T+g+Rw/sQvwP8uA7KmeKABA7reOIpQeC0BDxi34blgLQEiX8mwYiAJAHBJSB458BkCepZFC88HyP0RFlnW9T+k/9Qe8FIxFAEBD8Qp5/wUMQJ77S0QUHQRAScLP7ag1A0CaKFjKB9wIQPLeDZleqQNAHjsAg7sYA0BLFlvqZn/wP8Mwv7emAQtAmFVkUPua/T9Iws/tqDXzP/IJ6xnvVuQ/9Ae8FIxF4D9LFlvqZn/wP57QbsODbwNAcHar3okRCECaKFjKB9zoP5x6tMFiFNI/oCqHz2rtvD/GhEq0ZEsIQEbE/vILRwdA8oqCnKBfBkDsub0n9y//P25N/WJcdQtARHBz9k39+T+aKFjKB9wIQJQqh89q7dw/REWWdb1PCUBKQThr9yzxP/JfpRsQsgVAAAAAAAAAAADsub0n9y/vP5xRBkY1eAVAbk39Ylx1C0Ce0G7Dg2/jP0Rwc/ZN/fk/dZ0qVVScAEDEBeI2FlQKQMNbnDg3rwtAGRSBDPGNCkAcvJcFbSEFQJQqh89q7dw/ILpoAAoQAUBIQ2dwWj4FQMMwv7emAQtARm5E8errBUDsjuCmZoL+P/C1Xx0xDec/9IhTlz1O8j/uYdQgc8P5P6Aqh89q7aw/mihYygfcCED4B7wUjEXAP5gqh89q7fw/bk39Ylx1C0DujLGhA3EKQPSIU5c9TgJASxZb6mZ/AECcJinFpMr0P5WAQdGLSO4/Ru/bc5z0B0D0iFOXPU4CQPC1Xx0xDQdAxlltM9SdB0AeOwCDuxgDQEaZIXJ7mQZA9DKZlRzz8D9IQ2dwWj71P/IJ6xnvVuQ/7mHUIHPD6T+AKofPau2cP55P10DSZvE/nk/XQNJm8T84nX98QbzOP0aZIXJ7mQZA9F12Fq2g4T8ekbqE3HMEQJQqh89q7dw/QvEKef8F/D+cJinFpMoEQEpBOGv3LAFAygGELFAxAkCa0p3I5oDnP3BLzl35YwdAmanvTLnkCkD0XXYWraDhP+8295/iFQlA8YqCnKBf9j8eZt0DTMYDQEIc6PmPs/w/8oqCnKBfBkBI7axuOePDP/SIU5c9TvI/GRSBDPGNCkCe0G7Dg2/jP0Xv23Oc9Pc/n3q0wWIUAkBEcHP2Tf35P/C1Xx0xDec/OJ1/fEG8zj+YKofPau3sP0psFeyH2vE/m9KdyOaA9z+gJPq/QbnwP/gHvBSMRcA/9LMwGM77AkDwX6UbELLFP8YukLJD8AZAOJ1/fEG8zj+Wqx5SHPb+Pxk/Xo2BOwtA7oyxoQNxCkD4B7wUjEXQP0jtrG4548M/xNoEtoWmCUB0HsLXBaUCQMuA7KmeKABAmv16SXcu+D9CHOj5j7P8P0aZIXJ7mfY/RJkhcnuZ1j90HsLXBaUCQERFlnW9T9k/REWWdb1PCUCc0p3I5oAHQG/3QmE7GgpAQvEKef8F7D9FGrn0LKL4P+63jiKUHvs/OJ1/fEG8zj/DW5w4N68LQJ7QbsODbwNAmlM1S5iJ+T9CnX98QbzuP/SzMBjO+/I/8l+lGxCy5T9GQ2dwWj7lP0ZDZ3BaPuU/dcgH1uRJAUCgJPq/QbnwP5mp70y55ApA8LVfHTENB0CeerTBYhTiP5zSncjmgAdAntBuw4Nv8z/uYdQgc8PpP5r9ekl3LghA8OA8nsG69z/s5Jqoh93/P59P10DSZgFAH+VFgZq9AUBKQThr9yzhP/gHvBSMRdA/mlM1S5iJCUCcJinFpMr0P3Ig8dxotgZAw1ucODevC0CafhLMKDf6P+y5vSf3L/8/nvtLRBQd9D+eerTBYhTiP5bW+9Kso/8/9TKZlRzzAEDyCesZ71YEQPKKgpygXwZAH+VFgZq9AUBGbkTx6uv1P+y5vSf3L+8/7reOIpQe+z/0XXYWraDxP0Ic6PmPs/w/nk/XQNJm8T9F79tznPT3Pxnpo4tg4AlAGemji2DgCUCY1MzNSZL7P/KzMBjO++I/7zb3n+IVCUDKq8kqL9YAQBy8lwVtIQVASJfybBiI4j+eerTBYhTyP+y5vSf3L+8/ltb70qyj/z9teNrj7CIMQMuA7KmeKABAnFEGRjV4BUDuDUkktXnsP/DgPJ7BugdA7reOIpQeC0Dw4Dyewbr3P6B6tMFiFMI/8gnrGe9W5D/st44ilB7bP8jY1bAilQVAytamq7+DAUBIGIrvyZAEQJgqh89q7ew/oHq0wWIUwj8ekbqE3HMEQPDgPJ7BugdARpkhcnuZ9j+cfOPGxSUGQELxCnn/Bfw/Q/EKef8FDEB0SZ9YllIDQEaZIXJ7mQZARm5E8errBUBG79tznPTnP0pBOGv3LAFARRq59Cyi+D9GGrn0LKIIQEsWW+pmf/A/nqWRQvPB8j/yszAYzvviP8NbnDg3rwtAmH4SzCg32j/u4mujJMwLQHJ0fNkmAARARO2sbjnj0z9KQThr9yzhP0iX8mwYiPI/QkfFeiBh7T9uTf1iXHULQHXIB9bkSQFATEE4a/cs0T+YVWRQ+5r9P0RFlnW9TwlAm9KdyOaA9z/ILGGt4N4CQBzndIb9zgVAnCYpxaTK5D+a/XpJdy4IQERFlnW9T/k/mihYygfcCEBKbBXsh9rxP6D5HD+xCwBASENncFo+9T+afhLMKDfqP+63jiKUHvs/nCYpxaTK5D+Y1MzNSZLrP3BLzl35YwdA7mHUIHPD6T/y3g2ZXqkDQEbv23Oc9Oc/7g1JJLV57D/ujLGhA3H6P54k+r9BueA/7AsaH1Jo2D9yyjbbR1sFQPFfpRsQsvU/8YqCnKBf9j8avsYK0DIJQEZuRPHq6wVA7reOIpQe+z/s5Jqoh93/P577S0QUHfQ/HmbdA0zGA0Ce0G7Dg28DQPUHvBSMRQBASEWWdb1PyT+UKofPau3cP6B6tMFiFMI/8gnrGe9WBECYqe9MueT6P8Mwv7emAQtARpkhcnuZBkDwNvef4hX5P0psFeyH2vE/RpkhcnuZ5j+afhLMKDfqP0JyovuwDv4/AGClGxCypT9I7axuOePDP0Rwc/ZN/fk/8Db3n+IV+T+bp8BHVtP2P0bE/vILRwdASe2sbjnjA0DsCxofUmjYP8qrySov1gBA8V+lGxCy9T+a0p3I5oDnPx/lRYGavQFAmNTMzUmSC0CW1vvSrKP/P0UaufQsovg/oNKdyOaAxz/0B7wUjEXgP+4NSSS1efw/Gr7GCtAyCUBIl/JsGIgCQEaZIXJ7meY/HmbdA0zGA0BERZZ1vU8JQKAqh89q7bw/mNTMzUmS6z9KQThr9yzhP5x848bFJQZAGr7GCtAyCUBAyFz90Wn/P0bv23Oc9AdASJfybBiIAkBIl/JsGIgCQCCPi395YgBAoNKdyOaAxz/ujLGhA3EKQHIg8dxotgZAnKfAR1bTBkAZP16NgTsLQEiX8mwYiPI/bXja4+wiDED0MpmVHPPwP5pTNUuYifk/cnR82SYABED0XXYWraDhP5WAQdGLSO4/SBiK78mQBECY1MzNSZILQHKfWVq3rQRA8AsaH1JoCED4B7wUjEXAP/UHvBSMRQBAdEmfWJZSA0AeOwCDuxgDQPC1Xx0xDec/xoRKtGRLCEDwCxofUmgIQJ9P10DSZgFAmv16SXcu+D9GxP7yC0cHQJp+EswoN/o/RsT+8gtHB0BExi34blj7PyCPi395YgBAHLyXBW0hBUDsYwMm1tTtP0LxCnn/Bew/yCxhreDeAkBERZZ1vU/5P2/MZeCqbAlA8oqCnKBfBkDGhEq0ZEsIQEnCz+2oNQNAGpPpiT+FCECgJPq/QbkAQKD5HD+xCwBARhq59CyiCECgKofPau2sP+63jiKUHvs/Rhq59CyiCECcfOPGxSXmP+63jiKUHgtAyK34L5LnBEDI2NWwIpUFQJ+lkULzwQJAREWWdb1P+T9EcHP2Tf35P/DgPJ7BugdAlNb70qyj3z+YVWRQ+5r9P55P10DSZvE/7uJroyTMC0CAKofPau2MP5gqh89q7cw/Q8Yt+G5YC0BCnX98Qbz+P5TW+9Kso98/REWWdb1P+T/0iFOXPU7yP+9h1CBzwwlAntBuw4NvA0BAnX98QbzeP5+lkULzwQJASBiK78mQBEDs5Jqoh93/Pxk/Xo2BOwtARJtQd96qCkDwtV8dMQ3nP5+lkULzwQJAmKnvTLnk+j/0szAYzvvyP8NbnDg3rwtAxAXiNhZUCkCY/6lO2j/8P57QbsODb+M/manvTLnkCkCg+Rw/sQvwP/JfpRsQsuU/8LeOIpQeyz/sub0n9y//P24iIOLLxwpA7LeOIpQe2z9CnX98QbzuP5+lkULzwQJAlqseUhz2/j/wX6UbELLVP/A295/iFfk/OJ1/fEG8zj9wdqveiREIQOwLGh9SaNg/RJtQd96q+j+YKofPau38P0JyovuwDv4/SkE4a/csAUAeZt0DTMYDQHXIB9bkSQFAnCYpxaTK5D+c0p3I5oAHQB/lRYGavQFAw1ucODevC0CcJinFpMrUP57QbsODb+M/8F+lGxCyxT/IrfgvkucEQJQqh89q7dw/n6WRQvPBAkBAyFz90Wn/P0psFeyH2gFAQhzo+Y+z/D8AYKUbELKlP+4NSSS1eew/xq8nNfX4CECZfhLMKDcKQPBfpRsQstU/manvTLnkCkD0szAYzvsCQG/3QmE7GgpARpkhcnuZ9j9KQThr9yzxP57QbsODbwNAHBJSB458BkCY1MzNSZL7P5gqh89q7cw/8AsaH1JoCEAZ6aOLYOAJQJx6tMFiFNI/nqWRQvPB8j8eOwCDuxgDQEsWW+pmf/A/8OA8nsG6B0AYajsOEukLQJXW+9Kso+8/8gnrGe9W9D9Dxi34blgLQPIJ6xnvVvQ/8l+lGxCyBUCaKFjKB9z4P/I0yJp/BPU/cvUTXNgIBkD0XXYWraDxPx5m3QNMxgNAb8xl4KpsCUCcJinFpMrkP5xRBkY1ePU/y4DsqZ4oAEBCnX98Qbz+P0psFeyH2vE/SEWWdb1PyT8gumgAChABQJjUzM1JkgtASO2sbjnj8z/ILGGt4N4CQKB6tMFiFMI/SmwV7IfaAUBCnX98Qbz+P5j/qU7aP/w/7Lm9J/cv/z9EcHP2Tf35P8lXPi5xjANARkNncFo+5T9IGIrvyZD0P5pTNUuYifk/HD0viB4qB0CZfhLMKDcKQEhDZ3BaPgVAmX4SzCg3CkCaKFjKB9z4P/KzMBjO++I/RO2sbjnj0z+aKFjKB9zoP0JyovuwDv4/QJ1/fEG83j+Zqe9MueQKQJzSncjmgAdAHD0viB4qB0Ce+0tEFB0EQEbE/vILRwdAxq8nNfX4CEDEBeI2FlQKQPRddhatoPE/lYBB0YtI7j/xioKcoF/2P5p+EswoN/o/mn4SzCg36j9E7axuOePTP0iX8mwYiAJASO2sbjnj4z8Z6aOLYOAJQPQHvBSMRfA/nHzjxsUl5j+cfOPGxSXmP/QHvBSMRfA/dcgH1uRJAUCY1MzNSZL7P/UymZUc8wBAHGgMCa/XB0D0szAYzvvyP/IJ6xnvVuQ/8AsaH1Jo+D+eerTBYhTyPxqT6Yk/hQhAHxAjAitrAkDIghuvAToEQB/lRYGavQFA7uJroyTM+z+epZFC88HyP6DSncjmgMc/Qp1/fEG8/j/yCesZ71b0P6Ak+r9BuQBAmCqHz2rt/D/sub0n9y/vP+yO4KZmgv4/nFEGRjV49T9EcHP2Tf0JQEhDZ3BaPvU/oHq0wWIUwj/I2NWwIpUFQBk/Xo2BOwtAbk39Ylx1C0CfT9dA0mYBQEbv23Oc9AdARJtQd96q+j/1XXYWraABQPDgPJ7BugdAnCYpxaTK5D9vzGXgqmwJQMgsYa3g3gJAbiIg4svHCkCeerTBYhTyP0gYiu/JkPQ/RHBz9k39+T+Zqe9MueQKQJjUzM1Jkus/mihYygfc6D9Jws/tqDUDQEsWW+pmf/A/lCqHz2rt3D9IQ2dwWj71P5WAQdGLSO4/RsT+8gtH9z/DML+3pgELQPDgPJ7BugdAoCT6v0G58D+gJPq/QbkAQEhFlnW9T8k/SkE4a/cs4T+cfOPGxSX2PxwSUgeOfAZARhq59CyiCEDwCxofUmgIQEhDZ3BaPvU/7zb3n+IVCUDvNvef4hUJQKDSncjmgMc/y4DsqZ4oAEDuDUkktXn8PxzndIb9zgVAnHzjxsUl5j/y3g2ZXqkDQMit+C+S5wRA8AsaH1Jo+D/DW5w4N68LQHWdKlVUnABAoCT6v0G58D/GWW0z1J0HQEPxCnn/BQxA8jTImn8EBUDwt44ilB7LP6DSncjmgMc/7uJroyTM+z8eOwCDuxgDQKAqh89q7aw/bk39Ylx1C0CaKFjKB9wIQPC1Xx0xDQdAxi6QskPwBkDGWW0z1J0HQEUaufQsovg/8oqCnKBfBkBG79tznPQHQJ9P10DSZgFA8gnrGe9W9D+Y1MzNSZLrPxk/Xo2BOwtAn6WRQvPBAkBGmSFye5n2P+y5vSf3L/8/nCYpxaTKBEAcElIHjnwGQJjUzM1JkgtAmtKdyOaA5z/uDUkktXn8P5wmKcWkytQ/8LMwGM770j+Y0p3I5oDXP0JHxXogYe0/8t4NmV6pA0DGhEq0ZEsIQEUaufQsovg/QMhc/dFp/z+a0p3I5oDnP+8295/iFQlARMYt+G5Y+z+AKofPau2MP5aAQdGLSP4/QvEKef8F/D9v90JhOxoKQPgHvBSMRcA/niT6v0G54D+cfOPGxSXmP6D5HD+xC/A/8LVfHTEN5z/sOCalRSf9P5jUzM1JkgtAxoRKtGRLCEBCnX98QbzuP/SzMBjO+/I/mNTMzUmS6z+ZfhLMKDcKQB8QIwIrawJAQkfFeiBh/T9CHOj5j7P8P0iX8mwYiOI/Gemji2DgCUCZqe9MueQKQEsWW+pmf/A/QkfFeiBh/T+Y1MzNSZL7P6B6tMFiFLI/nNKdyOaAB0AcvJcFbSEFQJip70y55Po/lYBB0YtI7j908+RWdfcBQJTW+9Kso98/bXja4+wiDEBA8Qp5/wXcP/C3jiKUHss/dcgH1uRJAUCafhLMKDf6P/IJ6xnvVgRAlCqHz2rt3D9IGIrvyZD0P5j/qU7aP/w/REWWdb1P+T9LFlvqZn8AQO4NSSS1efw/QMhc/dFp/z+aKFjKB9wIQMuA7KmeKABAlqseUhz2/j/GLpCyQ/AGQJgqh89q7cw/9IhTlz1OAkDGLpCyQ/AGQPBfpRsQstU/xi6QskPwBkBC8Qp5/wXsP5gqh89q7fw/ILpoAAoQAUD1MpmVHPMAQEDxCnn/Bdw/yCxhreDeAkCa/XpJdy74P0nCz+2oNQNAoCT6v0G58D+VgEHRi0juP5wmKcWkyuQ/7reOIpQe6z+g+Rw/sQsAQHL1E1zYCAZA9Ae8FIxF8D/yszAYzvviP0RFlnW9T/k/xgOzMbNCBkDvYdQgc8MJQELxCnn/Bew/nFEGRjV4BUDujLGhA3H6P+wLGh9SaNg/ldb70qyj7z/GhEq0ZEsIQIAqh89q7Yw/cso220dbBUDGLpCyQ/AGQOy3jiKUHts/GT9ejYE7C0DyCesZ71bkP+63jiKUHus/HD0viB4qB0CWqx5SHPb+P2/3QmE7GgpAw1ucODevC0Ce0G7Dg2/zP/BfpRsQstU/Se2sbjnjA0BIl/JsGIjiP+7ia6MkzAtAnHzjxsUl5j9E7axuOePTP0LxCnn/Bfw/ciDx3Gi2BkCe+0tEFB30P56lkULzwfI/nHzjxsUl5j8YajsOEukLQMgsYa3g3gJAREWWdb1P+T/wX6UbELLVP0DIXP3Raf8/ntBuw4Nv8z/ut44ilB4LQJx848bFJfY/mn4SzCg36j/0XXYWraDxP556tMFiFPI/8Db3n+IV+T/JVz4ucYwDQPDgPJ7BugdA7mHUIHPD6T9IGIrvyZD0P0LxCnn/Bfw/8F+lGxCytT/y3g2ZXqkDQOzkmqiH3f8/7GMDJtbU3T/sYwMm1tTdP0RFlnW9TwlAdEmfWJZSA0BGbkTx6uv1P0jCz+2oNfM/SmwV7Ifa8T9Il/JsGIgCQPIJ6xnvVuQ/GGo7DhLpC0CUKofPau3cP5TW+9Kso98/9IhTlz1OAkDxX6UbELL1P5aAQdGLSP4/mCqHz2rt7D/sub0n9y//P/DgPJ7Buvc/Gr7GCtAyCUDIrfgvkucEQMrWpqu/gwFAoHq0wWIUwj+g+Rw/sQsAQEJHxXogYe0/oCT6v0G5AEDwtV8dMQ0HQOyO4KZmgv4/Rm5E8errBUBGxP7yC0f3P3WdKlVUnABARe/bc5z09z/yszAYzvviP/UymZUc8wBAw1ucODevC0DI2NWwIpUFQJ56tMFiFPI/8AsaH1JoCEBERZZ1vU8JQEjtrG454+M/oNKdyOaAxz/LgOypnigAQJip70y55Po/yIIbrwE6BEBLFlvqZn/wP5xRBkY1ePU/7GMDJtbU7T9LFlvqZn/wP4Aqh89q7Zw/mCqHz2rt/D+e+0tEFB30P+yO4KZmgv4/nHzjxsUl9j/wCxofUmj4PwAAAAAAAAAAOJ1/fEG8zj9KQThr9yzhP5wmKcWkyuQ/mlM1S5iJ+T9voYhfGr8IQPC1Xx0xDfc/H+VFgZq9AUCa/XpJdy4IQPC1Xx0xDQdA7GMDJtbU7T+YKofPau3sPyC6aAAKEAFAmlM1S5iJCUBG79tznPTnP8rWpqu/gwFA9TKZlRzzAEB0HsLXBaUCQG4iIOLLxwpASJfybBiI4j9Il/JsGIgCQJwmKcWkyuQ/SmwV7Ifa8T9GbkTx6uv1P8ZZbTPUnQdAcp9ZWretBEDsCxofUmjYP/LeDZleqQNA7Lm9J/cv/z9EcHP2Tf0JQOy3jiKUHts/7LeOIpQe2z9GxP7yC0cHQETGLfhuWPs/HGgMCa/XB0CcfOPGxSX2P5pTNUuYifk/nqWRQvPB8j+Zqe9MueQKQJp+EswoN/o/cso220dbBUDy3g2ZXqkDQO9h1CBzwwlAQp1/fEG8/j+a/XpJdy4IQJzSncjmgAdAytamq7+DAUDGA7Mxs0IGQMTaBLaFpglAQhzo+Y+z/D9IQ2dwWj4FQEPGLfhuWAtAcEvOXfljB0Ca/XpJdy4IQPC1Xx0xDfc/nCYpxaTK1D9Dxi34blgLQPLeDZleqQNAntBuw4Nv4z9uTf1iXHULQMiCG68BOgRAnCYpxaTK1D+e0G7Dg2/jP/ALGh9SaAhAmanvTLnkCkBGxP7yC0f3P/GKgpygX/Y/xlltM9SdB0CaUzVLmIn5P0hDZ3BaPvU/ytamq7+DAUDu4mujJMz7P0JyovuwDv4/8LVfHTEN9z9v90JhOxoKQBzndIb9zgVA9DKZlRzz8D9ERZZ1vU/ZP0pBOGv3LAFAcnR82SYABEBKbBXsh9oBQJaAQdGLSP4/7I7gpmaC/j/wCxofUmgIQJwmKcWkytQ/9F12Fq2g4T/GLpCyQ/AGQEpBOGv3LPE/HOd0hv3OBUBI7axuOePzP2/3QmE7GgpAldb70qyj7z+a/XpJdy74P556tMFiFOI/yCxhreDeAkCbp8BHVtP2PxkUgQzxjQpARm5E8err9T/wX6UbELK1P0iX8mwYiPI/nFEGRjV49T9CR8V6IGHtP5gqh89q7ew/QkfFeiBh7T+VgEHRi0juP6D5HD+xC/A/cHar3okRCECgerTBYhTCP5XW+9Kso+8/QEWWdb1PuT9I7axuOePjPxkUgQzxjQpAbXja4+wiDEBC8Qp5/wXsP0RFlnW9T+k/xlltM9SdB0AZ6aOLYOAJQB8QIwIrawJA7oyxoQNxCkCZqe9MueQKQJxRBkY1eAVA8t4NmV6p8z+eJPq/QbngP/QHvBSMRfA/7LeOIpQe2z/ut44ilB77P3QewtcFpQJAmihYygfc6D8ak+mJP4UIQJwmKcWkyuQ/bXja4+wiDEBAyFz90Wn/P54k+r9BueA/xlltM9SdB0BGQ2dwWj7lP0Cdf3xBvN4/7Lm9J/cv/z+aKFjKB9wIQERFlnW9TwlAnHzjxsUlBkAgj4t/eWIAQOxjAybW1P0/8jTImn8E9T/EBeI2FlQKQJ6lkULzwfI/RJkhcnuZ1j9GGrn0LKIIQMjY1bAilQVAnNKdyOaAB0AfECMCK2sCQJmp70y55ApA72HUIHPDCUCY0p3I5oDXP59P10DSZgFASmwV7Ifa8T+bp8BHVtP2P/SzMBjO+/I/b/dCYTsaCkCeerTBYhTyP0YaufQsoghAcp9ZWretBEDILGGt4N4CQPA295/iFfk/8LVfHTENB0Du4mujJMz7P0Cdf3xBvN4/ldb70qyj7z+cJinFpMrkP6D5HD+xCwBASJfybBiIAkD0szAYzvvyP6B6tMFiFMI/dB7C1wWlAkDvNvef4hUJQJzSncjmgAdAnCYpxaTK9D/yNMiafwQFQETtrG4549M/QvEKef8F/D91nSpVVJwAQPJfpRsQsgVAoCT6v0G58D9CnX98Qbz+P0SbUHfeqvo/9LMwGM77AkDyX6UbELIFQELxCnn/Bfw/8AsaH1Jo+D/GWW0z1J0HQJp+EswoN/o/cso220dbBUAekbqE3HMEQKAqh89q7aw/8gnrGe9W5D/sub0n9y/vP0bE/vILRwdAxAXiNhZUCkD0iFOXPU4CQJj/qU7aP/w/xoRKtGRLCECYKofPau3MP3L1E1zYCAZASJfybBiIAkDujLGhA3H6P0bv23Oc9AdARu/bc5z0B0AeZt0DTMYDQESbUHfeqgpAmlM1S5iJ+T9IGIrvyZAEQJzSncjmgAdAdPPkVnX3AUDsub0n9y//P3KfWVq3rQRAnvtLRBQd9D+cJinFpMr0P5jUzM1JkgtA8OA8nsG6B0DGA7Mxs0IGQEhFlnW9T8k/Se2sbjnjA0CcJinFpMrUP0bv23Oc9Oc/7reOIpQeC0BIRZZ1vU/JP0JHxXogYf0/mtKdyOaA5z+a/XpJdy74P0SZIXJ7mdY/8F+lGxCy1T/uDUkktXn8P/SzMBjO+/I/9F12Fq2g4T8gj4t/eWIAQJgqh89q7cw/SENncFo+BUCg0p3I5oDHP25N/WJcdQtAnCYpxaTKBEBERZZ1vU8JQJooWMoH3Pg/8LeOIpQeyz/uYdQgc8PpP25N/WJcdQtAytamq7+DAUDuYdQgc8PpP0TGLfhuWPs/SmwV7Ifa8T+Y1MzNSZL7P8ZZbTPUnQdAREWWdb1P6T9GmSFye5n2P0RFlnW9T/k/dZ0qVVScAECa0p3I5oDnP/GKgpygX/Y/nKfAR1bTBkBGQ2dwWj7lP5ooWMoH3AhA7g1JJLV57D/wtV8dMQ33P+y5vSf3L/8/mKnvTLnk+j8AAAAAAAAAAPKKgpygXwZA8Db3n+IV+T9Dxi34blgLQA==",
          "dtype": "f8"
         },
         "z": {
          "bdata": "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",
          "dtype": "f8"
         }
        }
       ],
       "layout": {
        "coloraxis": {
         "colorbar": {
          "title": {
           "text": "Cluster"
          }
         },
         "colorscale": [
          [
           0,
           "#440154"
          ],
          [
           0.1111111111111111,
           "#482878"
          ],
          [
           0.2222222222222222,
           "#3e4989"
          ],
          [
           0.3333333333333333,
           "#31688e"
          ],
          [
           0.4444444444444444,
           "#26828e"
          ],
          [
           0.5555555555555556,
           "#1f9e89"
          ],
          [
           0.6666666666666666,
           "#35b779"
          ],
          [
           0.7777777777777778,
           "#6ece58"
          ],
          [
           0.8888888888888888,
           "#b5de2b"
          ],
          [
           1,
           "#fde725"
          ]
         ]
        },
        "legend": {
         "tracegroupgap": 0
        },
        "scene": {
         "domain": {
          "x": [
           0,
           1
          ],
          "y": [
           0,
           1
          ]
         },
         "xaxis": {
          "title": {
           "text": "Total Score"
          }
         },
         "yaxis": {
          "title": {
           "text": "Study_Hours_per_Week"
          }
         },
         "zaxis": {
          "title": {
           "text": "Attendance (%)"
          }
         }
        },
        "template": {
         "data": {
          "bar": [
           {
            "error_x": {
             "color": "#2a3f5f"
            },
            "error_y": {
             "color": "#2a3f5f"
            },
            "marker": {
             "line": {
              "color": "#E5ECF6",
              "width": 0.5
             },
             "pattern": {
              "fillmode": "overlay",
              "size": 10,
              "solidity": 0.2
             }
            },
            "type": "bar"
           }
          ],
          "barpolar": [
           {
            "marker": {
             "line": {
              "color": "#E5ECF6",
              "width": 0.5
             },
             "pattern": {
              "fillmode": "overlay",
              "size": 10,
              "solidity": 0.2
             }
            },
            "type": "barpolar"
           }
          ],
          "carpet": [
           {
            "aaxis": {
             "endlinecolor": "#2a3f5f",
             "gridcolor": "white",
             "linecolor": "white",
             "minorgridcolor": "white",
             "startlinecolor": "#2a3f5f"
            },
            "baxis": {
             "endlinecolor": "#2a3f5f",
             "gridcolor": "white",
             "linecolor": "white",
             "minorgridcolor": "white",
             "startlinecolor": "#2a3f5f"
            },
            "type": "carpet"
           }
          ],
          "choropleth": [
           {
            "colorbar": {
             "outlinewidth": 0,
             "ticks": ""
            },
            "type": "choropleth"
           }
          ],
          "contour": [
           {
            "colorbar": {
             "outlinewidth": 0,
             "ticks": ""
            },
            "colorscale": [
             [
              0,
              "#0d0887"
             ],
             [
              0.1111111111111111,
              "#46039f"
             ],
             [
              0.2222222222222222,
              "#7201a8"
             ],
             [
              0.3333333333333333,
              "#9c179e"
             ],
             [
              0.4444444444444444,
              "#bd3786"
             ],
             [
              0.5555555555555556,
              "#d8576b"
             ],
             [
              0.6666666666666666,
              "#ed7953"
             ],
             [
              0.7777777777777778,
              "#fb9f3a"
             ],
             [
              0.8888888888888888,
              "#fdca26"
             ],
             [
              1,
              "#f0f921"
             ]
            ],
            "type": "contour"
           }
          ],
          "contourcarpet": [
           {
            "colorbar": {
             "outlinewidth": 0,
             "ticks": ""
            },
            "type": "contourcarpet"
           }
          ],
          "heatmap": [
           {
            "colorbar": {
             "outlinewidth": 0,
             "ticks": ""
            },
            "colorscale": [
             [
              0,
              "#0d0887"
             ],
             [
              0.1111111111111111,
              "#46039f"
             ],
             [
              0.2222222222222222,
              "#7201a8"
             ],
             [
              0.3333333333333333,
              "#9c179e"
             ],
             [
              0.4444444444444444,
              "#bd3786"
             ],
             [
              0.5555555555555556,
              "#d8576b"
             ],
             [
              0.6666666666666666,
              "#ed7953"
             ],
             [
              0.7777777777777778,
              "#fb9f3a"
             ],
             [
              0.8888888888888888,
              "#fdca26"
             ],
             [
              1,
              "#f0f921"
             ]
            ],
            "type": "heatmap"
           }
          ],
          "histogram": [
           {
            "marker": {
             "pattern": {
              "fillmode": "overlay",
              "size": 10,
              "solidity": 0.2
             }
            },
            "type": "histogram"
           }
          ],
          "histogram2d": [
           {
            "colorbar": {
             "outlinewidth": 0,
             "ticks": ""
            },
            "colorscale": [
             [
              0,
              "#0d0887"
             ],
             [
              0.1111111111111111,
              "#46039f"
             ],
             [
              0.2222222222222222,
              "#7201a8"
             ],
             [
              0.3333333333333333,
              "#9c179e"
             ],
             [
              0.4444444444444444,
              "#bd3786"
             ],
             [
              0.5555555555555556,
              "#d8576b"
             ],
             [
              0.6666666666666666,
              "#ed7953"
             ],
             [
              0.7777777777777778,
              "#fb9f3a"
             ],
             [
              0.8888888888888888,
              "#fdca26"
             ],
             [
              1,
              "#f0f921"
             ]
            ],
            "type": "histogram2d"
           }
          ],
          "histogram2dcontour": [
           {
            "colorbar": {
             "outlinewidth": 0,
             "ticks": ""
            },
            "colorscale": [
             [
              0,
              "#0d0887"
             ],
             [
              0.1111111111111111,
              "#46039f"
             ],
             [
              0.2222222222222222,
              "#7201a8"
             ],
             [
              0.3333333333333333,
              "#9c179e"
             ],
             [
              0.4444444444444444,
              "#bd3786"
             ],
             [
              0.5555555555555556,
              "#d8576b"
             ],
             [
              0.6666666666666666,
              "#ed7953"
             ],
             [
              0.7777777777777778,
              "#fb9f3a"
             ],
             [
              0.8888888888888888,
              "#fdca26"
             ],
             [
              1,
              "#f0f921"
             ]
            ],
            "type": "histogram2dcontour"
           }
          ],
          "mesh3d": [
           {
            "colorbar": {
             "outlinewidth": 0,
             "ticks": ""
            },
            "type": "mesh3d"
           }
          ],
          "parcoords": [
           {
            "line": {
             "colorbar": {
              "outlinewidth": 0,
              "ticks": ""
             }
            },
            "type": "parcoords"
           }
          ],
          "pie": [
           {
            "automargin": true,
            "type": "pie"
           }
          ],
          "scatter": [
           {
            "fillpattern": {
             "fillmode": "overlay",
             "size": 10,
             "solidity": 0.2
            },
            "type": "scatter"
           }
          ],
          "scatter3d": [
           {
            "line": {
             "colorbar": {
              "outlinewidth": 0,
              "ticks": ""
             }
            },
            "marker": {
             "colorbar": {
              "outlinewidth": 0,
              "ticks": ""
             }
            },
            "type": "scatter3d"
           }
          ],
          "scattercarpet": [
           {
            "marker": {
             "colorbar": {
              "outlinewidth": 0,
              "ticks": ""
             }
            },
            "type": "scattercarpet"
           }
          ],
          "scattergeo": [
           {
            "marker": {
             "colorbar": {
              "outlinewidth": 0,
              "ticks": ""
             }
            },
            "type": "scattergeo"
           }
          ],
          "scattergl": [
           {
            "marker": {
             "colorbar": {
              "outlinewidth": 0,
              "ticks": ""
             }
            },
            "type": "scattergl"
           }
          ],
          "scattermap": [
           {
            "marker": {
             "colorbar": {
              "outlinewidth": 0,
              "ticks": ""
             }
            },
            "type": "scattermap"
           }
          ],
          "scattermapbox": [
           {
            "marker": {
             "colorbar": {
              "outlinewidth": 0,
              "ticks": ""
             }
            },
            "type": "scattermapbox"
           }
          ],
          "scatterpolar": [
           {
            "marker": {
             "colorbar": {
              "outlinewidth": 0,
              "ticks": ""
             }
            },
            "type": "scatterpolar"
           }
          ],
          "scatterpolargl": [
           {
            "marker": {
             "colorbar": {
              "outlinewidth": 0,
              "ticks": ""
             }
            },
            "type": "scatterpolargl"
           }
          ],
          "scatterternary": [
           {
            "marker": {
             "colorbar": {
              "outlinewidth": 0,
              "ticks": ""
             }
            },
            "type": "scatterternary"
           }
          ],
          "surface": [
           {
            "colorbar": {
             "outlinewidth": 0,
             "ticks": ""
            },
            "colorscale": [
             [
              0,
              "#0d0887"
             ],
             [
              0.1111111111111111,
              "#46039f"
             ],
             [
              0.2222222222222222,
              "#7201a8"
             ],
             [
              0.3333333333333333,
              "#9c179e"
             ],
             [
              0.4444444444444444,
              "#bd3786"
             ],
             [
              0.5555555555555556,
              "#d8576b"
             ],
             [
              0.6666666666666666,
              "#ed7953"
             ],
             [
              0.7777777777777778,
              "#fb9f3a"
             ],
             [
              0.8888888888888888,
              "#fdca26"
             ],
             [
              1,
              "#f0f921"
             ]
            ],
            "type": "surface"
           }
          ],
          "table": [
           {
            "cells": {
             "fill": {
              "color": "#EBF0F8"
             },
             "line": {
              "color": "white"
             }
            },
            "header": {
             "fill": {
              "color": "#C8D4E3"
             },
             "line": {
              "color": "white"
             }
            },
            "type": "table"
           }
          ]
         },
         "layout": {
          "annotationdefaults": {
           "arrowcolor": "#2a3f5f",
           "arrowhead": 0,
           "arrowwidth": 1
          },
          "autotypenumbers": "strict",
          "coloraxis": {
           "colorbar": {
            "outlinewidth": 0,
            "ticks": ""
           }
          },
          "colorscale": {
           "diverging": [
            [
             0,
             "#8e0152"
            ],
            [
             0.1,
             "#c51b7d"
            ],
            [
             0.2,
             "#de77ae"
            ],
            [
             0.3,
             "#f1b6da"
            ],
            [
             0.4,
             "#fde0ef"
            ],
            [
             0.5,
             "#f7f7f7"
            ],
            [
             0.6,
             "#e6f5d0"
            ],
            [
             0.7,
             "#b8e186"
            ],
            [
             0.8,
             "#7fbc41"
            ],
            [
             0.9,
             "#4d9221"
            ],
            [
             1,
             "#276419"
            ]
           ],
           "sequential": [
            [
             0,
             "#0d0887"
            ],
            [
             0.1111111111111111,
             "#46039f"
            ],
            [
             0.2222222222222222,
             "#7201a8"
            ],
            [
             0.3333333333333333,
             "#9c179e"
            ],
            [
             0.4444444444444444,
             "#bd3786"
            ],
            [
             0.5555555555555556,
             "#d8576b"
            ],
            [
             0.6666666666666666,
             "#ed7953"
            ],
            [
             0.7777777777777778,
             "#fb9f3a"
            ],
            [
             0.8888888888888888,
             "#fdca26"
            ],
            [
             1,
             "#f0f921"
            ]
           ],
           "sequentialminus": [
            [
             0,
             "#0d0887"
            ],
            [
             0.1111111111111111,
             "#46039f"
            ],
            [
             0.2222222222222222,
             "#7201a8"
            ],
            [
             0.3333333333333333,
             "#9c179e"
            ],
            [
             0.4444444444444444,
             "#bd3786"
            ],
            [
             0.5555555555555556,
             "#d8576b"
            ],
            [
             0.6666666666666666,
             "#ed7953"
            ],
            [
             0.7777777777777778,
             "#fb9f3a"
            ],
            [
             0.8888888888888888,
             "#fdca26"
            ],
            [
             1,
             "#f0f921"
            ]
           ]
          },
          "colorway": [
           "#636efa",
           "#EF553B",
           "#00cc96",
           "#ab63fa",
           "#FFA15A",
           "#19d3f3",
           "#FF6692",
           "#B6E880",
           "#FF97FF",
           "#FECB52"
          ],
          "font": {
           "color": "#2a3f5f"
          },
          "geo": {
           "bgcolor": "white",
           "lakecolor": "white",
           "landcolor": "#E5ECF6",
           "showlakes": true,
           "showland": true,
           "subunitcolor": "white"
          },
          "hoverlabel": {
           "align": "left"
          },
          "hovermode": "closest",
          "mapbox": {
           "style": "light"
          },
          "paper_bgcolor": "white",
          "plot_bgcolor": "#E5ECF6",
          "polar": {
           "angularaxis": {
            "gridcolor": "white",
            "linecolor": "white",
            "ticks": ""
           },
           "bgcolor": "#E5ECF6",
           "radialaxis": {
            "gridcolor": "white",
            "linecolor": "white",
            "ticks": ""
           }
          },
          "scene": {
           "xaxis": {
            "backgroundcolor": "#E5ECF6",
            "gridcolor": "white",
            "gridwidth": 2,
            "linecolor": "white",
            "showbackground": true,
            "ticks": "",
            "zerolinecolor": "white"
           },
           "yaxis": {
            "backgroundcolor": "#E5ECF6",
            "gridcolor": "white",
            "gridwidth": 2,
            "linecolor": "white",
            "showbackground": true,
            "ticks": "",
            "zerolinecolor": "white"
           },
           "zaxis": {
            "backgroundcolor": "#E5ECF6",
            "gridcolor": "white",
            "gridwidth": 2,
            "linecolor": "white",
            "showbackground": true,
            "ticks": "",
            "zerolinecolor": "white"
           }
          },
          "shapedefaults": {
           "line": {
            "color": "#2a3f5f"
           }
          },
          "ternary": {
           "aaxis": {
            "gridcolor": "white",
            "linecolor": "white",
            "ticks": ""
           },
           "baxis": {
            "gridcolor": "white",
            "linecolor": "white",
            "ticks": ""
           },
           "bgcolor": "#E5ECF6",
           "caxis": {
            "gridcolor": "white",
            "linecolor": "white",
            "ticks": ""
           }
          },
          "title": {
           "x": 0.05
          },
          "xaxis": {
           "automargin": true,
           "gridcolor": "white",
           "linecolor": "white",
           "ticks": "",
           "title": {
            "standoff": 15
           },
           "zerolinecolor": "white",
           "zerolinewidth": 2
          },
          "yaxis": {
           "automargin": true,
           "gridcolor": "white",
           "linecolor": "white",
           "ticks": "",
           "title": {
            "standoff": 15
           },
           "zerolinecolor": "white",
           "zerolinewidth": 2
          }
         }
        },
        "title": {
         "text": "Clusters en Datos Estandarizados"
        }
       }
      }
     },
     "metadata": {},
     "output_type": "display_data"
    }
   ],
   "source": [
    "# Visualización 3D de los clusters\n",
    "import plotly.express as px\n",
    "\n",
    "# Crear gráfico 3D para datos normalizados\n",
    "fig_normalizados = px.scatter_3d(\n",
    "    datos_normalizados_df,\n",
    "    x='Total_Score',\n",
    "    y='Study_Hours_per_Week',\n",
    "    z='Attendance (%)',\n",
    "    color='Cluster',\n",
    "    title='Clusters en Datos Normalizados',\n",
    "    labels={'Total_Score': 'Total Score', 'Study_Hours_per Week': 'Study Hours per Week', 'Attendance (%)': 'Attendance (%)'},\n",
    "    color_continuous_scale='Viridis'\n",
    ")\n",
    "fig_normalizados.show()\n",
    "\n",
    "# Crear gráfico 3D para datos estandarizados\n",
    "fig_estandarizados = px.scatter_3d(\n",
    "    datos_estandarizados_df,\n",
    "    x='Total_Score',\n",
    "    y='Study_Hours_per_Week',\n",
    "    z='Attendance (%)',\n",
    "    color='Cluster',\n",
    "    title='Clusters en Datos Estandarizados',\n",
    "    labels={'Total_Score': 'Total Score', 'Study_Hours_per Week': 'Study Hours per Week', 'Attendance (%)': 'Attendance (%)'},\n",
    "    color_continuous_scale='Viridis'\n",
    ")\n",
    "fig_estandarizados.show()"
   ]
  },
  {
   "cell_type": "markdown",
   "metadata": {},
   "source": [
    "Haciendo la comparacion de los gráficos, decidimos quedarnos con los datos estandarizados, pero en realidad no hay mucha diferencia entre los resultados, por lo que cualquiera de las 2 sirve.\n",
    "Detectamos 3 clusters, 0, 1 y 2, representados con morado, celeste y amarillo respectivamente. \n",
    "-Cluster 0: Estudiantes con pocas horas de estudio semanales\n",
    "-Cluster 1: Estudiantes con poca asistencia\n",
    "-Cluster 2: Estudiantes con alta asistencia y altas horas de estudio\n",
    "Todo esta asignacion de etiquetas se hizo en base a los resultados graficos y su interpretacion en el contexto del problema y sus variables"
   ]
  }
 ],
 "metadata": {
  "kernelspec": {
   "display_name": "Python 3",
   "language": "python",
   "name": "python3"
  },
  "language_info": {
   "codemirror_mode": {
    "name": "ipython",
    "version": 3
   },
   "file_extension": ".py",
   "mimetype": "text/x-python",
   "name": "python",
   "nbconvert_exporter": "python",
   "pygments_lexer": "ipython3",
   "version": "3.11.9"
  }
 },
 "nbformat": 4,
 "nbformat_minor": 2
}
