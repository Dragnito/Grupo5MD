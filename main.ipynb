{
 "cells": [
  {
   "cell_type": "code",
   "execution_count": 17,
   "metadata": {},
   "outputs": [],
   "source": [
    "# 1- Importar el archivo csv y extraer las variables Total_Score, Study_hours_per_Week y Attendance(%)\n",
    "# 2- Limpiar datos aplicando al menos un algoritmo de deteccion de outliers\n",
    "# 3- Normalizar/estandarizar datos\n",
    "# 4- Agrupamiento K-means\n",
    "# 5- Etiquetado y descripcion de clusters "
   ]
  },
  {
   "cell_type": "code",
   "execution_count": 18,
   "metadata": {},
   "outputs": [
    {
     "name": "stdout",
     "output_type": "stream",
     "text": [
      "5000\n"
     ]
    }
   ],
   "source": [
    "import pandas as pd\n",
    "datos = pd.read_csv(\"datos.csv\")\n",
    "\n",
    "datosR= datos[['Total_Score','Study_Hours_per_Week', 'Attendance (%)' ]]\n",
    "print(len(datosR))"
   ]
  },
  {
   "cell_type": "code",
   "execution_count": 19,
   "metadata": {},
   "outputs": [
    {
     "name": "stdout",
     "output_type": "stream",
     "text": [
      "Datos después de eliminar outliers:\n",
      "   Total_Score  Study_Hours_per_Week  Attendance (%)\n",
      "0        56.09                   6.2           52.29\n",
      "1        50.64                  19.0           97.27\n",
      "2        70.30                  20.7           57.19\n",
      "3        61.63                  24.8           95.15\n",
      "4        66.13                  15.4           54.18\n"
     ]
    }
   ],
   "source": [
    "# Limpieza de datos utilizando el algoritmo LOF (Local Outlier Factor)\n",
    "from sklearn.neighbors import LocalOutlierFactor\n",
    "\n",
    "# Manejar valores faltantes antes de aplicar LOF\n",
    "datosR_cleaned = datosR.dropna()  # Eliminar filas con valores faltantes\n",
    "\n",
    "# Aplicar LOF para detectar outliers\n",
    "lof = LocalOutlierFactor(n_neighbors=20, contamination=0.05)\n",
    "outlier_flags = lof.fit_predict(datosR_cleaned)\n",
    "\n",
    "# Filtrar los datos para eliminar los outliers\n",
    "datosR_sin_outliers = datosR_cleaned[outlier_flags == 1]\n",
    "\n",
    "# Mostrar los datos después de eliminar los outliers\n",
    "print(\"Datos después de eliminar outliers:\")\n",
    "print(datosR_sin_outliers.head())\n"
   ]
  },
  {
   "cell_type": "code",
   "execution_count": 20,
   "metadata": {},
   "outputs": [
    {
     "name": "stdout",
     "output_type": "stream",
     "text": [
      "Datos Normalizados:\n",
      "   Total_Score  Study_Hours_per_Week  Attendance (%)\n",
      "0     0.121473                 0.048        0.045609\n",
      "1     0.012407                 0.560        0.945389\n",
      "2     0.405844                 0.628        0.143629\n",
      "3     0.232339                 0.792        0.902981\n",
      "4     0.322393                 0.416        0.083417\n",
      "\n",
      "Datos Estandarizados:\n",
      "   Total_Score  Study_Hours_per_Week  Attendance (%)\n",
      "0    -1.342726             -1.624627       -1.642560\n",
      "1    -1.728976              0.183336        1.526550\n",
      "2    -0.335641              0.423456       -1.297326\n",
      "3    -0.950097              1.002569        1.377183\n",
      "4    -0.631175             -0.325154       -1.509398\n"
     ]
    }
   ],
   "source": [
    "#Normalizacion de los datos:\n",
    "#Si no tienen sklearn, Utilicen el comando\n",
    "#pip install scikit-learn\n",
    "\n",
    "from sklearn.preprocessing import MinMaxScaler, StandardScaler\n",
    "\n",
    "# Normalización (MinMaxScaler)\n",
    "scaler_minmax = MinMaxScaler()\n",
    "datos_normalizados = scaler_minmax.fit_transform(datosR_sin_outliers)\n",
    "\n",
    "# Convertir el resultado de la normalización a DataFrame\n",
    "datos_normalizados_df = pd.DataFrame(datos_normalizados, columns=['Total_Score', 'Study_Hours_per_Week', 'Attendance (%)'])\n",
    "\n",
    "# Estandarización (StandardScaler)\n",
    "scaler_standard = StandardScaler()\n",
    "datos_estandarizados = scaler_standard.fit_transform(datosR_sin_outliers)\n",
    "\n",
    "# Convertir el resultado de la estandarización a DataFrame\n",
    "datos_estandarizados_df = pd.DataFrame(datos_estandarizados, columns=['Total_Score', 'Study_Hours_per_Week', 'Attendance (%)'])\n",
    "\n",
    "# Mostrar resultados (Los primeros 4 datos)\n",
    "print(\"Datos Normalizados:\")\n",
    "print(datos_normalizados_df.head())\n",
    "\n",
    "print(\"\\nDatos Estandarizados:\")\n",
    "print(datos_estandarizados_df.head())\n",
    "\n",
    "#IMPORTANTEEEEEEEEEEEEEEEEEEEEEEEEEEEEEEEEEEEEEEEEEEEEEEEEEEEEEEEEEEEEEEEEEEEEEEEEEEEEEEEEEEEEEEEEEEEEEEEEEEEEEoeoeoeoeoepotoeoeoeo\n",
    "#Solo necesitamos los datos estandarizados O normalizados\n",
    "#Elegimos los datos normalizados para el algoritmo K-means ya que los estandarizados son menos interpretables al tener valores negativos dentro del rango"
   ]
  },
  {
   "cell_type": "code",
   "execution_count": null,
   "metadata": {},
   "outputs": [
    {
     "name": "stdout",
     "output_type": "stream",
     "text": [
      "Clusters para datos normalizados:\n",
      "   Total_Score  Study_Hours_per_Week  Attendance (%)  Cluster\n",
      "0     0.121473                 0.048        0.045609        1\n",
      "1     0.012407                 0.560        0.945389        2\n",
      "2     0.405844                 0.628        0.143629        1\n",
      "3     0.232339                 0.792        0.902981        2\n",
      "4     0.322393                 0.416        0.083417        1\n",
      "\n",
      "Clusters para datos estandarizados:\n",
      "   Total_Score  Study_Hours_per_Week  Attendance (%)  Cluster\n",
      "0    -1.342726             -1.624627       -1.642560        1\n",
      "1    -1.728976              0.183336        1.526550        2\n",
      "2    -0.335641              0.423456       -1.297326        1\n",
      "3    -0.950097              1.002569        1.377183        2\n",
      "4    -0.631175             -0.325154       -1.509398        1\n"
     ]
    }
   ],
   "source": [
    "# Implementación de K-means utilizando datos normalizados y estandarizados\n",
    "from sklearn.cluster import KMeans\n",
    "\n",
    "# Número de clusters\n",
    "K = 3 # Este valor lo elegimos arbitrariamente en un inicio, pero al usar el metodo del codo determinamos el optimo en 3\n",
    "\n",
    "# Aplicar K-means a los datos normalizados \n",
    "kmeans_normalizados = KMeans(n_clusters=K, random_state=42, n_init=10)\n",
    "kmeans_normalizados.fit(datos_normalizados_df)\n",
    "datos_normalizados_df['Cluster'] = kmeans_normalizados.labels_\n",
    "\n",
    "# Aplicar K-means a los datos estandarizados \n",
    "kmeans_estandarizados = KMeans(n_clusters=K, random_state=42, n_init=10)\n",
    "kmeans_estandarizados.fit(datos_estandarizados_df)\n",
    "datos_estandarizados_df['Cluster'] = kmeans_estandarizados.labels_\n",
    "\n",
    "# Mostrar resultados de los clusters para datos normalizados\n",
    "print(\"Clusters para datos normalizados:\")\n",
    "print(datos_normalizados_df.head())\n",
    "\n",
    "# Mostrar resultados de los clusters para datos estandarizados\n",
    "print(\"\\nClusters para datos estandarizados:\")\n",
    "print(datos_estandarizados_df.head())"
   ]
  },
  {
   "cell_type": "code",
   "execution_count": 22,
   "metadata": {},
   "outputs": [
    {
     "data": {
      "image/png": "[encoded data removed]",
      "text/plain": [
       "<Figure size 800x500 with 1 Axes>"
      ]
     },
     "metadata": {},
     "output_type": "display_data"
    }
   ],
   "source": [
    "# Metodo del Codo para determinar el número óptimo de clusters\n",
    "import matplotlib.pyplot as plt\n",
    "\n",
    "wcss = []  # Within-Cluster Sum of Squares\n",
    "for k in range(1, 11):\n",
    "    kmeans = KMeans(n_clusters=k, random_state=42, n_init=10)\n",
    "    kmeans.fit(datos_normalizados_df)\n",
    "    wcss.append(kmeans.inertia_)\n",
    "\n",
    "# Graficar el método del codo\n",
    "plt.figure(figsize=(8, 5))\n",
    "plt.plot(range(1, 11), wcss, marker='o', linestyle='--')\n",
    "plt.title('Elbow Method for Optimal K')\n",
    "plt.xlabel('Number of Clusters (K)')\n",
    "plt.ylabel('WCSS')\n",
    "plt.xticks(range(1, 11))\n",
    "plt.grid()\n",
    "plt.show()"
   ]
  },
  {
   "cell_type": "code",
   "execution_count": null,
   "metadata": {},
   "outputs": [],
   "source": [
    "# Visualización de los clusters\n",
    "import matplotlib.pyplot as plt\n",
    "import seaborn as sns\n",
    "\n",
    "# Configurar estilo de los gráficos\n",
    "sns.set(style='whitegrid')\n",
    "\n",
    "# Graficar clusters para datos normalizados\n",
    "plt.figure(figsize=(10, 6))\n",
    "sns.scatterplot(\n",
    "    x=datos_normalizados_df['Total_Score'],\n",
    "    y=datos_normalizados_df['Study_Hours_per_Week'],\n",
    "    hue=datos_normalizados_df['Cluster'],\n",
    "    palette='viridis',\n",
    "    legend='full'\n",
    ")\n",
    "plt.title('Clusters para Datos Normalizados')\n",
    "plt.xlabel('Total Score')\n",
    "plt.ylabel('Study Hours per Week')\n",
    "plt.legend(title='Cluster')\n",
    "plt.show()\n",
    "\n",
    "# Graficar clusters para datos estandarizados\n",
    "plt.figure(figsize=(10, 6))\n",
    "sns.scatterplot(\n",
    "    x=datos_estandarizados_df['Total_Score'],\n",
    "    y=datos_estandarizados_df['Study_Hours_per_Week'],\n",
    "    hue=datos_estandarizados_df['Cluster'],\n",
    "    palette='viridis',\n",
    "    legend='full'\n",
    ")\n",
    "plt.title('Clusters para Datos Estandarizados')\n",
    "plt.xlabel('Total Score')\n",
    "plt.ylabel('Study Hours per Week')\n",
    "plt.legend(title='Cluster')\n",
    "plt.show()"
   ]
  }
 ],
 "metadata": {
  "kernelspec": {
   "display_name": "Python 3",
   "language": "python",
   "name": "python3"
  },
  "language_info": {
   "codemirror_mode": {
    "name": "ipython",
    "version": 3
   },
   "file_extension": ".py",
   "mimetype": "text/x-python",
   "name": "python",
   "nbconvert_exporter": "python",
   "pygments_lexer": "ipython3",
   "version": "3.11.9"
  }
 },
 "nbformat": 4,
 "nbformat_minor": 2
}
